{
  "cells": [
    {
      "cell_type": "markdown",
      "metadata": {
        "id": "DDaRDdCoqtie"
      },
      "source": [
        "# REINFORCE for CartPole-v1"
      ]
    },
    {
      "cell_type": "code",
      "execution_count": 1,
      "metadata": {
        "id": "yr-5A6aZghNA"
      },
      "outputs": [],
      "source": [
        "# Import required libraries\n",
        "\n",
        "import argparse\n",
        "import gym\n",
        "import matplotlib.pyplot as plt\n",
        "from matplotlib import animation\n",
        "from IPython.display import HTML\n",
        "import numpy as np\n",
        "from itertools import count\n",
        "from collections import namedtuple\n",
        "\n",
        "import torch\n",
        "import torch.nn as nn\n",
        "import torch.nn.functional as F\n",
        "import torch.optim as optim\n",
        "from torch.distributions import Categorical"
      ]
    },
    {
      "cell_type": "markdown",
      "metadata": {
        "id": "yp1Og4NBp7-u"
      },
      "source": [
        "## Environment Parameters"
      ]
    },
    {
      "cell_type": "code",
      "execution_count": 2,
      "metadata": {
        "colab": {
          "base_uri": "https://localhost:8080/"
        },
        "id": "JNIZX3kGghNB",
        "outputId": "6c6448bd-b688-40f9-d48f-2040d517dc3f"
      },
      "outputs": [
        {
          "name": "stderr",
          "output_type": "stream",
          "text": [
            "/usr/local/lib/python3.10/dist-packages/ipykernel/ipkernel.py:283: DeprecationWarning: `should_run_async` will not call `transform_cell` automatically in the future. Please pass the result to `transformed_cell` argument and any exception that happen during thetransform in `preprocessing_exc_tuple` in IPython 7.17 and above.\n",
            "  and should_run_async(code)\n",
            "/usr/local/lib/python3.10/dist-packages/gym/core.py:317: DeprecationWarning: \u001b[33mWARN: Initializing wrapper in old step API which returns one bool instead of two. It is recommended to set `new_step_api=True` to use new step API. This will be the default behaviour in future.\u001b[0m\n",
            "  deprecation(\n",
            "/usr/local/lib/python3.10/dist-packages/gym/wrappers/step_api_compatibility.py:39: DeprecationWarning: \u001b[33mWARN: Initializing environment in old step API which returns one bool instead of two. It is recommended to set `new_step_api=True` to use new step API. This will be the default behaviour in future.\u001b[0m\n",
            "  deprecation(\n"
          ]
        }
      ],
      "source": [
        "# Set constants for training\n",
        "seed = 974\n",
        "log_interval = 10\n",
        "gamma = 0.99\n",
        "\n",
        "env = gym.make('Acrobot-v1')\n",
        "env.reset(seed=seed)\n",
        "torch.manual_seed(seed)\n",
        "\n",
        "SavedAction = namedtuple('SavedAction', ['log_prob', 'value'])\n",
        "\n",
        "num_i_nodes = 6\n",
        "num_h_nodes = 64\n",
        "num_o_nodes = 3"
      ]
    },
    {
      "cell_type": "markdown",
      "metadata": {
        "id": "pQAbkeX9qCyJ"
      },
      "source": [
        "## Neural Networks for Policy and Value Function"
      ]
    },
    {
      "cell_type": "markdown",
      "metadata": {
        "id": "1OP4Zb0RqGsu"
      },
      "source": [
        "### Policy Neural Network"
      ]
    },
    {
      "cell_type": "code",
      "execution_count": 3,
      "metadata": {
        "id": "EgxavOyKghNC"
      },
      "outputs": [],
      "source": [
        "class Policy(nn.Module):\n",
        "    \"\"\"\n",
        "    Implements the policy network for REINFORCE.\n",
        "    \"\"\"\n",
        "    def __init__(self):\n",
        "        super(Policy, self).__init__()\n",
        "        self.affine1 = nn.Linear(num_i_nodes, num_h_nodes)\n",
        "        # self.dropout = nn.Dropout(0.5)\n",
        "        self.action_head = nn.Linear(num_h_nodes, num_o_nodes)  # Output layer for actions\n",
        "\n",
        "        # Initialize the weights\n",
        "        self.init_weights()\n",
        "\n",
        "        # Action and reward buffer\n",
        "        self.saved_actions = []\n",
        "        self.rewards = []\n",
        "\n",
        "    def init_weights(self):\n",
        "        # Initialize the weights of the linear layers\n",
        "        nn.init.kaiming_normal_(self.affine1.weight, nonlinearity='relu')\n",
        "        # nn.init.xavier_uniform_(self.affine1.weight)\n",
        "        nn.init.constant_(self.affine1.bias, 0)\n",
        "        nn.init.kaiming_normal_(self.action_head.weight, nonlinearity='relu')\n",
        "        # nn.init.xavier_uniform_(self.action_head.weight)\n",
        "        nn.init.constant_(self.action_head.bias, 0)\n",
        "\n",
        "    def forward(self, x):\n",
        "        \"\"\"\n",
        "        Forward pass of the policy network.\n",
        "        \"\"\"\n",
        "        x = F.relu(self.affine1(x))\n",
        "        # x = self.dropout(x) # Apply dropout\n",
        "        action_scores = F.softmax(self.action_head(x), dim=-1)  # Actor: Action probabilities\n",
        "        return action_scores"
      ]
    },
    {
      "cell_type": "markdown",
      "metadata": {
        "id": "WbM0pp4byN66"
      },
      "source": [
        "### Policy Neural Network"
      ]
    },
    {
      "cell_type": "code",
      "execution_count": 4,
      "metadata": {
        "id": "M_3XqHoMghNC"
      },
      "outputs": [],
      "source": [
        "model = Policy()\n",
        "optimizer = optim.Adam(model.parameters(), lr=1e-2)\n",
        "eps = np.finfo(np.float32).eps.item()\n",
        "all_frames = []"
      ]
    },
    {
      "cell_type": "markdown",
      "metadata": {
        "id": "A9q-yww-qTkc"
      },
      "source": [
        "## Training Functions"
      ]
    },
    {
      "cell_type": "markdown",
      "metadata": {
        "id": "H43IuBvDqXa-"
      },
      "source": [
        "### Action"
      ]
    },
    {
      "cell_type": "code",
      "execution_count": 5,
      "metadata": {
        "colab": {
          "base_uri": "https://localhost:8080/"
        },
        "id": "fxnhPP5wghNC",
        "outputId": "8a9b548d-0c3c-48a0-c9f7-2578b1a2164c"
      },
      "outputs": [
        {
          "name": "stderr",
          "output_type": "stream",
          "text": [
            "/usr/local/lib/python3.10/dist-packages/ipykernel/ipkernel.py:283: DeprecationWarning: `should_run_async` will not call `transform_cell` automatically in the future. Please pass the result to `transformed_cell` argument and any exception that happen during thetransform in `preprocessing_exc_tuple` in IPython 7.17 and above.\n",
            "  and should_run_async(code)\n"
          ]
        }
      ],
      "source": [
        "def select_action(state):\n",
        "    \"\"\"\n",
        "    Selects an action from the policy network given the current state.\n",
        "    \"\"\"\n",
        "    state = torch.from_numpy(state).float()\n",
        "    probs = model(state)\n",
        "\n",
        "    # Create a categorical distribution over the list of probabilities of actions\n",
        "    m = Categorical(probs)\n",
        "\n",
        "    # Sample an action using the distribution\n",
        "    action = m.sample()\n",
        "\n",
        "    # Save the log probability and state value in the model's saved_actions\n",
        "    model.saved_actions.append(m.log_prob(action))\n",
        "\n",
        "    # Return the action to take (left or right)\n",
        "    return action.item(), m.log_prob(action)"
      ]
    },
    {
      "cell_type": "markdown",
      "metadata": {
        "id": "fvm6jp8fyTsa"
      },
      "source": [
        "### Returns"
      ]
    },
    {
      "cell_type": "code",
      "execution_count": 6,
      "metadata": {
        "id": "Gd2fIlKvPA3f"
      },
      "outputs": [],
      "source": [
        "def calculate_returns(rewards, discount_factor, normalize = False):\n",
        "\n",
        "    returns = []\n",
        "    R = 0\n",
        "\n",
        "    for r in reversed(rewards):\n",
        "        R = r + R * discount_factor\n",
        "        returns.insert(0, R)\n",
        "\n",
        "    # returns = torch.tensor(returns)\n",
        "\n",
        "    if normalize:\n",
        "        returns = (returns - returns.mean()) / returns.std()\n",
        "\n",
        "    return returns"
      ]
    },
    {
      "cell_type": "markdown",
      "metadata": {
        "id": "1I_qqjUDqceq"
      },
      "source": [
        "### Completion and Updation"
      ]
    },
    {
      "cell_type": "code",
      "execution_count": 7,
      "metadata": {
        "id": "PoSHGfvR2S2T"
      },
      "outputs": [],
      "source": [
        "def finish_episode():\n",
        "    policy_loss = []\n",
        "    returns = calculate_returns(model.rewards, gamma)\n",
        "    for log_prob, G in zip(model.saved_actions, returns):\n",
        "        policy_loss.append(-log_prob * G)  # Compute policy loss only\n",
        "\n",
        "    optimizer.zero_grad()\n",
        "    loss = torch.stack(policy_loss).sum()\n",
        "    loss.backward()\n",
        "    optimizer.step()\n",
        "\n",
        "    del model.rewards[:]\n",
        "    del model.saved_actions[:]\n"
      ]
    },
    {
      "cell_type": "markdown",
      "metadata": {
        "id": "S1KsOyBmqiuX"
      },
      "source": [
        "### Training"
      ]
    },
    {
      "cell_type": "code",
      "execution_count": 8,
      "metadata": {
        "id": "hdUB0QoIghNC"
      },
      "outputs": [],
      "source": [
        "def train():\n",
        "    running_reward = -500  # Initialize running reward\n",
        "\n",
        "    # Keep track of the rewards for plotting\n",
        "    reward_history = []\n",
        "\n",
        "    # Run infinitely many episodes\n",
        "    for episode in range(2000):\n",
        "\n",
        "        # Reset environment and episode reward\n",
        "        state = env.reset()\n",
        "        ep_reward = 0\n",
        "\n",
        "        # For each episode, only run 9999 steps to avoid infinite loop\n",
        "        for t in range(1, 10000):\n",
        "\n",
        "            # Select action from policy\n",
        "            action, log_prob = select_action(state)\n",
        "\n",
        "            # Take the action\n",
        "            state, reward, done, _ = env.step(action)\n",
        "\n",
        "            # Save rewards for this episode\n",
        "            model.rewards.append(reward)\n",
        "            ep_reward += reward\n",
        "\n",
        "            if done:\n",
        "                break\n",
        "\n",
        "        # Update cumulative reward\n",
        "        running_reward = 0.05 * ep_reward + (1 - 0.05) * running_reward\n",
        "\n",
        "        # Store the reward\n",
        "        reward_history.append(running_reward)\n",
        "\n",
        "        # Perform policy update\n",
        "        finish_episode()\n",
        "\n",
        "        # Log results\n",
        "        if episode % log_interval == 0:\n",
        "            print('Episode {}\\tLast reward: {:.2f}\\tAverage reward: {:.2f}'.format(\n",
        "                episode, ep_reward, running_reward))\n",
        "\n",
        "        # Check if the problem is solved\n",
        "        if running_reward > env.spec.reward_threshold:\n",
        "            print(\"Solved! Running reward is now {} and the last episode ({}) runs to {} time steps!\".format(running_reward, episode, t))\n",
        "            break\n",
        "\n",
        "    return reward_history"
      ]
    },
    {
      "cell_type": "markdown",
      "metadata": {
        "id": "HQvCiAzKqk8L"
      },
      "source": [
        "## Commence Training"
      ]
    },
    {
      "cell_type": "code",
      "execution_count": 9,
      "metadata": {
        "colab": {
          "base_uri": "https://localhost:8080/"
        },
        "id": "Jm8z_1TLghND",
        "outputId": "4850a3cb-219f-4dd8-8e5d-82a0da4ab7ba"
      },
      "outputs": [
        {
          "name": "stderr",
          "output_type": "stream",
          "text": [
            "/usr/local/lib/python3.10/dist-packages/gym/utils/passive_env_checker.py:241: DeprecationWarning: `np.bool8` is a deprecated alias for `np.bool_`.  (Deprecated NumPy 1.24)\n",
            "  if not isinstance(terminated, (bool, np.bool8)):\n"
          ]
        },
        {
          "name": "stdout",
          "output_type": "stream",
          "text": [
            "Episode 0\tLast reward: -500.00\tAverage reward: -500.00\n",
            "Episode 10\tLast reward: -125.00\tAverage reward: -361.11\n",
            "Episode 20\tLast reward: -92.00\tAverage reward: -257.73\n",
            "Episode 30\tLast reward: -95.00\tAverage reward: -189.92\n",
            "Episode 40\tLast reward: -101.00\tAverage reward: -152.68\n",
            "Episode 50\tLast reward: -110.00\tAverage reward: -128.43\n",
            "Episode 60\tLast reward: -95.00\tAverage reward: -113.59\n",
            "Episode 70\tLast reward: -92.00\tAverage reward: -107.93\n",
            "Episode 80\tLast reward: -74.00\tAverage reward: -100.29\n",
            "Solved! Running reward is now -99.4739853096782 and the last episode (81) runs to 85 time steps!\n"
          ]
        }
      ],
      "source": [
        "reward_history = train()"
      ]
    },
    {
      "cell_type": "markdown",
      "metadata": {
        "id": "aQcXL98BruAO"
      },
      "source": [
        "## Reward History Plot During Training"
      ]
    },
    {
      "cell_type": "code",
      "execution_count": 12,
      "metadata": {
        "colab": {
          "base_uri": "https://localhost:8080/",
          "height": 472
        },
        "id": "8ykwEUodSzsB",
        "outputId": "66d40721-7265-4533-82c2-6443bbb7bed4"
      },
      "outputs": [
        {
          "data": {
            "image/png": "[encoded data removed]",
            "text/plain": [
              "<Figure size 640x480 with 1 Axes>"
            ]
          },
          "metadata": {},
          "output_type": "display_data"
        }
      ],
      "source": [
        "# Plot the reward history\n",
        "\n",
        "plt.plot(reward_history)\n",
        "plt.title('Reward history in Acrobot-v1')\n",
        "plt.xlabel('Episode')\n",
        "plt.ylabel('Reward')\n",
        "plt.legend(['Running Reward'])\n",
        "plt.show()"
      ]
    },
    {
      "cell_type": "markdown",
      "metadata": {
        "id": "D-y2b0QAqpka"
      },
      "source": [
        "## Save Model"
      ]
    },
    {
      "cell_type": "code",
      "execution_count": 13,
      "metadata": {
        "id": "DhRvdREXs90I"
      },
      "outputs": [],
      "source": [
        "torch.save(model, 'REINFORCE_Acrobot_v1.pth')"
      ]
    },
    {
      "cell_type": "markdown",
      "metadata": {
        "id": "bHgSD4Qh_2ci"
      },
      "source": [
        "## Evaluation of the Model"
      ]
    },
    {
      "cell_type": "code",
      "execution_count": null,
      "metadata": {
        "id": "P3mrVbxZ_x4M"
      },
      "outputs": [],
      "source": [
        "# Evaluate the policy using total regret\n",
        "\n",
        "def calculate_total_regret(episodes):\n",
        "    \"\"\"\n",
        "    Evaluate the policy using total regret.\n",
        "    \"\"\"\n",
        "    total_regret = 0\n",
        "\n",
        "    # Use reward history to calculate total regret\n",
        "    for reward in reward_history:\n",
        "        total_regret += env.spec.reward_threshold - reward\n",
        "\n",
        "    return total_regret"
      ]
    },
    {
      "cell_type": "markdown",
      "metadata": {
        "id": "mzUDGHAM-6Ju"
      },
      "source": [
        "## Hyperparameter Tuning"
      ]
    },
    {
      "cell_type": "code",
      "execution_count": null,
      "metadata": {
        "colab": {
          "base_uri": "https://localhost:8080/",
          "height": 1000
        },
        "id": "VNOj7EJDQxkb",
        "outputId": "d2e92699-06e4-44ca-e4d3-f68879ea9b94"
      },
      "outputs": [],
      "source": [
        "# Hyperparameter tuning\n",
        "\n",
        "# Set the hyperparameters\n",
        "hyperparameters = {\n",
        "    'lr': [1e-2, 1e-3, 1e-4],\n",
        "    'num_h_nodes': [32, 64, 128]\n",
        "}\n",
        "\n",
        "env.reset(seed=seed)\n",
        "torch.manual_seed(seed)\n",
        "log_interval = 10\n",
        "episodes = 2000\n",
        "best_total_regret = float('inf')\n",
        "best_hyperparameters = {}\n",
        "best_episodes = 2000\n",
        "regret_storage = []\n",
        "reward_history_storage = np.zeros((len(hyperparameters['lr']), len(hyperparameters['num_h_nodes']), episodes))\n",
        "\n",
        "# Loop through the hyperparameters\n",
        "for lr in hyperparameters['lr']:\n",
        "    for num_h_nodes in hyperparameters['num_h_nodes']:\n",
        "\n",
        "        # Set the hyperparameters\n",
        "        model = Policy()\n",
        "        optimizer = optim.Adam(model.parameters(), lr=lr)\n",
        "\n",
        "        # Train the model\n",
        "        reward_history = train(episodes)\n",
        "        len_episodes = len(reward_history)\n",
        "        reward_history += [env.spec.reward_threshold] * (episodes - len(reward_history))\n",
        "        reward_history_storage[hyperparameters['lr'].index(lr), hyperparameters['num_h_nodes'].index(num_h_nodes), :] = reward_history\n",
        "\n",
        "        # Calculate the total regret\n",
        "        total_regret = calculate_total_regret(episodes)\n",
        "\n",
        "        # Store the total regret\n",
        "        regret_storage.append([lr, num_h_nodes, total_regret])\n",
        "\n",
        "        # Check if this is the best total regret\n",
        "        if total_regret < best_total_regret:\n",
        "            best_total_regret = total_regret\n",
        "            best_hyperparameters = {'lr': lr, 'num_h_nodes': num_h_nodes}\n",
        "            best_episodes = len_episodes"
      ]
    },
    {
      "cell_type": "code",
      "execution_count": null,
      "metadata": {
        "colab": {
          "base_uri": "https://localhost:8080/"
        },
        "id": "0Vla7K5OQ4qB",
        "outputId": "530154f6-4084-4c20-8d78-b3627bdf4d90"
      },
      "outputs": [
        {
          "name": "stdout",
          "output_type": "stream",
          "text": [
            "Best hyperparameters: {'lr': 0.01, 'num_h_nodes': 64}\n",
            "Best total regret: 272693.2173361074\n"
          ]
        }
      ],
      "source": [
        "# Print the best hyperparameters\n",
        "print('Best hyperparameters:', best_hyperparameters)\n",
        "print('Best total regret:', best_total_regret)"
      ]
    },
    {
      "cell_type": "code",
      "execution_count": null,
      "metadata": {
        "colab": {
          "base_uri": "https://localhost:8080/",
          "height": 472
        },
        "id": "4NdNIIEVQ5RS",
        "outputId": "3467c7bd-f791-49c0-c450-47c719257d72"
      },
      "outputs": [
        {
          "data": {
            "image/png": "[encoded data removed]",
            "text/plain": [
              "<Figure size 640x480 with 1 Axes>"
            ]
          },
          "metadata": {},
          "output_type": "display_data"
        }
      ],
      "source": [
        "# Plot the reward history for the best hyperparameters\n",
        "\n",
        "plt.plot(reward_history_storage[hyperparameters['lr'].index(best_hyperparameters['lr']), hyperparameters['num_h_nodes'].index(best_hyperparameters['num_h_nodes']), :best_episodes])\n",
        "plt.title('Reward history for the best hyperparameters')\n",
        "plt.xlabel('Episode')\n",
        "plt.ylabel('Reward')\n",
        "plt.legend(['lr: {}, num_h_nodes: {}'.format(best_hyperparameters['lr'], best_hyperparameters['num_h_nodes'])])\n",
        "plt.show()"
      ]
    }
  ],
  "metadata": {
    "colab": {
      "provenance": []
    },
    "kernelspec": {
      "display_name": "Python 3",
      "language": "python",
      "name": "python3"
    },
    "language_info": {
      "codemirror_mode": {
        "name": "ipython",
        "version": 3
      },
      "file_extension": ".py",
      "mimetype": "text/x-python",
      "name": "python",
      "nbconvert_exporter": "python",
      "pygments_lexer": "ipython3",
      "version": "3.11.2"
    }
  },
  "nbformat": 4,
  "nbformat_minor": 0
}
