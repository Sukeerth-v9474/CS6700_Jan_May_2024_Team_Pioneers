{
  "cells": [
    {
      "cell_type": "markdown",
      "metadata": {
        "id": "DDaRDdCoqtie"
      },
      "source": [
        "# REINFORCE for CartPole-v1"
      ]
    },
    {
      "cell_type": "code",
      "execution_count": 1,
      "metadata": {
        "id": "yr-5A6aZghNA"
      },
      "outputs": [],
      "source": [
        "# Import required libraries\n",
        "\n",
        "import argparse\n",
        "import gym\n",
        "import matplotlib.pyplot as plt\n",
        "from matplotlib import animation\n",
        "from IPython.display import HTML\n",
        "import numpy as np\n",
        "from itertools import count\n",
        "from collections import namedtuple\n",
        "\n",
        "import torch\n",
        "import torch.nn as nn\n",
        "import torch.nn.functional as F\n",
        "import torch.optim as optim\n",
        "from torch.distributions import Categorical"
      ]
    },
    {
      "cell_type": "markdown",
      "metadata": {
        "id": "yp1Og4NBp7-u"
      },
      "source": [
        "## Environment Parameters"
      ]
    },
    {
      "cell_type": "code",
      "execution_count": 2,
      "metadata": {
        "colab": {
          "base_uri": "https://localhost:8080/"
        },
        "id": "JNIZX3kGghNB",
        "outputId": "ac823886-418b-4a17-cc86-9704db1455f2"
      },
      "outputs": [
        {
          "name": "stderr",
          "output_type": "stream",
          "text": [
            "/usr/local/lib/python3.10/dist-packages/ipykernel/ipkernel.py:283: DeprecationWarning: `should_run_async` will not call `transform_cell` automatically in the future. Please pass the result to `transformed_cell` argument and any exception that happen during thetransform in `preprocessing_exc_tuple` in IPython 7.17 and above.\n",
            "  and should_run_async(code)\n",
            "/usr/local/lib/python3.10/dist-packages/gym/core.py:317: DeprecationWarning: \u001b[33mWARN: Initializing wrapper in old step API which returns one bool instead of two. It is recommended to set `new_step_api=True` to use new step API. This will be the default behaviour in future.\u001b[0m\n",
            "  deprecation(\n",
            "/usr/local/lib/python3.10/dist-packages/gym/wrappers/step_api_compatibility.py:39: DeprecationWarning: \u001b[33mWARN: Initializing environment in old step API which returns one bool instead of two. It is recommended to set `new_step_api=True` to use new step API. This will be the default behaviour in future.\u001b[0m\n",
            "  deprecation(\n"
          ]
        }
      ],
      "source": [
        "# Set constants for training\n",
        "seed = 974\n",
        "log_interval = 10\n",
        "gamma = 0.99\n",
        "\n",
        "env = gym.make('CartPole-v1')\n",
        "env.reset(seed=seed)\n",
        "torch.manual_seed(seed)\n",
        "\n",
        "SavedAction = namedtuple('SavedAction', ['log_prob', 'value'])\n",
        "\n",
        "num_i_nodes = 4\n",
        "num_h_nodes = 64\n",
        "num_o_nodes = 2"
      ]
    },
    {
      "cell_type": "markdown",
      "metadata": {
        "id": "pQAbkeX9qCyJ"
      },
      "source": [
        "## Neural Networks for Policy and Value Function"
      ]
    },
    {
      "cell_type": "markdown",
      "metadata": {
        "id": "1OP4Zb0RqGsu"
      },
      "source": [
        "### Policy Neural Network"
      ]
    },
    {
      "cell_type": "code",
      "execution_count": 3,
      "metadata": {
        "id": "EgxavOyKghNC"
      },
      "outputs": [],
      "source": [
        "class Policy(nn.Module):\n",
        "    \"\"\"\n",
        "    Implements the policy network for REINFORCE.\n",
        "    \"\"\"\n",
        "    def __init__(self):\n",
        "        super(Policy, self).__init__()\n",
        "        self.affine1 = nn.Linear(num_i_nodes, num_h_nodes)\n",
        "        # self.dropout = nn.Dropout(0.5)\n",
        "        self.action_head = nn.Linear(num_h_nodes, num_o_nodes)  # Output layer for actions\n",
        "\n",
        "        # Initialize the weights\n",
        "        self.init_weights()\n",
        "\n",
        "        # Action and reward buffer\n",
        "        self.saved_actions = []\n",
        "        self.rewards = []\n",
        "\n",
        "    def init_weights(self):\n",
        "        # Initialize the weights of the linear layers\n",
        "        nn.init.kaiming_normal_(self.affine1.weight, nonlinearity='relu')\n",
        "        # nn.init.xavier_uniform_(self.affine1.weight)\n",
        "        nn.init.constant_(self.affine1.bias, 0)\n",
        "        nn.init.kaiming_normal_(self.action_head.weight, nonlinearity='relu')\n",
        "        # nn.init.xavier_uniform_(self.action_head.weight)\n",
        "        nn.init.constant_(self.action_head.bias, 0)\n",
        "\n",
        "    def forward(self, x):\n",
        "        \"\"\"\n",
        "        Forward pass of the policy network.\n",
        "        \"\"\"\n",
        "        x = F.relu(self.affine1(x))\n",
        "        # x = self.dropout(x) # Apply dropout\n",
        "        action_scores = F.softmax(self.action_head(x), dim=-1)  # Actor: Action probabilities\n",
        "        return action_scores"
      ]
    },
    {
      "cell_type": "markdown",
      "metadata": {
        "id": "WbM0pp4byN66"
      },
      "source": [
        "### Policy Neural Network"
      ]
    },
    {
      "cell_type": "code",
      "execution_count": 4,
      "metadata": {
        "id": "M_3XqHoMghNC"
      },
      "outputs": [],
      "source": [
        "model = Policy()\n",
        "optimizer = optim.Adam(model.parameters(), lr=1e-2)\n",
        "eps = np.finfo(np.float32).eps.item()\n",
        "all_frames = []"
      ]
    },
    {
      "cell_type": "markdown",
      "metadata": {
        "id": "A9q-yww-qTkc"
      },
      "source": [
        "## Training Functions"
      ]
    },
    {
      "cell_type": "markdown",
      "metadata": {
        "id": "H43IuBvDqXa-"
      },
      "source": [
        "### Action"
      ]
    },
    {
      "cell_type": "code",
      "execution_count": 5,
      "metadata": {
        "colab": {
          "base_uri": "https://localhost:8080/"
        },
        "id": "fxnhPP5wghNC",
        "outputId": "54a575b1-8f95-4836-a2e7-b46fc3af68b8"
      },
      "outputs": [
        {
          "name": "stderr",
          "output_type": "stream",
          "text": [
            "/usr/local/lib/python3.10/dist-packages/ipykernel/ipkernel.py:283: DeprecationWarning: `should_run_async` will not call `transform_cell` automatically in the future. Please pass the result to `transformed_cell` argument and any exception that happen during thetransform in `preprocessing_exc_tuple` in IPython 7.17 and above.\n",
            "  and should_run_async(code)\n"
          ]
        }
      ],
      "source": [
        "def select_action(state):\n",
        "    \"\"\"\n",
        "    Selects an action from the policy network given the current state.\n",
        "    \"\"\"\n",
        "    state = torch.from_numpy(state).float()\n",
        "    probs = model(state)\n",
        "\n",
        "    # Create a categorical distribution over the list of probabilities of actions\n",
        "    m = Categorical(probs)\n",
        "\n",
        "    # Sample an action using the distribution\n",
        "    action = m.sample()\n",
        "\n",
        "    # Save the log probability and state value in the model's saved_actions\n",
        "    model.saved_actions.append(m.log_prob(action))\n",
        "\n",
        "    # Return the action to take (left or right)\n",
        "    return action.item(), m.log_prob(action)"
      ]
    },
    {
      "cell_type": "markdown",
      "metadata": {
        "id": "fvm6jp8fyTsa"
      },
      "source": [
        "### Returns"
      ]
    },
    {
      "cell_type": "code",
      "execution_count": 6,
      "metadata": {
        "id": "Gd2fIlKvPA3f"
      },
      "outputs": [],
      "source": [
        "def calculate_returns(rewards, discount_factor, normalize = False):\n",
        "\n",
        "    returns = []\n",
        "    R = 0\n",
        "\n",
        "    for r in reversed(rewards):\n",
        "        R = r + R * discount_factor\n",
        "        returns.insert(0, R)\n",
        "\n",
        "    # returns = torch.tensor(returns)\n",
        "\n",
        "    if normalize:\n",
        "        returns = (returns - returns.mean()) / returns.std()\n",
        "\n",
        "    return returns"
      ]
    },
    {
      "cell_type": "markdown",
      "metadata": {
        "id": "1I_qqjUDqceq"
      },
      "source": [
        "### Completion and Updation"
      ]
    },
    {
      "cell_type": "code",
      "execution_count": 7,
      "metadata": {
        "id": "PoSHGfvR2S2T"
      },
      "outputs": [],
      "source": [
        "def finish_episode():\n",
        "    policy_loss = []\n",
        "    returns = calculate_returns(model.rewards, gamma)\n",
        "    for log_prob, G in zip(model.saved_actions, returns):\n",
        "        policy_loss.append(-log_prob * G)  # Compute policy loss only\n",
        "\n",
        "    optimizer.zero_grad()\n",
        "    loss = torch.stack(policy_loss).sum()\n",
        "    loss.backward()\n",
        "    optimizer.step()\n",
        "\n",
        "    del model.rewards[:]\n",
        "    del model.saved_actions[:]\n"
      ]
    },
    {
      "cell_type": "markdown",
      "metadata": {
        "id": "S1KsOyBmqiuX"
      },
      "source": [
        "### Training"
      ]
    },
    {
      "cell_type": "code",
      "execution_count": 8,
      "metadata": {
        "id": "hdUB0QoIghNC"
      },
      "outputs": [],
      "source": [
        "def train(episodes):\n",
        "    running_reward = 10  # Initialize running reward\n",
        "\n",
        "    # Keep track of the rewards for plotting\n",
        "    reward_history = []\n",
        "\n",
        "    # Run infinitely many episodes\n",
        "    for episode in range(episodes):\n",
        "\n",
        "        # Reset environment and episode reward\n",
        "        state = env.reset()\n",
        "        ep_reward = 0\n",
        "\n",
        "        # For each episode, only run 9999 steps to avoid infinite loop\n",
        "        for t in range(1, 10000):\n",
        "\n",
        "            # Select action from policy\n",
        "            action, log_prob = select_action(state)\n",
        "\n",
        "            # Take the action\n",
        "            state, reward, done, _ = env.step(action)\n",
        "\n",
        "            # Save rewards for this episode\n",
        "            model.rewards.append(reward)\n",
        "            ep_reward += reward\n",
        "\n",
        "            if done:\n",
        "                break\n",
        "\n",
        "        # Update cumulative reward\n",
        "        running_reward = 0.05 * ep_reward + (1 - 0.05) * running_reward\n",
        "\n",
        "        # Store the reward\n",
        "        reward_history.append(running_reward)\n",
        "\n",
        "        # Perform policy update\n",
        "        finish_episode()\n",
        "\n",
        "        # Log results\n",
        "        if episode % log_interval == 0:\n",
        "            print('Episode {}\\tLast reward: {:.2f}\\tAverage reward: {:.2f}'.format(\n",
        "                episode, ep_reward, running_reward))\n",
        "\n",
        "        # Check if the problem is solved\n",
        "        if running_reward > env.spec.reward_threshold:\n",
        "            print(\"Solved! Running reward is now {} and the last episode ({}) runs to {} time steps!\".format(running_reward, episode, t))\n",
        "            break\n",
        "\n",
        "    return reward_history"
      ]
    },
    {
      "cell_type": "markdown",
      "metadata": {
        "id": "HQvCiAzKqk8L"
      },
      "source": [
        "## Commence Training"
      ]
    },
    {
      "cell_type": "code",
      "execution_count": 9,
      "metadata": {
        "colab": {
          "base_uri": "https://localhost:8080/"
        },
        "id": "Jm8z_1TLghND",
        "outputId": "364e05f0-fc7c-42ef-b1c0-c99972e53962"
      },
      "outputs": [
        {
          "name": "stderr",
          "output_type": "stream",
          "text": [
            "/usr/local/lib/python3.10/dist-packages/gym/utils/passive_env_checker.py:241: DeprecationWarning: `np.bool8` is a deprecated alias for `np.bool_`.  (Deprecated NumPy 1.24)\n",
            "  if not isinstance(terminated, (bool, np.bool8)):\n"
          ]
        },
        {
          "name": "stdout",
          "output_type": "stream",
          "text": [
            "Episode 0\tLast reward: 12.00\tAverage reward: 10.10\n",
            "Episode 10\tLast reward: 39.00\tAverage reward: 19.10\n",
            "Episode 20\tLast reward: 56.00\tAverage reward: 33.14\n",
            "Episode 30\tLast reward: 80.00\tAverage reward: 49.15\n",
            "Episode 40\tLast reward: 65.00\tAverage reward: 58.26\n",
            "Episode 50\tLast reward: 120.00\tAverage reward: 80.02\n",
            "Episode 60\tLast reward: 106.00\tAverage reward: 90.52\n",
            "Episode 70\tLast reward: 239.00\tAverage reward: 143.33\n",
            "Episode 80\tLast reward: 118.00\tAverage reward: 161.13\n",
            "Episode 90\tLast reward: 81.00\tAverage reward: 138.92\n",
            "Episode 100\tLast reward: 254.00\tAverage reward: 166.91\n",
            "Episode 110\tLast reward: 140.00\tAverage reward: 236.69\n",
            "Episode 120\tLast reward: 45.00\tAverage reward: 174.90\n",
            "Episode 130\tLast reward: 36.00\tAverage reward: 125.79\n",
            "Episode 140\tLast reward: 61.00\tAverage reward: 97.80\n",
            "Episode 150\tLast reward: 41.00\tAverage reward: 80.26\n",
            "Episode 160\tLast reward: 58.00\tAverage reward: 72.26\n",
            "Episode 170\tLast reward: 40.00\tAverage reward: 67.40\n",
            "Episode 180\tLast reward: 50.00\tAverage reward: 65.32\n",
            "Episode 190\tLast reward: 62.00\tAverage reward: 60.97\n",
            "Episode 200\tLast reward: 57.00\tAverage reward: 60.72\n",
            "Episode 210\tLast reward: 53.00\tAverage reward: 62.97\n",
            "Episode 220\tLast reward: 40.00\tAverage reward: 63.01\n",
            "Episode 230\tLast reward: 43.00\tAverage reward: 66.21\n",
            "Episode 240\tLast reward: 70.00\tAverage reward: 69.21\n",
            "Episode 250\tLast reward: 81.00\tAverage reward: 74.25\n",
            "Episode 260\tLast reward: 72.00\tAverage reward: 78.04\n",
            "Episode 270\tLast reward: 68.00\tAverage reward: 82.58\n",
            "Episode 280\tLast reward: 72.00\tAverage reward: 79.43\n",
            "Episode 290\tLast reward: 56.00\tAverage reward: 80.22\n",
            "Episode 300\tLast reward: 154.00\tAverage reward: 87.94\n",
            "Episode 310\tLast reward: 119.00\tAverage reward: 105.45\n",
            "Episode 320\tLast reward: 128.00\tAverage reward: 118.11\n",
            "Episode 330\tLast reward: 82.00\tAverage reward: 130.90\n",
            "Episode 340\tLast reward: 83.00\tAverage reward: 124.78\n",
            "Episode 350\tLast reward: 107.00\tAverage reward: 118.28\n",
            "Episode 360\tLast reward: 143.00\tAverage reward: 123.20\n",
            "Episode 370\tLast reward: 132.00\tAverage reward: 132.79\n",
            "Episode 380\tLast reward: 139.00\tAverage reward: 137.37\n",
            "Episode 390\tLast reward: 98.00\tAverage reward: 130.87\n",
            "Episode 400\tLast reward: 127.00\tAverage reward: 126.77\n",
            "Episode 410\tLast reward: 151.00\tAverage reward: 136.46\n",
            "Episode 420\tLast reward: 175.00\tAverage reward: 144.17\n",
            "Episode 430\tLast reward: 115.00\tAverage reward: 140.98\n",
            "Episode 440\tLast reward: 70.00\tAverage reward: 122.54\n",
            "Episode 450\tLast reward: 91.00\tAverage reward: 113.09\n",
            "Episode 460\tLast reward: 84.00\tAverage reward: 109.17\n",
            "Episode 470\tLast reward: 77.00\tAverage reward: 103.16\n",
            "Episode 480\tLast reward: 159.00\tAverage reward: 110.21\n",
            "Episode 490\tLast reward: 102.00\tAverage reward: 125.31\n",
            "Episode 500\tLast reward: 127.00\tAverage reward: 137.90\n",
            "Episode 510\tLast reward: 125.00\tAverage reward: 135.11\n",
            "Episode 520\tLast reward: 149.00\tAverage reward: 133.03\n",
            "Episode 530\tLast reward: 250.00\tAverage reward: 144.91\n",
            "Episode 540\tLast reward: 127.00\tAverage reward: 150.47\n",
            "Episode 550\tLast reward: 165.00\tAverage reward: 167.80\n",
            "Episode 560\tLast reward: 162.00\tAverage reward: 181.00\n",
            "Episode 570\tLast reward: 181.00\tAverage reward: 199.19\n",
            "Episode 580\tLast reward: 308.00\tAverage reward: 220.67\n",
            "Episode 590\tLast reward: 396.00\tAverage reward: 280.04\n",
            "Episode 600\tLast reward: 193.00\tAverage reward: 301.54\n",
            "Episode 610\tLast reward: 500.00\tAverage reward: 335.16\n",
            "Episode 620\tLast reward: 367.00\tAverage reward: 349.04\n",
            "Episode 630\tLast reward: 339.00\tAverage reward: 378.27\n",
            "Episode 640\tLast reward: 348.00\tAverage reward: 351.29\n",
            "Episode 650\tLast reward: 269.00\tAverage reward: 359.44\n",
            "Episode 660\tLast reward: 184.00\tAverage reward: 291.11\n",
            "Episode 670\tLast reward: 213.00\tAverage reward: 255.99\n",
            "Episode 680\tLast reward: 500.00\tAverage reward: 323.22\n",
            "Episode 690\tLast reward: 500.00\tAverage reward: 393.85\n",
            "Episode 700\tLast reward: 500.00\tAverage reward: 436.44\n",
            "Episode 710\tLast reward: 500.00\tAverage reward: 461.95\n",
            "Episode 720\tLast reward: 356.00\tAverage reward: 452.35\n",
            "Episode 730\tLast reward: 274.00\tAverage reward: 383.55\n",
            "Episode 740\tLast reward: 256.00\tAverage reward: 335.16\n",
            "Episode 750\tLast reward: 440.00\tAverage reward: 343.10\n",
            "Episode 760\tLast reward: 193.00\tAverage reward: 315.38\n",
            "Episode 770\tLast reward: 169.00\tAverage reward: 261.04\n",
            "Episode 780\tLast reward: 177.00\tAverage reward: 228.72\n",
            "Episode 790\tLast reward: 183.00\tAverage reward: 209.69\n",
            "Episode 800\tLast reward: 179.00\tAverage reward: 196.77\n",
            "Episode 810\tLast reward: 196.00\tAverage reward: 192.61\n",
            "Episode 820\tLast reward: 201.00\tAverage reward: 193.96\n",
            "Episode 830\tLast reward: 210.00\tAverage reward: 195.78\n",
            "Episode 840\tLast reward: 237.00\tAverage reward: 207.11\n",
            "Episode 850\tLast reward: 299.00\tAverage reward: 231.50\n",
            "Episode 860\tLast reward: 329.00\tAverage reward: 264.71\n",
            "Episode 870\tLast reward: 312.00\tAverage reward: 286.29\n",
            "Episode 880\tLast reward: 259.00\tAverage reward: 285.41\n",
            "Episode 890\tLast reward: 256.00\tAverage reward: 268.09\n",
            "Episode 900\tLast reward: 307.00\tAverage reward: 273.35\n",
            "Episode 910\tLast reward: 339.00\tAverage reward: 292.62\n",
            "Episode 920\tLast reward: 472.00\tAverage reward: 324.23\n",
            "Episode 930\tLast reward: 500.00\tAverage reward: 394.76\n",
            "Episode 940\tLast reward: 500.00\tAverage reward: 436.99\n",
            "Episode 950\tLast reward: 500.00\tAverage reward: 462.27\n",
            "Solved! Running reward is now 476.2219650582444 and the last episode (959) runs to 500 time steps!\n"
          ]
        }
      ],
      "source": [
        "reward_history = train(2000)"
      ]
    },
    {
      "cell_type": "markdown",
      "metadata": {
        "id": "aQcXL98BruAO"
      },
      "source": [
        "## Reward History Plot During Training"
      ]
    },
    {
      "cell_type": "code",
      "execution_count": 10,
      "metadata": {
        "colab": {
          "base_uri": "https://localhost:8080/",
          "height": 472
        },
        "id": "8ykwEUodSzsB",
        "outputId": "75fc0118-b169-49be-fb87-148330d0697f"
      },
      "outputs": [
        {
          "data": {
            "image/png": "[encoded data removed]",
            "text/plain": [
              "<Figure size 640x480 with 1 Axes>"
            ]
          },
          "metadata": {},
          "output_type": "display_data"
        }
      ],
      "source": [
        "# Plot the reward history\n",
        "\n",
        "plt.plot(reward_history)\n",
        "plt.title('Reward history in CartPole-v1')\n",
        "plt.xlabel('Episode')\n",
        "plt.ylabel('Reward')\n",
        "plt.legend(['Running Reward'])\n",
        "plt.show()"
      ]
    },
    {
      "cell_type": "markdown",
      "metadata": {
        "id": "D-y2b0QAqpka"
      },
      "source": [
        "## Save Model"
      ]
    },
    {
      "cell_type": "code",
      "execution_count": 11,
      "metadata": {
        "id": "DhRvdREXs90I"
      },
      "outputs": [],
      "source": [
        "torch.save(model, 'REINFORCE_CartPole_v1.pth')"
      ]
    },
    {
      "cell_type": "markdown",
      "metadata": {
        "id": "bHgSD4Qh_2ci"
      },
      "source": [
        "## Evaluation of the Model"
      ]
    },
    {
      "cell_type": "code",
      "execution_count": 12,
      "metadata": {
        "id": "P3mrVbxZ_x4M"
      },
      "outputs": [],
      "source": [
        "# Evaluate the policy using total regret\n",
        "\n",
        "def calculate_total_regret(episodes):\n",
        "    \"\"\"\n",
        "    Evaluate the policy using total regret.\n",
        "    \"\"\"\n",
        "    total_regret = 0\n",
        "\n",
        "    # Use reward history to calculate total regret\n",
        "    for reward in reward_history:\n",
        "        total_regret += env.spec.reward_threshold - reward\n",
        "\n",
        "    return total_regret"
      ]
    },
    {
      "cell_type": "markdown",
      "metadata": {
        "id": "mzUDGHAM-6Ju"
      },
      "source": [
        "## Hyperparameter Tuning"
      ]
    },
    {
      "cell_type": "code",
      "execution_count": null,
      "metadata": {
        "colab": {
          "base_uri": "https://localhost:8080/",
          "height": 1000
        },
        "id": "VNOj7EJDQxkb",
        "outputId": "d2e92699-06e4-44ca-e4d3-f68879ea9b94"
      },
      "outputs": [],
      "source": [
        "# Hyperparameter tuning\n",
        "\n",
        "# Set the hyperparameters\n",
        "hyperparameters = {\n",
        "    'lr': [1e-2, 1e-3, 1e-4],\n",
        "    'num_h_nodes': [32, 64, 128]\n",
        "}\n",
        "\n",
        "env.reset(seed=seed)\n",
        "torch.manual_seed(seed)\n",
        "log_interval = 10\n",
        "episodes = 2000\n",
        "best_total_regret = float('inf')\n",
        "best_hyperparameters = {}\n",
        "best_episodes = 2000\n",
        "regret_storage = []\n",
        "reward_history_storage = np.zeros((len(hyperparameters['lr']), len(hyperparameters['num_h_nodes']), episodes))\n",
        "\n",
        "# Loop through the hyperparameters\n",
        "for lr in hyperparameters['lr']:\n",
        "    for num_h_nodes in hyperparameters['num_h_nodes']:\n",
        "\n",
        "        # Set the hyperparameters\n",
        "        model = Policy()\n",
        "        optimizer = optim.Adam(model.parameters(), lr=lr)\n",
        "\n",
        "        # Train the model\n",
        "        reward_history = train(episodes)\n",
        "        len_episodes = len(reward_history)\n",
        "        reward_history += [env.spec.reward_threshold] * (episodes - len(reward_history))\n",
        "        reward_history_storage[hyperparameters['lr'].index(lr), hyperparameters['num_h_nodes'].index(num_h_nodes), :] = reward_history\n",
        "\n",
        "        # Calculate the total regret\n",
        "        total_regret = calculate_total_regret(episodes)\n",
        "\n",
        "        # Store the total regret\n",
        "        regret_storage.append([lr, num_h_nodes, total_regret])\n",
        "\n",
        "        # Check if this is the best total regret\n",
        "        if total_regret < best_total_regret:\n",
        "            best_total_regret = total_regret\n",
        "            best_hyperparameters = {'lr': lr, 'num_h_nodes': num_h_nodes}\n",
        "            best_episodes = len_episodes"
      ]
    },
    {
      "cell_type": "code",
      "execution_count": 17,
      "metadata": {
        "colab": {
          "base_uri": "https://localhost:8080/"
        },
        "id": "0Vla7K5OQ4qB",
        "outputId": "530154f6-4084-4c20-8d78-b3627bdf4d90"
      },
      "outputs": [
        {
          "name": "stdout",
          "output_type": "stream",
          "text": [
            "Best hyperparameters: {'lr': 0.01, 'num_h_nodes': 64}\n",
            "Best total regret: 272693.2173361074\n"
          ]
        }
      ],
      "source": [
        "# Print the best hyperparameters\n",
        "print('Best hyperparameters:', best_hyperparameters)\n",
        "print('Best total regret:', best_total_regret)"
      ]
    },
    {
      "cell_type": "code",
      "execution_count": 18,
      "metadata": {
        "colab": {
          "base_uri": "https://localhost:8080/",
          "height": 472
        },
        "id": "4NdNIIEVQ5RS",
        "outputId": "3467c7bd-f791-49c0-c450-47c719257d72"
      },
      "outputs": [
        {
          "data": {
            "image/png": "[encoded data removed]",
            "text/plain": [
              "<Figure size 640x480 with 1 Axes>"
            ]
          },
          "metadata": {},
          "output_type": "display_data"
        }
      ],
      "source": [
        "# Plot the reward history for the best hyperparameters\n",
        "\n",
        "plt.plot(reward_history_storage[hyperparameters['lr'].index(best_hyperparameters['lr']), hyperparameters['num_h_nodes'].index(best_hyperparameters['num_h_nodes']), :best_episodes])\n",
        "plt.title('Reward history for the best hyperparameters')\n",
        "plt.xlabel('Episode')\n",
        "plt.ylabel('Reward')\n",
        "plt.legend(['lr: {}, num_h_nodes: {}'.format(best_hyperparameters['lr'], best_hyperparameters['num_h_nodes'])])\n",
        "plt.show()"
      ]
    },
    {
      "cell_type": "code",
      "execution_count": null,
      "metadata": {
        "id": "bUmn1tWeT98a"
      },
      "outputs": [],
      "source": []
    }
  ],
  "metadata": {
    "colab": {
      "provenance": []
    },
    "kernelspec": {
      "display_name": "Python 3",
      "language": "python",
      "name": "python3"
    },
    "language_info": {
      "codemirror_mode": {
        "name": "ipython",
        "version": 3
      },
      "file_extension": ".py",
      "mimetype": "text/x-python",
      "name": "python",
      "nbconvert_exporter": "python",
      "pygments_lexer": "ipython3",
      "version": "3.11.2"
    }
  },
  "nbformat": 4,
  "nbformat_minor": 0
}
