{
  "cells": [
    {
      "cell_type": "markdown",
      "metadata": {
        "id": "DDaRDdCoqtie"
      },
      "source": [
        "# REINFORCE with Baseline as Value Function for CartPole-v1"
      ]
    },
    {
      "cell_type": "code",
      "execution_count": 1,
      "metadata": {
        "id": "yr-5A6aZghNA"
      },
      "outputs": [],
      "source": [
        "# Import required libraries\n",
        "\n",
        "import argparse\n",
        "import gym\n",
        "import matplotlib.pyplot as plt\n",
        "from matplotlib import animation\n",
        "from IPython.display import HTML\n",
        "import numpy as np\n",
        "from itertools import count\n",
        "from collections import namedtuple\n",
        "\n",
        "import torch\n",
        "import torch.nn as nn\n",
        "import torch.nn.functional as F\n",
        "import torch.optim as optim\n",
        "from torch.distributions import Categorical"
      ]
    },
    {
      "cell_type": "markdown",
      "metadata": {
        "id": "yp1Og4NBp7-u"
      },
      "source": [
        "## Environment Parameters"
      ]
    },
    {
      "cell_type": "code",
      "execution_count": 2,
      "metadata": {
        "colab": {
          "base_uri": "https://localhost:8080/"
        },
        "id": "JNIZX3kGghNB",
        "outputId": "417e84a4-1341-45a0-841a-60530df70ef6"
      },
      "outputs": [
        {
          "name": "stderr",
          "output_type": "stream",
          "text": [
            "/usr/local/lib/python3.10/dist-packages/ipykernel/ipkernel.py:283: DeprecationWarning: `should_run_async` will not call `transform_cell` automatically in the future. Please pass the result to `transformed_cell` argument and any exception that happen during thetransform in `preprocessing_exc_tuple` in IPython 7.17 and above.\n",
            "  and should_run_async(code)\n",
            "/usr/local/lib/python3.10/dist-packages/gym/core.py:317: DeprecationWarning: \u001b[33mWARN: Initializing wrapper in old step API which returns one bool instead of two. It is recommended to set `new_step_api=True` to use new step API. This will be the default behaviour in future.\u001b[0m\n",
            "  deprecation(\n",
            "/usr/local/lib/python3.10/dist-packages/gym/wrappers/step_api_compatibility.py:39: DeprecationWarning: \u001b[33mWARN: Initializing environment in old step API which returns one bool instead of two. It is recommended to set `new_step_api=True` to use new step API. This will be the default behaviour in future.\u001b[0m\n",
            "  deprecation(\n"
          ]
        }
      ],
      "source": [
        "# Set constants for training\n",
        "seed = 9474\n",
        "log_interval = 10\n",
        "gamma = 0.99\n",
        "\n",
        "env = gym.make('CartPole-v1')\n",
        "env.reset(seed=seed)\n",
        "torch.manual_seed(seed)\n",
        "\n",
        "SavedAction = namedtuple('SavedAction', ['log_prob', 'value'])\n",
        "\n",
        "num_i_nodes = 4\n",
        "num_h_nodes = 64\n",
        "num_o_nodes = 2"
      ]
    },
    {
      "cell_type": "markdown",
      "metadata": {
        "id": "pQAbkeX9qCyJ"
      },
      "source": [
        "## Neural Networks for Policy and Value Function"
      ]
    },
    {
      "cell_type": "markdown",
      "metadata": {
        "id": "1OP4Zb0RqGsu"
      },
      "source": [
        "### Policy Neural Network"
      ]
    },
    {
      "cell_type": "code",
      "execution_count": 3,
      "metadata": {
        "id": "EgxavOyKghNC"
      },
      "outputs": [],
      "source": [
        "class Policy(nn.Module):\n",
        "    \"\"\"\n",
        "    Implements the policy network for REINFORCE with baseline.\n",
        "    \"\"\"\n",
        "    def __init__(self):\n",
        "        super(Policy, self).__init__()\n",
        "        self.affine1 = nn.Linear(num_i_nodes, num_h_nodes)\n",
        "        self.action_head = nn.Linear(num_h_nodes, num_o_nodes)  # Output layer for actions\n",
        "\n",
        "        # Initialize the weights\n",
        "        self.init_weights()\n",
        "\n",
        "        # Action and reward buffer (unused for REINFORCE)\n",
        "        self.saved_actions = []\n",
        "        self.rewards = []\n",
        "\n",
        "    def init_weights(self):\n",
        "        # Initialize the weights of the linear layers\n",
        "        nn.init.kaiming_normal_(self.affine1.weight, nonlinearity='relu')\n",
        "        nn.init.constant_(self.affine1.bias, 0)\n",
        "        nn.init.kaiming_normal_(self.action_head.weight, nonlinearity='relu')\n",
        "        nn.init.constant_(self.action_head.bias, 0)\n",
        "\n",
        "    def forward(self, x):\n",
        "        \"\"\"\n",
        "        Forward pass of the policy network.\n",
        "        \"\"\"\n",
        "        x = F.relu(self.affine1(x))\n",
        "        action_scores = F.softmax(self.action_head(x), dim=-1)  # Actor: Action probabilities\n",
        "        return action_scores"
      ]
    },
    {
      "cell_type": "markdown",
      "metadata": {
        "id": "ZMOqDDOXqLkC"
      },
      "source": [
        "### Value Function Neural Network"
      ]
    },
    {
      "cell_type": "code",
      "execution_count": 4,
      "metadata": {
        "id": "HzjJ8yI2ZHYn"
      },
      "outputs": [],
      "source": [
        "# Create NN for value function\n",
        "class ValueFunction(nn.Module):\n",
        "    \"\"\"\n",
        "    Implements the value function network for REINFORCE with baseline.\n",
        "    \"\"\"\n",
        "    def __init__(self):\n",
        "        super(ValueFunction, self).__init__()\n",
        "        self.affine1 = nn.Linear(num_i_nodes, num_h_nodes)\n",
        "        self.value_head = nn.Linear(num_h_nodes, 1)    # Output layer for value function\n",
        "\n",
        "        # Initialize the weights\n",
        "        self.init_weights()\n",
        "\n",
        "        # State value buffer (unused for REINFORCE)\n",
        "        self.state_values = []\n",
        "\n",
        "    def init_weights(self):\n",
        "        # Initialize the weights of the linear layers\n",
        "        nn.init.kaiming_normal_(self.affine1.weight, nonlinearity='relu')\n",
        "        nn.init.constant_(self.affine1.bias, 0)\n",
        "        nn.init.kaiming_normal_(self.value_head.weight, nonlinearity='relu')\n",
        "        nn.init.constant_(self.value_head.bias, 0)\n",
        "\n",
        "    def forward(self, x):\n",
        "        \"\"\"\n",
        "        Forward pass of the value function network.\n",
        "        \"\"\"\n",
        "        x = F.relu(self.affine1(x))\n",
        "        state_value = self.value_head(x)\n",
        "        return state_value"
      ]
    },
    {
      "cell_type": "markdown",
      "metadata": {
        "id": "1F0tBwysqQWR"
      },
      "source": [
        "## Object Definitions"
      ]
    },
    {
      "cell_type": "code",
      "execution_count": 5,
      "metadata": {
        "id": "M_3XqHoMghNC"
      },
      "outputs": [],
      "source": [
        "model = Policy()\n",
        "value_model = ValueFunction()\n",
        "optimizer = optim.Adam(model.parameters(), lr=1e-2)\n",
        "value_optimizer = optim.Adam(value_model.parameters(), lr=1e-2)\n",
        "eps = np.finfo(np.float32).eps.item()"
      ]
    },
    {
      "cell_type": "markdown",
      "metadata": {
        "id": "A9q-yww-qTkc"
      },
      "source": [
        "## Training Functions"
      ]
    },
    {
      "cell_type": "markdown",
      "metadata": {
        "id": "H43IuBvDqXa-"
      },
      "source": [
        "### Action"
      ]
    },
    {
      "cell_type": "code",
      "execution_count": 6,
      "metadata": {
        "colab": {
          "base_uri": "https://localhost:8080/"
        },
        "id": "fxnhPP5wghNC",
        "outputId": "e879afba-e7ea-4552-d769-9080ed76c274"
      },
      "outputs": [
        {
          "name": "stderr",
          "output_type": "stream",
          "text": [
            "/usr/local/lib/python3.10/dist-packages/ipykernel/ipkernel.py:283: DeprecationWarning: `should_run_async` will not call `transform_cell` automatically in the future. Please pass the result to `transformed_cell` argument and any exception that happen during thetransform in `preprocessing_exc_tuple` in IPython 7.17 and above.\n",
            "  and should_run_async(code)\n"
          ]
        }
      ],
      "source": [
        "def select_action(state):\n",
        "    \"\"\"\n",
        "    Selects an action from the policy network given the current state.\n",
        "    \"\"\"\n",
        "    state = torch.from_numpy(state).float()\n",
        "    probs = model(state)\n",
        "    state_value = value_model(state)\n",
        "\n",
        "    # Create a categorical distribution over the list of probabilities of actions\n",
        "    m = Categorical(probs)\n",
        "\n",
        "    # Sample an action using the distribution\n",
        "    action = m.sample()\n",
        "\n",
        "    # Save the log probability and state value in the model's saved_actions\n",
        "    model.saved_actions.append(SavedAction(m.log_prob(action), state_value))\n",
        "\n",
        "    # Return the action to take (left or right)\n",
        "    return action.item(), m.log_prob(action), state_value"
      ]
    },
    {
      "cell_type": "markdown",
      "metadata": {
        "id": "0XD003_sqajA"
      },
      "source": [
        "### Returns"
      ]
    },
    {
      "cell_type": "code",
      "execution_count": 7,
      "metadata": {
        "id": "nmf5oeL4SKRo"
      },
      "outputs": [],
      "source": [
        "def calculate_returns(rewards, discount_factor, normalize = False):\n",
        "\n",
        "    returns = []\n",
        "    R = 0\n",
        "\n",
        "    for r in reversed(rewards):\n",
        "        R = r + R * discount_factor\n",
        "        returns.insert(0, R)\n",
        "\n",
        "    # returns = torch.tensor(returns)\n",
        "\n",
        "    if normalize:\n",
        "        returns = (returns - returns.mean()) / returns.std()\n",
        "\n",
        "    return returns"
      ]
    },
    {
      "cell_type": "markdown",
      "metadata": {
        "id": "1I_qqjUDqceq"
      },
      "source": [
        "### Completion and Updation"
      ]
    },
    {
      "cell_type": "code",
      "execution_count": 8,
      "metadata": {
        "id": "PoSHGfvR2S2T"
      },
      "outputs": [],
      "source": [
        "def finish_episode():\n",
        "    policy_loss = []\n",
        "    value_loss = []\n",
        "    returns = calculate_returns(model.rewards, gamma)\n",
        "    returns = torch.tensor(returns)\n",
        "    for saved_action, G, state_value in zip(model.saved_actions, returns, value_model.state_values):\n",
        "        log_prob, _ = saved_action\n",
        "        advantage = G - state_value\n",
        "        policy_loss.append(-log_prob * advantage)\n",
        "        value_loss.append(F.smooth_l1_loss(state_value, G))\n",
        "\n",
        "    optimizer.zero_grad()\n",
        "    policy_loss = torch.stack(policy_loss).sum()\n",
        "    policy_loss.backward(retain_graph=True)\n",
        "    optimizer.step()\n",
        "\n",
        "    value_optimizer.zero_grad()\n",
        "    value_loss = torch.stack(value_loss).sum()\n",
        "    value_loss.backward(retain_graph=True)\n",
        "    value_optimizer.step()\n",
        "\n",
        "    value_loss = value_loss.detach()\n",
        "\n",
        "    del model.rewards[:]\n",
        "    del model.saved_actions[:]\n",
        "    del value_model.state_values[:]\n"
      ]
    },
    {
      "cell_type": "markdown",
      "metadata": {
        "id": "S1KsOyBmqiuX"
      },
      "source": [
        "### Training"
      ]
    },
    {
      "cell_type": "code",
      "execution_count": 9,
      "metadata": {
        "id": "hdUB0QoIghNC"
      },
      "outputs": [],
      "source": [
        "def train(episodes):\n",
        "    running_reward = 10  # Initialize running reward\n",
        "\n",
        "    # Keep track of the rewards for plotting\n",
        "    reward_history = []\n",
        "\n",
        "    # Run infinitely many episodes\n",
        "    for episode in range(episodes):\n",
        "\n",
        "        # Reset environment and episode reward\n",
        "        state = env.reset()\n",
        "        ep_reward = 0\n",
        "\n",
        "        # For each episode, only run 9999 steps to avoid infinite loop\n",
        "        for t in range(1, 10000):\n",
        "\n",
        "            # Select action\n",
        "            action, log_prob, state_value = select_action(state)\n",
        "\n",
        "            # Take action\n",
        "            state, reward, done, _ = env.step(action)\n",
        "\n",
        "            # Save reward and state value\n",
        "            model.rewards.append(reward)\n",
        "            value_model.state_values.append(state_value)\n",
        "\n",
        "            ep_reward += reward\n",
        "\n",
        "            if done:\n",
        "                break\n",
        "\n",
        "        # Update cumulative reward\n",
        "        running_reward = 0.05 * ep_reward + (1 - 0.05) * running_reward\n",
        "\n",
        "        # Store the reward\n",
        "        reward_history.append(running_reward)\n",
        "\n",
        "        # Perform policy update\n",
        "        finish_episode()\n",
        "\n",
        "        # Log results\n",
        "        if episode % log_interval == 0:\n",
        "            print('Episode {}\\tLast reward: {:.2f}\\tAverage reward: {:.2f}'.format(\n",
        "                episode, ep_reward, running_reward))\n",
        "\n",
        "        # Check if the problem is solved\n",
        "        if running_reward > env.spec.reward_threshold:\n",
        "            print(\"Solved! Running reward is now {} and the last episode ({}) runs to {} time steps!\".format(running_reward, episode, t))\n",
        "            break\n",
        "\n",
        "    return reward_history"
      ]
    },
    {
      "cell_type": "markdown",
      "metadata": {
        "id": "HQvCiAzKqk8L"
      },
      "source": [
        "## Commence Training"
      ]
    },
    {
      "cell_type": "code",
      "execution_count": 10,
      "metadata": {
        "colab": {
          "base_uri": "https://localhost:8080/"
        },
        "id": "Jm8z_1TLghND",
        "outputId": "56c0c1b9-260f-48e1-e374-0efa890e1514"
      },
      "outputs": [
        {
          "name": "stderr",
          "output_type": "stream",
          "text": [
            "/usr/local/lib/python3.10/dist-packages/gym/utils/passive_env_checker.py:241: DeprecationWarning: `np.bool8` is a deprecated alias for `np.bool_`.  (Deprecated NumPy 1.24)\n",
            "  if not isinstance(terminated, (bool, np.bool8)):\n",
            "<ipython-input-8-701826f78dd3>:10: UserWarning: Using a target size (torch.Size([])) that is different to the input size (torch.Size([1])). This will likely lead to incorrect results due to broadcasting. Please ensure they have the same size.\n",
            "  value_loss.append(F.smooth_l1_loss(state_value, G))\n"
          ]
        },
        {
          "name": "stdout",
          "output_type": "stream",
          "text": [
            "Episode 0\tLast reward: 17.00\tAverage reward: 10.35\n",
            "Episode 10\tLast reward: 50.00\tAverage reward: 22.12\n",
            "Episode 20\tLast reward: 30.00\tAverage reward: 36.51\n",
            "Episode 30\tLast reward: 110.00\tAverage reward: 59.09\n",
            "Episode 40\tLast reward: 52.00\tAverage reward: 83.51\n",
            "Episode 50\tLast reward: 140.00\tAverage reward: 102.17\n",
            "Episode 60\tLast reward: 260.00\tAverage reward: 149.16\n",
            "Episode 70\tLast reward: 193.00\tAverage reward: 196.04\n",
            "Episode 80\tLast reward: 56.00\tAverage reward: 158.89\n",
            "Episode 90\tLast reward: 45.00\tAverage reward: 115.28\n",
            "Episode 100\tLast reward: 38.00\tAverage reward: 86.32\n",
            "Episode 110\tLast reward: 48.00\tAverage reward: 69.23\n",
            "Episode 120\tLast reward: 44.00\tAverage reward: 57.11\n",
            "Episode 130\tLast reward: 37.00\tAverage reward: 54.13\n",
            "Episode 140\tLast reward: 52.00\tAverage reward: 52.50\n",
            "Episode 150\tLast reward: 41.00\tAverage reward: 54.02\n",
            "Episode 160\tLast reward: 94.00\tAverage reward: 67.60\n",
            "Episode 170\tLast reward: 96.00\tAverage reward: 74.96\n",
            "Episode 180\tLast reward: 98.00\tAverage reward: 82.55\n",
            "Episode 190\tLast reward: 74.00\tAverage reward: 91.08\n",
            "Episode 200\tLast reward: 114.00\tAverage reward: 98.01\n",
            "Episode 210\tLast reward: 72.00\tAverage reward: 114.32\n",
            "Episode 220\tLast reward: 298.00\tAverage reward: 122.43\n",
            "Episode 230\tLast reward: 156.00\tAverage reward: 110.45\n",
            "Episode 240\tLast reward: 58.00\tAverage reward: 115.60\n",
            "Episode 250\tLast reward: 97.00\tAverage reward: 100.32\n",
            "Episode 260\tLast reward: 82.00\tAverage reward: 102.43\n",
            "Episode 270\tLast reward: 79.00\tAverage reward: 106.78\n",
            "Episode 280\tLast reward: 354.00\tAverage reward: 130.38\n",
            "Episode 290\tLast reward: 125.00\tAverage reward: 135.41\n",
            "Episode 300\tLast reward: 172.00\tAverage reward: 151.91\n",
            "Episode 310\tLast reward: 106.00\tAverage reward: 162.63\n",
            "Episode 320\tLast reward: 264.00\tAverage reward: 204.15\n",
            "Episode 330\tLast reward: 197.00\tAverage reward: 232.04\n",
            "Episode 340\tLast reward: 137.00\tAverage reward: 211.34\n",
            "Episode 350\tLast reward: 149.00\tAverage reward: 180.03\n",
            "Episode 360\tLast reward: 349.00\tAverage reward: 214.21\n",
            "Episode 370\tLast reward: 500.00\tAverage reward: 328.89\n",
            "Episode 380\tLast reward: 500.00\tAverage reward: 385.25\n",
            "Episode 390\tLast reward: 500.00\tAverage reward: 431.30\n",
            "Episode 400\tLast reward: 500.00\tAverage reward: 458.86\n",
            "Episode 410\tLast reward: 250.00\tAverage reward: 414.31\n",
            "Episode 420\tLast reward: 500.00\tAverage reward: 377.77\n",
            "Episode 430\tLast reward: 500.00\tAverage reward: 426.82\n",
            "Episode 440\tLast reward: 500.00\tAverage reward: 456.18\n",
            "Episode 450\tLast reward: 500.00\tAverage reward: 471.78\n",
            "Solved! Running reward is now 475.80548872866115 and the last episode (453) runs to 500 time steps!\n"
          ]
        }
      ],
      "source": [
        "reward_history = train(2000)\n",
        "\n",
        "num_expts = 5\n",
        "num_episodes = 2000\n",
        "lr = 1e-2\n",
        "\n",
        "reward_histories = []\n",
        "\n",
        "mean_rewards = []\n",
        "std_rewards = []\n",
        "\n",
        "for i in range(num_expts):\n",
        "    model = Policy()\n",
        "    value_model = ValueFunction()\n",
        "    optimizer = optim.Adam(model.parameters(), lr)\n",
        "    value_optimizer = optim.Adam(value_model.parameters(), lr)\n",
        "    reward_history = train(num_episodes)\n",
        "    while len(reward_history) < num_episodes:\n",
        "        reward_history.append(env.spec.reward_threshold)\n",
        "    reward_histories.append(reward_history)\n",
        "\n",
        "reward_histories = np.array(reward_histories)\n",
        "\n",
        "mean_rewards = np.mean(reward_histories, axis=0)\n",
        "std_rewards = np.std(reward_histories, axis=0)"
      ]
    },
    {
      "cell_type": "markdown",
      "metadata": {
        "id": "aQcXL98BruAO"
      },
      "source": [
        "## Reward History Plot During Training"
      ]
    },
    {
      "cell_type": "code",
      "execution_count": 11,
      "metadata": {
        "colab": {
          "base_uri": "https://localhost:8080/",
          "height": 472
        },
        "id": "8ykwEUodSzsB",
        "outputId": "18cb05df-3e0a-4327-aba9-feb8185645be"
      },
      "outputs": [
        {
          "data": {
            "image/png": "[encoded data removed]",
            "text/plain": [
              "<Figure size 640x480 with 1 Axes>"
            ]
          },
          "metadata": {},
          "output_type": "display_data"
        }
      ],
      "source": [
        "# Plot the reward history\n",
        "\n",
        "# Apply moving window average of length 10 to mean_rewards\n",
        "mean_rewards = np.convolve(mean_rewards, np.ones(10), 'valid') / 10\n",
        "\n",
        "plt.plot(mean_rewards)\n",
        "plt.fill_between(range(len(mean_rewards)), mean_rewards + std_rewards, mean_rewards - std_rewards, alpha=0.5)\n",
        "plt.title('REINFORCE with Baseline CartPole-v1')\n",
        "plt.xlabel('Episode')\n",
        "plt.ylabel('Reward')\n",
        "plt.legend(['Running Reward'])\n",
        "plt.show()"
      ]
    },
    {
      "cell_type": "markdown",
      "metadata": {
        "id": "D-y2b0QAqpka"
      },
      "source": [
        "## Save Model"
      ]
    },
    {
      "cell_type": "code",
      "execution_count": 12,
      "metadata": {
        "id": "DhRvdREXs90I"
      },
      "outputs": [],
      "source": [
        "torch.save(model, 'REINFORCEB_CartPole_v1.pth')"
      ]
    },
    {
      "cell_type": "code",
      "execution_count": null,
      "metadata": {},
      "outputs": [],
      "source": [
        "# Save the mean and standard deviation rewards to a csv file\n",
        "np.savetxt('REINFORCEB_CartPole_v1_mean.csv', mean_rewards, delimiter=',')\n",
        "np.savetxt('REINFORCEB_CartPole_v1_std.csv', std_rewards, delimiter=',')"
      ]
    },
    {
      "cell_type": "markdown",
      "metadata": {
        "id": "bHgSD4Qh_2ci"
      },
      "source": [
        "## Evaluation of the Model"
      ]
    },
    {
      "cell_type": "code",
      "execution_count": 13,
      "metadata": {
        "id": "P3mrVbxZ_x4M"
      },
      "outputs": [],
      "source": [
        "# Evaluate the policy using total regret\n",
        "\n",
        "def calculate_total_regret(episodes):\n",
        "    \"\"\"\n",
        "    Evaluate the policy using total regret.\n",
        "    \"\"\"\n",
        "    total_regret = 0\n",
        "\n",
        "    # Use reward history to calculate total regret\n",
        "    for reward in reward_history:\n",
        "        total_regret += env.spec.reward_threshold - reward\n",
        "\n",
        "    return total_regret"
      ]
    },
    {
      "cell_type": "markdown",
      "metadata": {
        "id": "mzUDGHAM-6Ju"
      },
      "source": [
        "## Hyperparameter Tuning"
      ]
    },
    {
      "cell_type": "code",
      "execution_count": 14,
      "metadata": {
        "colab": {
          "base_uri": "https://localhost:8080/",
          "height": 439
        },
        "id": "22IN3rk6-8UM",
        "outputId": "dd9aeeee-0d80-4506-c621-335e6337d9d0"
      },
      "outputs": [
        {
          "name": "stderr",
          "output_type": "stream",
          "text": [
            "<ipython-input-8-701826f78dd3>:10: UserWarning: Using a target size (torch.Size([])) that is different to the input size (torch.Size([1])). This will likely lead to incorrect results due to broadcasting. Please ensure they have the same size.\n",
            "  value_loss.append(F.smooth_l1_loss(state_value, G))\n"
          ]
        },
        {
          "name": "stdout",
          "output_type": "stream",
          "text": [
            "Episode 0\tLast reward: 11.00\tAverage reward: 10.05\n",
            "Episode 100\tLast reward: 216.00\tAverage reward: 132.77\n",
            "Episode 200\tLast reward: 274.00\tAverage reward: 203.23\n",
            "Episode 300\tLast reward: 189.00\tAverage reward: 214.83\n",
            "Episode 400\tLast reward: 371.00\tAverage reward: 363.23\n",
            "Episode 500\tLast reward: 500.00\tAverage reward: 373.54\n",
            "Episode 600\tLast reward: 500.00\tAverage reward: 399.35\n",
            "Episode 700\tLast reward: 464.00\tAverage reward: 382.06\n",
            "Episode 800\tLast reward: 364.00\tAverage reward: 410.34\n",
            "Solved! Running reward is now 476.0730587315667 and the last episode (871) runs to 500 time steps!\n"
          ]
        },
        {
          "ename": "ValueError",
          "evalue": "could not broadcast input array from shape (872,) into shape (2000,)",
          "output_type": "error",
          "traceback": [
            "\u001b[0;31m---------------------------------------------------------------------------\u001b[0m",
            "\u001b[0;31mValueError\u001b[0m                                Traceback (most recent call last)",
            "\u001b[0;32m<ipython-input-14-9e768fcd3952>\u001b[0m in \u001b[0;36m<cell line: 17>\u001b[0;34m()\u001b[0m\n\u001b[1;32m     26\u001b[0m         \u001b[0;31m# Train the model\u001b[0m\u001b[0;34m\u001b[0m\u001b[0;34m\u001b[0m\u001b[0m\n\u001b[1;32m     27\u001b[0m         \u001b[0mreward_history\u001b[0m \u001b[0;34m=\u001b[0m \u001b[0mtrain\u001b[0m\u001b[0;34m(\u001b[0m\u001b[0mepisodes\u001b[0m\u001b[0;34m)\u001b[0m\u001b[0;34m\u001b[0m\u001b[0;34m\u001b[0m\u001b[0m\n\u001b[0;32m---> 28\u001b[0;31m         \u001b[0mreward_history_storage\u001b[0m\u001b[0;34m[\u001b[0m\u001b[0mhyperparameters\u001b[0m\u001b[0;34m[\u001b[0m\u001b[0;34m'lr'\u001b[0m\u001b[0;34m]\u001b[0m\u001b[0;34m.\u001b[0m\u001b[0mindex\u001b[0m\u001b[0;34m(\u001b[0m\u001b[0mlr\u001b[0m\u001b[0;34m)\u001b[0m\u001b[0;34m,\u001b[0m \u001b[0mhyperparameters\u001b[0m\u001b[0;34m[\u001b[0m\u001b[0;34m'num_h_nodes'\u001b[0m\u001b[0;34m]\u001b[0m\u001b[0;34m.\u001b[0m\u001b[0mindex\u001b[0m\u001b[0;34m(\u001b[0m\u001b[0mnum_h_nodes\u001b[0m\u001b[0;34m)\u001b[0m\u001b[0;34m,\u001b[0m \u001b[0;34m:\u001b[0m\u001b[0;34m]\u001b[0m \u001b[0;34m=\u001b[0m \u001b[0mreward_history\u001b[0m\u001b[0;34m\u001b[0m\u001b[0;34m\u001b[0m\u001b[0m\n\u001b[0m\u001b[1;32m     29\u001b[0m \u001b[0;34m\u001b[0m\u001b[0m\n\u001b[1;32m     30\u001b[0m         \u001b[0;31m# Calculate the total regret\u001b[0m\u001b[0;34m\u001b[0m\u001b[0;34m\u001b[0m\u001b[0m\n",
            "\u001b[0;31mValueError\u001b[0m: could not broadcast input array from shape (872,) into shape (2000,)"
          ]
        }
      ],
      "source": [
        "# Hyperparameter tuning\n",
        "\n",
        "# Set the hyperparameters\n",
        "hyperparameters = {\n",
        "    'lr': [1e-2, 1e-3, 1e-4],\n",
        "    'num_h_nodes': [32, 64, 128]\n",
        "}\n",
        "\n",
        "env.reset(seed=seed)\n",
        "torch.manual_seed(seed)\n",
        "log_interval = 100\n",
        "episodes = 2000\n",
        "best_total_regret = float('inf')\n",
        "best_hyperparameters = {}\n",
        "best_episodes = 2000\n",
        "regret_storage = []\n",
        "reward_history_storage = np.zeros((len(hyperparameters['lr']), len(hyperparameters['num_h_nodes']), episodes))\n",
        "\n",
        "# Loop through the hyperparameters\n",
        "for lr in hyperparameters['lr']:\n",
        "    for num_h_nodes in hyperparameters['num_h_nodes']:\n",
        "\n",
        "        # Set the hyperparameters\n",
        "        model = Policy()\n",
        "        value_model = ValueFunction()\n",
        "        optimizer = optim.Adam(model.parameters(), lr=lr)\n",
        "        value_optimizer = optim.Adam(value_model.parameters(), lr=lr)\n",
        "\n",
        "        # Train the model\n",
        "        reward_history = train(episodes)\n",
        "        len_episodes = len(reward_history)\n",
        "        reward_history += [env.spec.reward_threshold] * (episodes - len(reward_history))\n",
        "        reward_history_storage[hyperparameters['lr'].index(lr), hyperparameters['num_h_nodes'].index(num_h_nodes), :] = reward_history\n",
        "\n",
        "        # Calculate the total regret\n",
        "        total_regret = calculate_total_regret(episodes)\n",
        "\n",
        "        # Store the total regret\n",
        "        regret_storage.append([lr, num_h_nodes, total_regret])\n",
        "\n",
        "        # Check if this is the best total regret\n",
        "        if total_regret < best_total_regret:\n",
        "            best_total_regret = total_regret\n",
        "            best_hyperparameters = {'lr': lr, 'num_h_nodes': num_h_nodes}\n",
        "            best_episodes = len_episodes"
      ]
    },
    {
      "cell_type": "code",
      "execution_count": null,
      "metadata": {
        "id": "im8rvexCBwAf"
      },
      "outputs": [],
      "source": [
        "# Print the best hyperparameters\n",
        "print('Best hyperparameters:', best_hyperparameters)\n",
        "print('Best total regret:', best_total_regret)"
      ]
    },
    {
      "cell_type": "code",
      "execution_count": null,
      "metadata": {
        "id": "cmDEHvEHBxe8"
      },
      "outputs": [],
      "source": [
        "# Plot the reward history for the best hyperparameters\n",
        "\n",
        "plt.plot(reward_history_storage[hyperparameters['lr'].index(best_hyperparameters['lr']), hyperparameters['num_h_nodes'].index(best_hyperparameters['num_h_nodes']), :best_episodes])\n",
        "plt.title('Reward history for the best hyperparameters')\n",
        "plt.xlabel('Episode')\n",
        "plt.ylabel('Reward')\n",
        "plt.legend(['lr: {}, num_h_nodes: {}'.format(best_hyperparameters['lr'], best_hyperparameters['num_h_nodes'])])\n",
        "plt.show()"
      ]
    },
    {
      "cell_type": "code",
      "execution_count": null,
      "metadata": {
        "id": "k775s0DsB0KX"
      },
      "outputs": [],
      "source": []
    }
  ],
  "metadata": {
    "colab": {
      "provenance": []
    },
    "kernelspec": {
      "display_name": "Python 3",
      "language": "python",
      "name": "python3"
    },
    "language_info": {
      "codemirror_mode": {
        "name": "ipython",
        "version": 3
      },
      "file_extension": ".py",
      "mimetype": "text/x-python",
      "name": "python",
      "nbconvert_exporter": "python",
      "pygments_lexer": "ipython3",
      "version": "3.11.2"
    }
  },
  "nbformat": 4,
  "nbformat_minor": 0
}
