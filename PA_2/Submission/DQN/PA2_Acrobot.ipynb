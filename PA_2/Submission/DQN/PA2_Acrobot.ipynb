{
  "cells": [
    {
      "cell_type": "code",
      "execution_count": null,
      "metadata": {
        "colab": {
          "base_uri": "https://localhost:8080/",
          "height": 567
        },
        "id": "pATBIzOq__gK",
        "outputId": "3f8b8676-ee89-4039-b91e-b8eecfef1429"
      },
      "outputs": [
        {
          "output_type": "stream",
          "name": "stdout",
          "text": [
            "Requirement already satisfied: setuptools in /usr/local/lib/python3.10/dist-packages (67.7.2)\n",
            "Collecting setuptools\n",
            "  Downloading setuptools-69.2.0-py3-none-any.whl (821 kB)\n",
            "\u001b[2K     \u001b[90m━━━━━━━━━━━━━━━━━━━━━━━━━━━━━━━━━━━━━━━━\u001b[0m \u001b[32m821.5/821.5 kB\u001b[0m \u001b[31m5.8 MB/s\u001b[0m eta \u001b[36m0:00:00\u001b[0m\n",
            "\u001b[?25hInstalling collected packages: setuptools\n",
            "  Attempting uninstall: setuptools\n",
            "    Found existing installation: setuptools 67.7.2\n",
            "    Uninstalling setuptools-67.7.2:\n",
            "      Successfully uninstalled setuptools-67.7.2\n",
            "\u001b[31mERROR: pip's dependency resolver does not currently take into account all the packages that are installed. This behaviour is the source of the following dependency conflicts.\n",
            "ipython 7.34.0 requires jedi>=0.16, which is not installed.\u001b[0m\u001b[31m\n",
            "\u001b[0mSuccessfully installed setuptools-69.2.0\n"
          ]
        },
        {
          "output_type": "display_data",
          "data": {
            "application/vnd.colab-display-data+json": {
              "pip_warning": {
                "packages": [
                  "_distutils_hack",
                  "pkg_resources",
                  "setuptools"
                ]
              },
              "id": "58662eca30a44ba187615971c624ce7c"
            }
          },
          "metadata": {}
        },
        {
          "output_type": "stream",
          "name": "stdout",
          "text": [
            "Requirement already satisfied: gym[classic_control] in /usr/local/lib/python3.10/dist-packages (0.25.2)\n",
            "Requirement already satisfied: numpy>=1.18.0 in /usr/local/lib/python3.10/dist-packages (from gym[classic_control]) (1.25.2)\n",
            "Requirement already satisfied: cloudpickle>=1.2.0 in /usr/local/lib/python3.10/dist-packages (from gym[classic_control]) (2.2.1)\n",
            "Requirement already satisfied: gym-notices>=0.0.4 in /usr/local/lib/python3.10/dist-packages (from gym[classic_control]) (0.0.8)\n",
            "Collecting pygame==2.1.0 (from gym[classic_control])\n",
            "  Downloading pygame-2.1.0-cp310-cp310-manylinux_2_17_x86_64.manylinux2014_x86_64.whl (18.3 MB)\n",
            "\u001b[2K     \u001b[90m━━━━━━━━━━━━━━━━━━━━━━━━━━━━━━━━━━━━━━━━\u001b[0m \u001b[32m18.3/18.3 MB\u001b[0m \u001b[31m47.9 MB/s\u001b[0m eta \u001b[36m0:00:00\u001b[0m\n",
            "\u001b[?25hInstalling collected packages: pygame\n",
            "  Attempting uninstall: pygame\n",
            "    Found existing installation: pygame 2.5.2\n",
            "    Uninstalling pygame-2.5.2:\n",
            "      Successfully uninstalled pygame-2.5.2\n",
            "Successfully installed pygame-2.1.0\n"
          ]
        }
      ],
      "source": [
        "!pip install gym pyvirtualdisplay > /dev/null 2>&1\n",
        "!apt-get install -y xvfb python-opengl ffmpeg > /dev/null 2>&1\n",
        "!apt-get update > /dev/null 2>&1\n",
        "!apt-get install cmake > /dev/null 2>&1\n",
        "!pip install --upgrade setuptools 2>&1\n",
        "!pip install ez_setup > /dev/null 2>&1\n",
        "!pip install gym[atari] > /dev/null 2>&1\n",
        "!pip install git+https://github.com/tensorflow/docs > /dev/null 2>&1\n",
        "!pip install gym[classic_control]"
      ]
    },
    {
      "cell_type": "code",
      "execution_count": null,
      "metadata": {
        "colab": {
          "base_uri": "https://localhost:8080/"
        },
        "id": "Ma0dkJEF_R-Y",
        "outputId": "233f08be-8f78-4b5c-fe43-6428fe63e649"
      },
      "outputs": [
        {
          "output_type": "stream",
          "name": "stderr",
          "text": [
            "/usr/local/lib/python3.10/dist-packages/tensorflow_probability/python/__init__.py:57: DeprecationWarning: distutils Version classes are deprecated. Use packaging.version instead.\n",
            "  if (distutils.version.LooseVersion(tf.__version__) <\n"
          ]
        }
      ],
      "source": [
        "import numpy as np\n",
        "import matplotlib.pyplot as plt\n",
        "import random\n",
        "import torch\n",
        "import torch.nn as nn\n",
        "import torch.nn.functional as F\n",
        "from collections import namedtuple, deque\n",
        "import torch.optim as optim\n",
        "import datetime\n",
        "import gym\n",
        "from gym.wrappers.record_video import RecordVideo\n",
        "import glob\n",
        "import io\n",
        "import base64\n",
        "import matplotlib.pyplot as plt\n",
        "from IPython.display import HTML\n",
        "from pyvirtualdisplay import Display\n",
        "import tensorflow as tf\n",
        "from IPython import display as ipythondisplay\n",
        "from PIL import Image\n",
        "import tensorflow_probability as tfp"
      ]
    },
    {
      "cell_type": "code",
      "execution_count": null,
      "metadata": {
        "colab": {
          "base_uri": "https://localhost:8080/"
        },
        "id": "1-6BgqE8_rBr",
        "outputId": "152bbc8e-dc6b-483e-e5e1-0c26ba30a140"
      },
      "outputs": [
        {
          "output_type": "stream",
          "name": "stdout",
          "text": [
            "[ 0.9967351   0.08074135  0.9990419  -0.04376357 -0.00476333 -0.01088484]\n"
          ]
        },
        {
          "output_type": "stream",
          "name": "stderr",
          "text": [
            "/usr/local/lib/python3.10/dist-packages/ipykernel/ipkernel.py:283: DeprecationWarning: `should_run_async` will not call `transform_cell` automatically in the future. Please pass the result to `transformed_cell` argument and any exception that happen during thetransform in `preprocessing_exc_tuple` in IPython 7.17 and above.\n",
            "  and should_run_async(code)\n",
            "/usr/local/lib/python3.10/dist-packages/gym/core.py:317: DeprecationWarning: \u001b[33mWARN: Initializing wrapper in old step API which returns one bool instead of two. It is recommended to set `new_step_api=True` to use new step API. This will be the default behaviour in future.\u001b[0m\n",
            "  deprecation(\n",
            "/usr/local/lib/python3.10/dist-packages/gym/wrappers/step_api_compatibility.py:39: DeprecationWarning: \u001b[33mWARN: Initializing environment in old step API which returns one bool instead of two. It is recommended to set `new_step_api=True` to use new step API. This will be the default behaviour in future.\u001b[0m\n",
            "  deprecation(\n"
          ]
        }
      ],
      "source": [
        "'''\n",
        "Bunch of Hyper parameters (Which you might have to tune later)\n",
        "'''\n",
        "BUFFER_SIZE = int(1e5)  # replay buffer size\n",
        "BATCH_SIZE = 64         # minibatch size\n",
        "GAMMA = 0.99            # discount factor\n",
        "LR = 5e-5             # learning rate\n",
        "UPDATE_EVERY = 20       # how often to update the network (When Q target is present)\n",
        "\n",
        "env = gym.make('Acrobot-v1')\n",
        "state = env.reset()\n",
        "print(state)"
      ]
    },
    {
      "cell_type": "code",
      "execution_count": null,
      "metadata": {
        "colab": {
          "base_uri": "https://localhost:8080/"
        },
        "id": "9mvMchDBAZWW",
        "outputId": "0c69d581-8de4-4624-c583-60a264f1079a"
      },
      "outputs": [
        {
          "output_type": "stream",
          "name": "stdout",
          "text": [
            "(tensor([[2.3368],\n",
            "        [4.0219]], grad_fn=<AddmmBackward0>), tensor([[-0.7187,  1.8437,  0.8174],\n",
            "        [ 0.7066,  3.5038,  1.8863]], grad_fn=<AddmmBackward0>))\n"
          ]
        }
      ],
      "source": [
        "class QNetwork1(nn.Module):\n",
        "\n",
        "  def __init__(self, state_size, action_size, hl_size):\n",
        "    super(QNetwork1,self).__init__()\n",
        "    self.input_layer = nn.Linear(state_size,hl_size)\n",
        "    self.value_layer = nn.Linear(hl_size,1)\n",
        "    self.advantage_layer = nn.Linear(hl_size,action_size)\n",
        "\n",
        "  def forward(self,state):\n",
        "    x = F.relu(self.input_layer(state))\n",
        "    value = self.value_layer(x)\n",
        "    advantage = self.advantage_layer(x)\n",
        "    return value , advantage\n",
        "\n",
        "\n",
        "network = QNetwork1(6,3,2)\n",
        "print(network.forward(torch.tensor([[1,1,1,1,1,4],[1,2,3,4,5,4]],dtype=torch.float32)))"
      ]
    },
    {
      "cell_type": "markdown",
      "metadata": {
        "id": "ZKo3dlhkLyJt"
      },
      "source": [
        "## Replay Buffer"
      ]
    },
    {
      "cell_type": "code",
      "execution_count": null,
      "metadata": {
        "id": "IgB9s_x7Dd-0"
      },
      "outputs": [],
      "source": [
        "import random\n",
        "import torch\n",
        "import numpy as np\n",
        "from collections import deque, namedtuple\n",
        "\n",
        "device = torch.device(\"cuda:0\" if torch.cuda.is_available() else \"cpu\")\n",
        "\n",
        "class ReplayBuffer:\n",
        "    \"\"\"Fixed-size buffer to store experience tuples.\"\"\"\n",
        "\n",
        "    def __init__(self, action_size, buffer_size, batch_size, seed):\n",
        "        \"\"\"Initialize a ReplayBuffer object.\n",
        "\n",
        "        Params\n",
        "        ======\n",
        "            action_size (int): dimension of each action\n",
        "            buffer_size (int): maximum size of buffer\n",
        "            batch_size (int): size of each training batch\n",
        "            seed (int): random seed\n",
        "        \"\"\"\n",
        "        self.action_size = action_size\n",
        "        self.memory = deque(maxlen=buffer_size)\n",
        "        self.batch_size = batch_size\n",
        "        self.experience = namedtuple(\"Experience\", field_names=[\"state\", \"action\", \"reward\", \"next_state\", \"done\"])\n",
        "        self.seed = random.seed(seed)\n",
        "\n",
        "    def add(self, state, action, reward, next_state, done):\n",
        "        \"\"\"Add a new experience to memory.\"\"\"\n",
        "        e = self.experience(state, action, reward, next_state, done)\n",
        "        self.memory.append(e)\n",
        "\n",
        "    def sample(self):\n",
        "        \"\"\"Randomly sample a batch of experiences from memory.\"\"\"\n",
        "        experiences = random.sample(self.memory, k=self.batch_size)\n",
        "\n",
        "        states = torch.from_numpy(np.vstack([e.state for e in experiences if e is not None])).float().to(device)\n",
        "        actions = torch.from_numpy(np.vstack([e.action for e in experiences if e is not None])).long().to(device)\n",
        "        rewards = torch.from_numpy(np.vstack([e.reward for e in experiences if e is not None])).float().to(device)\n",
        "        next_states = torch.from_numpy(np.vstack([e.next_state for e in experiences if e is not None])).float().to(device)\n",
        "        dones = torch.from_numpy(np.vstack([e.done for e in experiences if e is not None]).astype(np.uint8)).float().to(device)\n",
        "\n",
        "        return (states, actions, rewards, next_states, dones)\n",
        "\n",
        "    def __len__(self):\n",
        "        \"\"\"Return the current size of internal memory.\"\"\"\n",
        "        return len(self.memory)"
      ]
    },
    {
      "cell_type": "markdown",
      "source": [
        "#Double DQN"
      ],
      "metadata": {
        "id": "aq3_0wDnON2F"
      }
    },
    {
      "cell_type": "markdown",
      "source": [
        "##mean(A)"
      ],
      "metadata": {
        "id": "Wz9uW2suPBiG"
      }
    },
    {
      "cell_type": "code",
      "execution_count": null,
      "metadata": {
        "id": "3MfT2w_-ld1W"
      },
      "outputs": [],
      "source": [
        "class TutorialAgent():\n",
        "\n",
        "    def __init__(self, state_size, action_size, seed):\n",
        "\n",
        "        ''' Agent Environment Interaction '''\n",
        "        self.state_size = state_size\n",
        "        self.action_size = action_size\n",
        "        self.seed = random.seed(seed)\n",
        "\n",
        "        ''' Q-Network '''\n",
        "        self.qnetwork_local = QNetwork1(state_size, action_size, hl_size = 42).to(device)\n",
        "        self.qnetwork_target = QNetwork1(state_size, action_size, hl_size = 42).to(device)\n",
        "        self.optimizer = optim.Adam(self.qnetwork_local.parameters(), lr=LR)\n",
        "\n",
        "        ''' Replay memory '''\n",
        "        self.memory = ReplayBuffer(action_size, BUFFER_SIZE, BATCH_SIZE, seed)\n",
        "\n",
        "        ''' Initialize time step (for updating every UPDATE_EVERY steps)           -Needed for Q Targets '''\n",
        "        self.t_step = 0\n",
        "\n",
        "    def step(self, state, action, reward, next_state, done):\n",
        "\n",
        "        ''' Save experience in replay memory '''\n",
        "        self.memory.add(state, action, reward, next_state, done)\n",
        "\n",
        "        ''' If enough samples are available in memory, get random subset and learn '''\n",
        "        if len(self.memory) >= BATCH_SIZE:\n",
        "            experiences = self.memory.sample()\n",
        "            self.learn(experiences, GAMMA)\n",
        "\n",
        "        \"\"\" +Q TARGETS PRESENT \"\"\"\n",
        "        ''' Updating the Network every 'UPDATE_EVERY' steps taken '''\n",
        "        self.t_step = (self.t_step + 1) % UPDATE_EVERY\n",
        "        if self.t_step == 0:\n",
        "            self.qnetwork_target.load_state_dict(self.qnetwork_local.state_dict())\n",
        "\n",
        "    def act(self, state, eps=0.5):\n",
        "\n",
        "        state = torch.from_numpy(state).float().unsqueeze(0).to(device)\n",
        "        self.qnetwork_local.eval()\n",
        "        with torch.no_grad():\n",
        "            _,action_values = self.qnetwork_local(state)\n",
        "        self.qnetwork_local.train()\n",
        "\n",
        "        ''' Epsilon-greedy action selection (Already Present) '''\n",
        "        if random.random() > eps:\n",
        "            return torch.argmax(action_values.to('cpu'),dim=1).item()\n",
        "        else:\n",
        "            return random.choice(np.arange(self.action_size))\n",
        "\n",
        "    def learn(self, experiences, gamma):\n",
        "        \"\"\" +E EXPERIENCE REPLAY PRESENT \"\"\"\n",
        "        states, actions, rewards, next_states, dones = experiences\n",
        "        ''' Get max predicted Q values (for next states) from target model'''\n",
        "        V_targets_next, A_targets_next = self.qnetwork_target(next_states)\n",
        "        # V_targets_next = V_targets_next.detach().max(1)[0].unsqueeze(1)\n",
        "        # A_targets_next = A_targets_next.detach().max(1)[0].unsqueeze(1)\n",
        "        # V_targets_next = V_targets_next.detach().unsqueeze(1)\n",
        "        # A_targets_next = A_targets_next.detach().unsqueeze(1)\n",
        "        # print(V_targets_next,A_targets_next)\n",
        "        Q_targets_next = torch.add(V_targets_next, A_targets_next - A_targets_next.mean(dim=1, keepdim=True)).detach().max(1)[0].unsqueeze(1)\n",
        "\n",
        "        ''' Compute Q targets for current states '''\n",
        "        Q_targets = rewards + (gamma * Q_targets_next * (1 - dones))\n",
        "        # print(Q_targets_next,Q_targets)\n",
        "        # print(Q_targets_next.shape,Q_targets.shape)\n",
        "        ''' Get expected Q values from local model '''\n",
        "        V_targets, A_targets = self.qnetwork_local(states)\n",
        "        # print(V_targets,A_targets)\n",
        "        # V_targets = V_targets.detach().unsqueeze(1)\n",
        "        # A_targets = A_targets.detach().unsqueeze(1)\n",
        "        # print(states)\n",
        "        # print(V_targets,A_targets)\n",
        "        Q_expected = torch.add(V_targets, A_targets - A_targets.mean(dim=1, keepdim=True)).gather(1, actions)\n",
        "\n",
        "        ''' Compute loss '''\n",
        "        loss = F.mse_loss(Q_expected, Q_targets)\n",
        "\n",
        "        ''' Minimize the loss '''\n",
        "        self.optimizer.zero_grad()\n",
        "        loss.backward()\n",
        "        # if self.t_step == 0:\n",
        "        #   print(\"Loss:- \",loss.item())\n",
        "        ''' Gradiant Clipping '''\n",
        "        \"\"\" +T TRUNCATION PRESENT \"\"\"\n",
        "        for param in self.qnetwork_local.parameters():\n",
        "            param.grad.data.clamp_(-1, 1)\n",
        "\n",
        "        self.optimizer.step()\n",
        "\n",
        "\n"
      ]
    },
    {
      "cell_type": "code",
      "execution_count": null,
      "metadata": {
        "colab": {
          "base_uri": "https://localhost:8080/"
        },
        "id": "RR5gsBcRl2x1",
        "outputId": "5d5e271f-a263-480a-c5f1-c954580b61c4"
      },
      "outputs": [
        {
          "output_type": "stream",
          "name": "stdout",
          "text": [
            "Episode 10\tAverage Score: -500.00\n",
            "Episode 20\tAverage Score: -500.00\n",
            "Episode 30\tAverage Score: -495.07\n",
            "Episode 40\tAverage Score: -469.82\n",
            "Episode 50\tAverage Score: -441.98\n",
            "Episode 60\tAverage Score: -418.27\n",
            "Episode 70\tAverage Score: -397.74\n",
            "Episode 80\tAverage Score: -376.71\n",
            "Episode 90\tAverage Score: -359.28\n",
            "Episode 100\tAverage Score: -342.45\n",
            "Episode 110\tAverage Score: -309.19\n",
            "Episode 120\tAverage Score: -276.77\n",
            "Episode 130\tAverage Score: -244.40\n",
            "Episode 140\tAverage Score: -219.50\n",
            "Episode 150\tAverage Score: -200.79\n",
            "Episode 160\tAverage Score: -184.18\n",
            "Episode 170\tAverage Score: -173.54\n",
            "Episode 180\tAverage Score: -164.01\n",
            "Episode 190\tAverage Score: -155.90\n",
            "Episode 200\tAverage Score: -148.64\n",
            "Episode 210\tAverage Score: -145.28\n",
            "Episode 220\tAverage Score: -140.50\n",
            "Episode 230\tAverage Score: -138.62\n",
            "Episode 240\tAverage Score: -136.62\n",
            "Episode 250\tAverage Score: -134.08\n",
            "Episode 260\tAverage Score: -132.21\n",
            "Episode 270\tAverage Score: -128.15\n",
            "Episode 280\tAverage Score: -125.55\n",
            "Episode 290\tAverage Score: -123.98\n",
            "Episode 300\tAverage Score: -123.69\n",
            "Episode 310\tAverage Score: -122.60\n",
            "Episode 320\tAverage Score: -121.72\n",
            "Episode 330\tAverage Score: -118.07\n",
            "Episode 340\tAverage Score: -115.99\n",
            "Episode 350\tAverage Score: -115.43\n",
            "Episode 360\tAverage Score: -114.56\n",
            "Episode 370\tAverage Score: -112.63\n",
            "Episode 380\tAverage Score: -111.95\n",
            "Episode 390\tAverage Score: -109.80\n",
            "Episode 400\tAverage Score: -109.15\n",
            "Episode 410\tAverage Score: -106.94\n",
            "Episode 420\tAverage Score: -104.87\n",
            "Episode 430\tAverage Score: -104.91\n",
            "Episode 440\tAverage Score: -104.58\n",
            "Episode 450\tAverage Score: -104.07\n",
            "Episode 460\tAverage Score: -103.69\n",
            "Episode 470\tAverage Score: -103.44\n",
            "Episode 480\tAverage Score: -102.82\n",
            "Episode 490\tAverage Score: -103.41\n",
            "Episode 500\tAverage Score: -102.15\n",
            "\n",
            "Environment solved in 508 episodes!\tAverage Score: -101.99\n",
            "0:04:09.594738\n"
          ]
        }
      ],
      "source": [
        "''' Defining DQN Algorithm '''\n",
        "\n",
        "state_shape = env.observation_space.shape[0]\n",
        "action_shape = env.action_space.n\n",
        "\n",
        "\n",
        "def dqn(n_episodes=5000, max_t=1000, eps_start=1.0, eps_end=0.01, eps_decay=0.995,print_reward = False):\n",
        "\n",
        "    scores_window = deque(maxlen=100)\n",
        "    ''' last 100 scores for checking if the avg is more than 195 '''\n",
        "\n",
        "    eps = eps_start\n",
        "    ''' initialize epsilon '''\n",
        "    total_reward = []\n",
        "    for i_episode in range(1, n_episodes+1):\n",
        "        state = env.reset()\n",
        "        score = 0\n",
        "        for t in range(max_t):\n",
        "            action = agent.act(state, eps)\n",
        "            next_state, reward, done, _ = env.step(action)\n",
        "            agent.step(state, action, reward, next_state, done)\n",
        "            state = next_state\n",
        "            score += reward\n",
        "            if done:\n",
        "                break\n",
        "\n",
        "        scores_window.append(score)\n",
        "        total_reward.append(score)\n",
        "        eps = max(eps_end, eps_decay*eps)\n",
        "        ''' decrease epsilon '''\n",
        "\n",
        "        # print('\\rEpisode {}\\tAverage Score: {:.2f}'.format(i_episode, score), end=\"\")\n",
        "        if i_episode % 10 == 0 and print_reward == True:\n",
        "           print('\\rEpisode {}\\tAverage Score: {:.2f}'.format(i_episode, np.mean(scores_window)))\n",
        "        if np.mean(scores_window)>=-102.0:\n",
        "           print('\\nEnvironment solved in {:d} episodes!\\tAverage Score: {:.2f}'.format(i_episode, np.mean(scores_window)))\n",
        "           break\n",
        "    return total_reward\n",
        "\n",
        "''' Trial run to check if algorithm runs and saves the data '''\n",
        "\n",
        "begin_time = datetime.datetime.now()\n",
        "\n",
        "agent = TutorialAgent(state_size=state_shape,action_size = action_shape,seed = 0)\n",
        "dqn(print_reward = True)\n",
        "\n",
        "time_taken = datetime.datetime.now() - begin_time\n",
        "\n",
        "print(time_taken)"
      ]
    },
    {
      "cell_type": "code",
      "execution_count": null,
      "metadata": {
        "id": "FMxT1q6Ata5C"
      },
      "outputs": [],
      "source": [
        "torch.save(agent.qnetwork_local,'model_acrobot.pth')"
      ]
    },
    {
      "cell_type": "code",
      "execution_count": null,
      "metadata": {
        "colab": {
          "base_uri": "https://localhost:8080/"
        },
        "id": "_M3kt3hi6NT5",
        "outputId": "77ba964f-bca7-405a-b4bc-ec8833f7cad9"
      },
      "outputs": [
        {
          "output_type": "stream",
          "name": "stdout",
          "text": [
            "\n",
            "Environment solved in 1338 episodes!\tAverage Score: -101.79\n",
            "Completed 1 iterations\n",
            "\n",
            "Environment solved in 425 episodes!\tAverage Score: -101.65\n",
            "Completed 2 iterations\n",
            "\n",
            "Environment solved in 443 episodes!\tAverage Score: -101.93\n",
            "Completed 3 iterations\n",
            "\n",
            "Environment solved in 2052 episodes!\tAverage Score: -101.72\n",
            "Completed 4 iterations\n",
            "\n",
            "Environment solved in 416 episodes!\tAverage Score: -101.74\n",
            "Completed 5 iterations\n"
          ]
        }
      ],
      "source": [
        "N = 5\n",
        "reward_avg = []\n",
        "for i in range(5):\n",
        "  agent = TutorialAgent(state_size=state_shape,action_size = action_shape,seed = 0)\n",
        "  reward_avg.append(dqn())\n",
        "  print(f'Completed {i+1} iterations')"
      ]
    },
    {
      "cell_type": "code",
      "execution_count": null,
      "metadata": {
        "colab": {
          "base_uri": "https://localhost:8080/",
          "height": 430
        },
        "id": "13dhiSR577r7",
        "outputId": "1953ab76-bd07-47d3-9e99-4720ba38e1bc"
      },
      "outputs": [
        {
          "output_type": "display_data",
          "data": {
            "text/plain": [
              "<Figure size 640x480 with 1 Axes>"
            ],
            "image/png": "[encoded data removed]"
          },
          "metadata": {}
        }
      ],
      "source": [
        "# reward_avg = np.array(reward_avg)\n",
        "min_size = min([len(i) for i in reward_avg ])\n",
        "avg_reward = np.mean(np.array([i[:min_size] for i in reward_avg]),axis = 0)\n",
        "plt.plot(np.arange(len(avg_reward)),avg_reward)\n",
        "plt.show()"
      ]
    },
    {
      "cell_type": "code",
      "source": [
        "reward_save = [i[:min_size] for i in reward_avg]\n",
        "np.save(\"reward_Acrobot.npy\", reward_save)"
      ],
      "metadata": {
        "colab": {
          "base_uri": "https://localhost:8080/"
        },
        "id": "h3derzv_q33L",
        "outputId": "481e3a28-9fb1-431b-bd16-21f57fef39ca"
      },
      "execution_count": null,
      "outputs": [
        {
          "output_type": "stream",
          "name": "stderr",
          "text": [
            "/usr/local/lib/python3.10/dist-packages/ipykernel/ipkernel.py:283: DeprecationWarning: `should_run_async` will not call `transform_cell` automatically in the future. Please pass the result to `transformed_cell` argument and any exception that happen during thetransform in `preprocessing_exc_tuple` in IPython 7.17 and above.\n",
            "  and should_run_async(code)\n"
          ]
        }
      ]
    },
    {
      "cell_type": "markdown",
      "source": [
        "##max(A)"
      ],
      "metadata": {
        "id": "GLrY_wdTO96T"
      }
    },
    {
      "cell_type": "code",
      "execution_count": null,
      "metadata": {
        "id": "16M3M9TZta1r"
      },
      "outputs": [],
      "source": [
        "class TutorialAgent():\n",
        "\n",
        "    def __init__(self, state_size, action_size, seed):\n",
        "\n",
        "        ''' Agent Environment Interaction '''\n",
        "        self.state_size = state_size\n",
        "        self.action_size = action_size\n",
        "        self.seed = random.seed(seed)\n",
        "        self.lr = LR\n",
        "        ''' Q-Network '''\n",
        "        self.qnetwork_local = QNetwork1(state_size, action_size, hl_size = 42).to(device)\n",
        "        self.qnetwork_target = QNetwork1(state_size, action_size, hl_size = 42).to(device)\n",
        "        self.optimizer = optim.Adam(self.qnetwork_local.parameters(), lr=self.lr)\n",
        "\n",
        "        ''' Replay memory '''\n",
        "        self.memory = ReplayBuffer(action_size, BUFFER_SIZE, BATCH_SIZE, seed)\n",
        "\n",
        "        ''' Initialize time step (for updating every UPDATE_EVERY steps)           -Needed for Q Targets '''\n",
        "        self.t_step = 0\n",
        "\n",
        "    def step(self, state, action, reward, next_state, done):\n",
        "\n",
        "        ''' Save experience in replay memory '''\n",
        "        self.memory.add(state, action, reward, next_state, done)\n",
        "\n",
        "        ''' If enough samples are available in memory, get random subset and learn '''\n",
        "        if len(self.memory) >= BATCH_SIZE:\n",
        "            experiences = self.memory.sample()\n",
        "            self.learn(experiences, GAMMA)\n",
        "\n",
        "        \"\"\" +Q TARGETS PRESENT \"\"\"\n",
        "        ''' Updating the Network every 'UPDATE_EVERY' steps taken '''\n",
        "        self.t_step = (self.t_step + 1) % UPDATE_EVERY\n",
        "        if self.t_step == 0:\n",
        "            self.qnetwork_target.load_state_dict(self.qnetwork_local.state_dict())\n",
        "\n",
        "    def act(self, state, eps=0.5):\n",
        "\n",
        "        state = torch.from_numpy(state).float().unsqueeze(0).to(device)\n",
        "        self.qnetwork_local.eval()\n",
        "        with torch.no_grad():\n",
        "            _,action_values = self.qnetwork_local(state)\n",
        "        self.qnetwork_local.train()\n",
        "\n",
        "        ''' Epsilon-greedy action selection (Already Present) '''\n",
        "        if random.random() > eps:\n",
        "            return torch.argmax(action_values,dim=1).item()\n",
        "        else:\n",
        "            return random.choice(np.arange(self.action_size))\n",
        "\n",
        "    def learn(self, experiences, gamma):\n",
        "        \"\"\" +E EXPERIENCE REPLAY PRESENT \"\"\"\n",
        "        states, actions, rewards, next_states, dones = experiences\n",
        "        ''' Get max predicted Q values (for next states) from target model'''\n",
        "        V_targets_next, A_targets_next = self.qnetwork_target(next_states)\n",
        "        # V_targets_next = V_targets_next.detach().max(1)[0].unsqueeze(1)\n",
        "        # A_targets_next = A_targets_next.detach().max(1)[0].unsqueeze(1)\n",
        "        # V_targets_next = V_targets_next.detach().unsqueeze(1)\n",
        "        # A_targets_next = A_targets_next.detach().unsqueeze(1)\n",
        "        Q_targets_next = torch.add(V_targets_next, A_targets_next - torch.max(A_targets_next, dim=1).values.unsqueeze(1)).detach().max(1)[0].unsqueeze(1)\n",
        "\n",
        "        ''' Compute Q targets for current states '''\n",
        "        Q_targets = rewards + (gamma * Q_targets_next * (1 - dones))\n",
        "        # print(Q_targets_next,Q_targets)\n",
        "        # print(Q_targets_next.shape,Q_targets.shape)\n",
        "        ''' Get expected Q values from local model '''\n",
        "        V_targets, A_targets = self.qnetwork_local(states)\n",
        "        # print(V_targets,A_targets)\n",
        "        # V_targets = V_targets.detach().unsqueeze(1)\n",
        "        # A_targets = A_targets.detach().unsqueeze(1)\n",
        "        # print(states)\n",
        "        # print(V_targets,A_targets)\n",
        "        Q_expected = torch.add(V_targets, A_targets - torch.max(A_targets, dim=1).values.unsqueeze(1)).gather(1, actions)\n",
        "\n",
        "        ''' Compute loss '''\n",
        "        loss = F.mse_loss(Q_expected, Q_targets)\n",
        "\n",
        "        ''' Minimize the loss '''\n",
        "        self.optimizer.zero_grad()\n",
        "        loss.backward()\n",
        "        # if self.t_step == 0:\n",
        "        #   print(\"Loss:- \",loss.item())\n",
        "        ''' Gradiant Clipping '''\n",
        "        \"\"\" +T TRUNCATION PRESENT \"\"\"\n",
        "        for param in self.qnetwork_local.parameters():\n",
        "            param.grad.data.clamp_(-1, 1)\n",
        "\n",
        "        self.optimizer.step()\n",
        "\n",
        "\n"
      ]
    },
    {
      "cell_type": "code",
      "execution_count": null,
      "metadata": {
        "colab": {
          "base_uri": "https://localhost:8080/"
        },
        "id": "pW1IB3Whtazc",
        "outputId": "3421f4c2-4180-4782-e246-8d1b2fa82e83"
      },
      "outputs": [
        {
          "output_type": "stream",
          "name": "stdout",
          "text": [
            "Episode 10\tAverage Score: -500.00\n",
            "Episode 20\tAverage Score: -500.00\n",
            "Episode 30\tAverage Score: -496.37\n",
            "Episode 40\tAverage Score: -497.27\n",
            "Episode 50\tAverage Score: -484.56\n",
            "Episode 60\tAverage Score: -465.50\n",
            "Episode 70\tAverage Score: -448.41\n",
            "Episode 80\tAverage Score: -422.95\n",
            "Episode 90\tAverage Score: -401.12\n",
            "Episode 100\tAverage Score: -380.71\n",
            "Episode 110\tAverage Score: -354.02\n",
            "Episode 120\tAverage Score: -322.64\n",
            "Episode 130\tAverage Score: -291.84\n",
            "Episode 140\tAverage Score: -261.75\n",
            "Episode 150\tAverage Score: -234.43\n",
            "Episode 160\tAverage Score: -221.18\n",
            "Episode 170\tAverage Score: -202.31\n",
            "Episode 180\tAverage Score: -191.87\n",
            "Episode 190\tAverage Score: -184.31\n",
            "Episode 200\tAverage Score: -180.62\n",
            "Episode 210\tAverage Score: -172.27\n",
            "Episode 220\tAverage Score: -166.46\n",
            "Episode 230\tAverage Score: -167.57\n",
            "Episode 240\tAverage Score: -162.07\n",
            "Episode 250\tAverage Score: -162.77\n",
            "Episode 260\tAverage Score: -152.77\n",
            "Episode 270\tAverage Score: -150.88\n",
            "Episode 280\tAverage Score: -151.32\n",
            "Episode 290\tAverage Score: -152.11\n",
            "Episode 300\tAverage Score: -154.45\n",
            "Episode 310\tAverage Score: -157.81\n",
            "Episode 320\tAverage Score: -164.93\n",
            "Episode 330\tAverage Score: -161.20\n",
            "Episode 340\tAverage Score: -160.84\n",
            "Episode 350\tAverage Score: -162.86\n",
            "Episode 360\tAverage Score: -162.72\n",
            "Episode 370\tAverage Score: -164.93\n",
            "Episode 380\tAverage Score: -166.83\n",
            "Episode 390\tAverage Score: -167.33\n",
            "Episode 400\tAverage Score: -169.02\n",
            "Episode 410\tAverage Score: -168.83\n",
            "Episode 420\tAverage Score: -168.81\n",
            "Episode 430\tAverage Score: -168.73\n",
            "Episode 440\tAverage Score: -173.23\n",
            "Episode 450\tAverage Score: -174.69\n",
            "Episode 460\tAverage Score: -181.40\n",
            "Episode 470\tAverage Score: -183.01\n",
            "Episode 480\tAverage Score: -186.29\n",
            "Episode 490\tAverage Score: -185.16\n",
            "Episode 500\tAverage Score: -183.06\n",
            "Episode 510\tAverage Score: -186.57\n",
            "Episode 520\tAverage Score: -180.56\n",
            "Episode 530\tAverage Score: -182.35\n",
            "Episode 540\tAverage Score: -181.52\n",
            "Episode 550\tAverage Score: -176.22\n",
            "Episode 560\tAverage Score: -174.03\n",
            "Episode 570\tAverage Score: -170.33\n",
            "Episode 580\tAverage Score: -169.12\n",
            "Episode 590\tAverage Score: -171.51\n",
            "Episode 600\tAverage Score: -167.82\n",
            "Episode 610\tAverage Score: -161.72\n",
            "Episode 620\tAverage Score: -166.19\n",
            "Episode 630\tAverage Score: -167.71\n",
            "Episode 640\tAverage Score: -169.55\n",
            "Episode 650\tAverage Score: -174.47\n",
            "Episode 660\tAverage Score: -171.26\n",
            "Episode 670\tAverage Score: -181.39\n",
            "Episode 680\tAverage Score: -181.83\n",
            "Episode 690\tAverage Score: -181.43\n",
            "Episode 700\tAverage Score: -183.43\n",
            "Episode 710\tAverage Score: -185.66\n",
            "Episode 720\tAverage Score: -185.29\n",
            "Episode 730\tAverage Score: -183.19\n",
            "Episode 740\tAverage Score: -178.12\n",
            "Episode 750\tAverage Score: -173.12\n",
            "Episode 760\tAverage Score: -173.81\n",
            "Episode 770\tAverage Score: -167.42\n",
            "Episode 780\tAverage Score: -164.72\n",
            "Episode 790\tAverage Score: -164.24\n",
            "Episode 800\tAverage Score: -168.11\n",
            "Episode 810\tAverage Score: -171.39\n",
            "Episode 820\tAverage Score: -174.58\n",
            "Episode 830\tAverage Score: -183.68\n",
            "Episode 840\tAverage Score: -193.33\n",
            "Episode 850\tAverage Score: -198.75\n",
            "Episode 860\tAverage Score: -205.72\n",
            "Episode 870\tAverage Score: -211.50\n",
            "Episode 880\tAverage Score: -222.60\n",
            "Episode 890\tAverage Score: -228.01\n",
            "Episode 900\tAverage Score: -233.35\n",
            "Episode 910\tAverage Score: -240.86\n",
            "Episode 920\tAverage Score: -242.54\n",
            "Episode 930\tAverage Score: -246.07\n",
            "Episode 940\tAverage Score: -246.72\n",
            "Episode 950\tAverage Score: -256.17\n",
            "Episode 960\tAverage Score: -257.68\n",
            "Episode 970\tAverage Score: -264.52\n",
            "Episode 980\tAverage Score: -261.73\n",
            "Episode 990\tAverage Score: -269.74\n",
            "Episode 1000\tAverage Score: -265.62\n",
            "Episode 1010\tAverage Score: -258.30\n",
            "Episode 1020\tAverage Score: -261.55\n",
            "Episode 1030\tAverage Score: -252.91\n",
            "Episode 1040\tAverage Score: -244.89\n",
            "Episode 1050\tAverage Score: -234.29\n",
            "Episode 1060\tAverage Score: -238.33\n",
            "Episode 1070\tAverage Score: -239.18\n",
            "Episode 1080\tAverage Score: -242.47\n",
            "Episode 1090\tAverage Score: -238.86\n",
            "Episode 1100\tAverage Score: -242.57\n",
            "Episode 1110\tAverage Score: -251.35\n",
            "Episode 1120\tAverage Score: -256.33\n",
            "Episode 1130\tAverage Score: -254.48\n",
            "Episode 1140\tAverage Score: -257.17\n",
            "Episode 1150\tAverage Score: -257.10\n",
            "Episode 1160\tAverage Score: -254.83\n",
            "Episode 1170\tAverage Score: -245.50\n",
            "Episode 1180\tAverage Score: -236.79\n",
            "Episode 1190\tAverage Score: -230.06\n",
            "Episode 1200\tAverage Score: -222.75\n",
            "Episode 1210\tAverage Score: -214.82\n",
            "Episode 1220\tAverage Score: -202.01\n",
            "Episode 1230\tAverage Score: -198.13\n",
            "Episode 1240\tAverage Score: -197.51\n",
            "Episode 1250\tAverage Score: -191.92\n",
            "Episode 1260\tAverage Score: -175.28\n",
            "Episode 1270\tAverage Score: -162.15\n",
            "Episode 1280\tAverage Score: -151.94\n",
            "Episode 1290\tAverage Score: -139.55\n",
            "Episode 1300\tAverage Score: -129.63\n",
            "Episode 1310\tAverage Score: -116.81\n",
            "Episode 1320\tAverage Score: -107.96\n",
            "\n",
            "Environment solved in 1328 episodes!\tAverage Score: -101.95\n",
            "0:18:18.135957\n"
          ]
        }
      ],
      "source": [
        "''' Defining DQN Algorithm '''\n",
        "\n",
        "state_shape = env.observation_space.shape[0]\n",
        "action_shape = env.action_space.n\n",
        "\n",
        "\n",
        "def dqn(n_episodes=10000, max_t=1000, eps_start=1.0, eps_end=0.01, eps_decay=0.995,print_reward = False):\n",
        "\n",
        "    scores_window = deque(maxlen=100)\n",
        "    ''' last 100 scores for checking if the avg is more than 195 '''\n",
        "    total_reward = []\n",
        "    eps = eps_start\n",
        "    ''' initialize epsilon '''\n",
        "\n",
        "    for i_episode in range(1, n_episodes+1):\n",
        "        state = env.reset()\n",
        "        score = 0\n",
        "        for t in range(max_t):\n",
        "            action = agent.act(state, eps)\n",
        "            next_state, reward, done, _ = env.step(action)\n",
        "            agent.step(state, action, reward, next_state, done)\n",
        "            state = next_state\n",
        "            score += reward\n",
        "            if done:\n",
        "                break\n",
        "        total_reward.append(score)\n",
        "        scores_window.append(score)\n",
        "\n",
        "        eps = max(eps_end, eps_decay*eps)\n",
        "        ''' decrease epsilon '''\n",
        "\n",
        "        # print('\\rEpisode {}\\tAverage Score: {:.2f}'.format(i_episode, score), end=\"\")\n",
        "\n",
        "        if i_episode % 10 == 0 and print_reward == True:\n",
        "           print('\\rEpisode {}\\tAverage Score: {:.2f}'.format(i_episode, np.mean(scores_window)))\n",
        "        if np.mean(scores_window)>=-102:\n",
        "           print('\\nEnvironment solved in {:d} episodes!\\tAverage Score: {:.2f}'.format(i_episode, np.mean(scores_window)))\n",
        "           break\n",
        "    return total_reward\n",
        "\n",
        "''' Trial run to check if algorithm runs and saves the data '''\n",
        "\n",
        "begin_time = datetime.datetime.now()\n",
        "\n",
        "agent = TutorialAgent(state_size=state_shape,action_size = action_shape,seed = 0)\n",
        "dqn(print_reward = True)\n",
        "\n",
        "time_taken = datetime.datetime.now() - begin_time\n",
        "\n",
        "print(time_taken)"
      ]
    },
    {
      "cell_type": "code",
      "execution_count": null,
      "metadata": {
        "id": "uCiqdmvctaw-"
      },
      "outputs": [],
      "source": [
        "torch.save(agent.qnetwork_local,'model_max.pth')"
      ]
    },
    {
      "cell_type": "code",
      "execution_count": null,
      "metadata": {
        "id": "r1opILmJmbiK",
        "colab": {
          "base_uri": "https://localhost:8080/"
        },
        "outputId": "ac0bdaf7-00e0-401a-c073-bad37f9d5332"
      },
      "outputs": [
        {
          "output_type": "stream",
          "name": "stdout",
          "text": [
            "\n",
            "Environment solved in 1649 episodes!\tAverage Score: -100.81\n",
            "Completed 1 iterations\n",
            "\n",
            "Environment solved in 3619 episodes!\tAverage Score: -100.82\n",
            "Completed 2 iterations\n",
            "\n",
            "Environment solved in 2332 episodes!\tAverage Score: -100.99\n",
            "Completed 3 iterations\n",
            "\n",
            "Environment solved in 1628 episodes!\tAverage Score: -101.45\n",
            "Completed 4 iterations\n",
            "\n",
            "Environment solved in 1154 episodes!\tAverage Score: -100.16\n",
            "Completed 5 iterations\n"
          ]
        }
      ],
      "source": [
        "N = 5\n",
        "reward_max = []\n",
        "for i in range(5):\n",
        "  agent = TutorialAgent(state_size=state_shape,action_size = action_shape,seed = 0)\n",
        "  reward_max.append(dqn())\n",
        "  print(f'Completed {i+1} iterations')"
      ]
    },
    {
      "cell_type": "code",
      "execution_count": null,
      "metadata": {
        "id": "fkJz5wcKmbfV",
        "colab": {
          "base_uri": "https://localhost:8080/",
          "height": 430
        },
        "outputId": "5708eddf-7d54-4aaf-f7f4-9290f1413981"
      },
      "outputs": [
        {
          "output_type": "display_data",
          "data": {
            "text/plain": [
              "<Figure size 640x480 with 1 Axes>"
            ],
            "image/png": "[encoded data removed]"
          },
          "metadata": {}
        }
      ],
      "source": [
        "# reward_max = np.array(reward_max)\n",
        "min_size = min([len(i) for i in reward_max ])\n",
        "max_reward = np.mean(np.array([i[:min_size] for i in reward_max]),axis = 0)\n",
        "plt.plot(np.arange(len(max_reward)),max_reward)\n",
        "plt.show()"
      ]
    },
    {
      "cell_type": "code",
      "source": [
        "reward_save = [i[:min_size] for i in reward_max]\n",
        "np.save(\"reward_Acrobot_max.npy\", reward_save)"
      ],
      "metadata": {
        "colab": {
          "base_uri": "https://localhost:8080/"
        },
        "id": "Nuw3O-HjUZkk",
        "outputId": "309c4fc7-f851-497e-8a57-869760526128"
      },
      "execution_count": null,
      "outputs": [
        {
          "output_type": "stream",
          "name": "stderr",
          "text": [
            "/usr/local/lib/python3.10/dist-packages/ipykernel/ipkernel.py:283: DeprecationWarning: `should_run_async` will not call `transform_cell` automatically in the future. Please pass the result to `transformed_cell` argument and any exception that happen during thetransform in `preprocessing_exc_tuple` in IPython 7.17 and above.\n",
            "  and should_run_async(code)\n"
          ]
        }
      ]
    },
    {
      "cell_type": "code",
      "execution_count": null,
      "metadata": {
        "id": "SRv7eeXYmbcX",
        "colab": {
          "base_uri": "https://localhost:8080/",
          "height": 447
        },
        "outputId": "84d27085-93e3-4fb9-8962-7464b8e99c1d"
      },
      "outputs": [
        {
          "output_type": "execute_result",
          "data": {
            "text/plain": [
              "[<matplotlib.lines.Line2D at 0x7e559f8282b0>]"
            ]
          },
          "metadata": {},
          "execution_count": 29
        },
        {
          "output_type": "display_data",
          "data": {
            "text/plain": [
              "<Figure size 640x480 with 1 Axes>"
            ],
            "image/png": "[encoded data removed]"
          },
          "metadata": {}
        }
      ],
      "source": [
        "avg_reward = np.load('reward_Acrobot.npy')\n",
        "max_reward = np.load('reward_Acrobot_max.npy')\n",
        "episodes = min(len(avg_reward),len(max_reward))\n",
        "plt.plot(np.arange(episodes),avg_reward[:episodes],c='g', label='A - mean(A)')\n",
        "plt.plot(np.arange(episodes),max_reward[:episodes],c='r', label='A - max(A)')"
      ]
    },
    {
      "cell_type": "markdown",
      "source": [
        "#DQN"
      ],
      "metadata": {
        "id": "gNKWJGXMQPM2"
      }
    },
    {
      "cell_type": "markdown",
      "source": [
        "##mean(A)"
      ],
      "metadata": {
        "id": "NzJxcxxhQpkV"
      }
    },
    {
      "cell_type": "code",
      "execution_count": null,
      "metadata": {
        "id": "QQTw8cw7RF1q"
      },
      "outputs": [],
      "source": [
        "class TutorialAgent():\n",
        "\n",
        "    def __init__(self, state_size, action_size, seed):\n",
        "\n",
        "        ''' Agent Environment Interaction '''\n",
        "        self.state_size = state_size\n",
        "        self.action_size = action_size\n",
        "        self.seed = random.seed(seed)\n",
        "\n",
        "        ''' Q-Network '''\n",
        "        self.qnetwork_local = QNetwork1(state_size, action_size, hl_size = 42).to(device)\n",
        "        self.optimizer = optim.Adam(self.qnetwork_local.parameters(), lr=LR)\n",
        "\n",
        "        ''' Replay memory '''\n",
        "        self.memory = ReplayBuffer(action_size, BUFFER_SIZE, BATCH_SIZE, seed)\n",
        "\n",
        "        ''' Initialize time step (for updating every UPDATE_EVERY steps)           -Needed for Q Targets '''\n",
        "        self.t_step = 0\n",
        "\n",
        "    def step(self, state, action, reward, next_state, done):\n",
        "\n",
        "        ''' Save experience in replay memory '''\n",
        "        self.memory.add(state, action, reward, next_state, done)\n",
        "\n",
        "        ''' If enough samples are available in memory, get random subset and learn '''\n",
        "        if len(self.memory) >= BATCH_SIZE:\n",
        "            experiences = self.memory.sample()\n",
        "            self.learn(experiences, GAMMA)\n",
        "\n",
        "\n",
        "    def act(self, state, eps=0.5):\n",
        "\n",
        "        state = torch.from_numpy(state).float().unsqueeze(0).to(device)\n",
        "        self.qnetwork_local.eval()\n",
        "        with torch.no_grad():\n",
        "            _,action_values = self.qnetwork_local(state)\n",
        "        self.qnetwork_local.train()\n",
        "\n",
        "        ''' Epsilon-greedy action selection (Already Present) '''\n",
        "        if random.random() > eps:\n",
        "            return torch.argmax(action_values.to('cpu'),dim=1).item()\n",
        "        else:\n",
        "            return random.choice(np.arange(self.action_size))\n",
        "\n",
        "    def learn(self, experiences, gamma):\n",
        "        \"\"\" +E EXPERIENCE REPLAY PRESENT \"\"\"\n",
        "        states, actions, rewards, next_states, dones = experiences\n",
        "        ''' Get max predicted Q values (for next states) from target model'''\n",
        "        V_targets_next, A_targets_next = self.qnetwork_local(next_states)\n",
        "        # V_targets_next = V_targets_next.detach().max(1)[0].unsqueeze(1)\n",
        "        # A_targets_next = A_targets_next.detach().max(1)[0].unsqueeze(1)\n",
        "        # V_targets_next = V_targets_next.detach().unsqueeze(1)\n",
        "        # A_targets_next = A_targets_next.detach().unsqueeze(1)\n",
        "        # print(V_targets_next,A_targets_next)\n",
        "        Q_targets_next = torch.add(V_targets_next, A_targets_next - A_targets_next.mean(dim=1, keepdim=True)).detach().max(1)[0].unsqueeze(1)\n",
        "\n",
        "        ''' Compute Q targets for current states '''\n",
        "        Q_targets = rewards + (gamma * Q_targets_next * (1 - dones))\n",
        "        # print(Q_targets_next,Q_targets)\n",
        "        # print(Q_targets_next.shape,Q_targets.shape)\n",
        "        ''' Get expected Q values from local model '''\n",
        "        V_targets, A_targets = self.qnetwork_local(states)\n",
        "        # print(V_targets,A_targets)\n",
        "        # V_targets = V_targets.detach().unsqueeze(1)\n",
        "        # A_targets = A_targets.detach().unsqueeze(1)\n",
        "        # print(states)\n",
        "        # print(V_targets,A_targets)\n",
        "        Q_expected = torch.add(V_targets, A_targets - A_targets.mean(dim=1, keepdim=True)).gather(1, actions)\n",
        "\n",
        "        ''' Compute loss '''\n",
        "        loss = F.mse_loss(Q_expected, Q_targets)\n",
        "\n",
        "        ''' Minimize the loss '''\n",
        "        self.optimizer.zero_grad()\n",
        "        loss.backward()\n",
        "        # if self.t_step == 0:\n",
        "        #   print(\"Loss:- \",loss.item())\n",
        "        ''' Gradiant Clipping '''\n",
        "        \"\"\" +T TRUNCATION PRESENT \"\"\"\n",
        "        for param in self.qnetwork_local.parameters():\n",
        "            param.grad.data.clamp_(-1, 1)\n",
        "\n",
        "        self.optimizer.step()\n",
        "\n",
        "\n"
      ]
    },
    {
      "cell_type": "code",
      "execution_count": null,
      "metadata": {
        "colab": {
          "base_uri": "https://localhost:8080/"
        },
        "outputId": "76811bcb-4364-4591-c56c-2656361a2892",
        "id": "4BU--eBiRF1z"
      },
      "outputs": [
        {
          "output_type": "stream",
          "name": "stdout",
          "text": [
            "Episode 10\tAverage Score: -500.00\n",
            "Episode 20\tAverage Score: -500.00\n",
            "Episode 30\tAverage Score: -495.53\n",
            "Episode 40\tAverage Score: -480.45\n",
            "Episode 50\tAverage Score: -447.18\n",
            "Episode 60\tAverage Score: -427.08\n",
            "Episode 70\tAverage Score: -398.71\n",
            "Episode 80\tAverage Score: -378.51\n",
            "Episode 90\tAverage Score: -358.29\n",
            "Episode 100\tAverage Score: -342.19\n",
            "Episode 110\tAverage Score: -311.98\n",
            "Episode 120\tAverage Score: -279.23\n",
            "Episode 130\tAverage Score: -246.45\n",
            "Episode 140\tAverage Score: -219.98\n",
            "Episode 150\tAverage Score: -202.15\n",
            "Episode 160\tAverage Score: -183.05\n",
            "Episode 170\tAverage Score: -174.03\n",
            "Episode 180\tAverage Score: -164.87\n",
            "Episode 190\tAverage Score: -158.40\n",
            "Episode 200\tAverage Score: -151.81\n",
            "Episode 210\tAverage Score: -145.50\n",
            "Episode 220\tAverage Score: -140.68\n",
            "Episode 230\tAverage Score: -137.12\n",
            "Episode 240\tAverage Score: -133.04\n",
            "Episode 250\tAverage Score: -130.85\n",
            "Episode 260\tAverage Score: -127.75\n",
            "Episode 270\tAverage Score: -125.05\n",
            "Episode 280\tAverage Score: -120.98\n",
            "Episode 290\tAverage Score: -118.83\n",
            "Episode 300\tAverage Score: -116.27\n",
            "Episode 310\tAverage Score: -113.21\n",
            "Episode 320\tAverage Score: -111.01\n",
            "Episode 330\tAverage Score: -109.30\n",
            "Episode 340\tAverage Score: -106.35\n",
            "Episode 350\tAverage Score: -105.62\n",
            "Episode 360\tAverage Score: -107.17\n",
            "Episode 370\tAverage Score: -107.71\n",
            "Episode 380\tAverage Score: -106.87\n",
            "Episode 390\tAverage Score: -109.37\n",
            "Episode 400\tAverage Score: -108.71\n",
            "Episode 410\tAverage Score: -108.87\n",
            "Episode 420\tAverage Score: -109.47\n",
            "Episode 430\tAverage Score: -108.66\n",
            "Episode 440\tAverage Score: -108.24\n",
            "Episode 450\tAverage Score: -107.60\n",
            "Episode 460\tAverage Score: -105.24\n",
            "Episode 470\tAverage Score: -104.03\n",
            "Episode 480\tAverage Score: -104.66\n",
            "Episode 490\tAverage Score: -101.07\n",
            "\n",
            "Environment solved in 490 episodes!\tAverage Score: -101.07\n",
            "0:04:50.062181\n"
          ]
        }
      ],
      "source": [
        "''' Defining DQN Algorithm '''\n",
        "\n",
        "state_shape = env.observation_space.shape[0]\n",
        "action_shape = env.action_space.n\n",
        "\n",
        "\n",
        "def dqn(n_episodes=5000, max_t=1000, eps_start=1.0, eps_end=0.01, eps_decay=0.995,print_reward = False):\n",
        "\n",
        "    scores_window = deque(maxlen=100)\n",
        "    ''' last 100 scores for checking if the avg is more than 195 '''\n",
        "\n",
        "    eps = eps_start\n",
        "    ''' initialize epsilon '''\n",
        "    total_reward = []\n",
        "    for i_episode in range(1, n_episodes+1):\n",
        "        state = env.reset()\n",
        "        score = 0\n",
        "        for t in range(max_t):\n",
        "            action = agent.act(state, eps)\n",
        "            next_state, reward, done, _ = env.step(action)\n",
        "            agent.step(state, action, reward, next_state, done)\n",
        "            state = next_state\n",
        "            score += reward\n",
        "            if done:\n",
        "                break\n",
        "\n",
        "        scores_window.append(score)\n",
        "        total_reward.append(score)\n",
        "        eps = max(eps_end, eps_decay*eps)\n",
        "        ''' decrease epsilon '''\n",
        "\n",
        "        # print('\\rEpisode {}\\tAverage Score: {:.2f}'.format(i_episode, score), end=\"\")\n",
        "        if i_episode % 10 == 0 and print_reward == True:\n",
        "           print('\\rEpisode {}\\tAverage Score: {:.2f}'.format(i_episode, np.mean(scores_window)))\n",
        "        if np.mean(scores_window)>=-102.0:\n",
        "           print('\\nEnvironment solved in {:d} episodes!\\tAverage Score: {:.2f}'.format(i_episode, np.mean(scores_window)))\n",
        "           break\n",
        "    return total_reward\n",
        "\n",
        "''' Trial run to check if algorithm runs and saves the data '''\n",
        "\n",
        "begin_time = datetime.datetime.now()\n",
        "\n",
        "agent = TutorialAgent(state_size=state_shape,action_size = action_shape,seed = 0)\n",
        "dqn(print_reward = True)\n",
        "\n",
        "time_taken = datetime.datetime.now() - begin_time\n",
        "\n",
        "print(time_taken)"
      ]
    },
    {
      "cell_type": "code",
      "execution_count": null,
      "metadata": {
        "id": "LYnOdNXxRF1z"
      },
      "outputs": [],
      "source": [
        "torch.save(agent.qnetwork_local,'model_acrobot_mean_DQN.pth')"
      ]
    },
    {
      "cell_type": "code",
      "execution_count": null,
      "metadata": {
        "colab": {
          "base_uri": "https://localhost:8080/"
        },
        "outputId": "6e04f64d-3469-44b7-85d7-18c9182dfe44",
        "id": "YCFy2ji_RF1z"
      },
      "outputs": [
        {
          "output_type": "stream",
          "name": "stdout",
          "text": [
            "\n",
            "Environment solved in 547 episodes!\tAverage Score: -101.94\n",
            "Completed 1 iterations\n",
            "\n",
            "Environment solved in 1307 episodes!\tAverage Score: -101.79\n",
            "Completed 2 iterations\n",
            "\n",
            "Environment solved in 450 episodes!\tAverage Score: -101.89\n",
            "Completed 3 iterations\n",
            "\n",
            "Environment solved in 528 episodes!\tAverage Score: -101.47\n",
            "Completed 4 iterations\n",
            "\n",
            "Environment solved in 582 episodes!\tAverage Score: -100.68\n",
            "Completed 5 iterations\n"
          ]
        }
      ],
      "source": [
        "N = 5\n",
        "reward_avg = []\n",
        "for i in range(5):\n",
        "  agent = TutorialAgent(state_size=state_shape,action_size = action_shape,seed = 0)\n",
        "  reward_avg.append(dqn())\n",
        "  print(f'Completed {i+1} iterations')"
      ]
    },
    {
      "cell_type": "code",
      "execution_count": null,
      "metadata": {
        "colab": {
          "base_uri": "https://localhost:8080/",
          "height": 430
        },
        "outputId": "c597a306-77af-473d-fa81-ee69b9ac7d96",
        "id": "3FqOCm-6RF10"
      },
      "outputs": [
        {
          "output_type": "display_data",
          "data": {
            "text/plain": [
              "<Figure size 640x480 with 1 Axes>"
            ],
            "image/png": "[encoded data removed]"
          },
          "metadata": {}
        }
      ],
      "source": [
        "# reward_avg = np.array(reward_avg)\n",
        "min_size = min([len(i) for i in reward_avg ])\n",
        "avg_reward = np.mean(np.array([i[:min_size] for i in reward_avg]),axis = 0)\n",
        "plt.plot(np.arange(len(avg_reward)),avg_reward)\n",
        "plt.show()"
      ]
    },
    {
      "cell_type": "code",
      "source": [
        "reward_save = [i[:min_size] for i in reward_avg]\n",
        "np.save(\"reward_Acrobot_mean_DQN.npy\", reward_save)"
      ],
      "metadata": {
        "id": "edGps5G7RF10"
      },
      "execution_count": null,
      "outputs": []
    },
    {
      "cell_type": "markdown",
      "source": [
        "##max(A)"
      ],
      "metadata": {
        "id": "TLVQ1S7eSZs_"
      }
    },
    {
      "cell_type": "code",
      "execution_count": null,
      "metadata": {
        "id": "pJVhhqC9SZtG"
      },
      "outputs": [],
      "source": [
        "class TutorialAgent():\n",
        "\n",
        "    def __init__(self, state_size, action_size, seed):\n",
        "\n",
        "        ''' Agent Environment Interaction '''\n",
        "        self.state_size = state_size\n",
        "        self.action_size = action_size\n",
        "        self.seed = random.seed(seed)\n",
        "        self.lr = LR\n",
        "        ''' Q-Network '''\n",
        "        self.qnetwork_local = QNetwork1(state_size, action_size, hl_size = 42).to(device)\n",
        "        self.optimizer = optim.Adam(self.qnetwork_local.parameters(), lr=self.lr)\n",
        "\n",
        "        ''' Replay memory '''\n",
        "        self.memory = ReplayBuffer(action_size, BUFFER_SIZE, BATCH_SIZE, seed)\n",
        "\n",
        "\n",
        "    def step(self, state, action, reward, next_state, done):\n",
        "\n",
        "        ''' Save experience in replay memory '''\n",
        "        self.memory.add(state, action, reward, next_state, done)\n",
        "\n",
        "        ''' If enough samples are available in memory, get random subset and learn '''\n",
        "        if len(self.memory) >= BATCH_SIZE:\n",
        "            experiences = self.memory.sample()\n",
        "            self.learn(experiences, GAMMA)\n",
        "\n",
        "\n",
        "    def act(self, state, eps=0.5):\n",
        "\n",
        "        state = torch.from_numpy(state).float().unsqueeze(0).to(device)\n",
        "        self.qnetwork_local.eval()\n",
        "        with torch.no_grad():\n",
        "            _,action_values = self.qnetwork_local(state)\n",
        "        self.qnetwork_local.train()\n",
        "\n",
        "        ''' Epsilon-greedy action selection (Already Present) '''\n",
        "        if random.random() > eps:\n",
        "            return torch.argmax(action_values,dim=1).item()\n",
        "        else:\n",
        "            return random.choice(np.arange(self.action_size))\n",
        "\n",
        "    def learn(self, experiences, gamma):\n",
        "        \"\"\" +E EXPERIENCE REPLAY PRESENT \"\"\"\n",
        "        states, actions, rewards, next_states, dones = experiences\n",
        "        ''' Get max predicted Q values (for next states) from target model'''\n",
        "        V_targets_next, A_targets_next = self.qnetwork_local(next_states)\n",
        "        # V_targets_next = V_targets_next.detach().max(1)[0].unsqueeze(1)\n",
        "        # A_targets_next = A_targets_next.detach().max(1)[0].unsqueeze(1)\n",
        "        # V_targets_next = V_targets_next.detach().unsqueeze(1)\n",
        "        # A_targets_next = A_targets_next.detach().unsqueeze(1)\n",
        "        Q_targets_next = torch.add(V_targets_next, A_targets_next - torch.max(A_targets_next, dim=1).values.unsqueeze(1)).detach().max(1)[0].unsqueeze(1)\n",
        "\n",
        "        ''' Compute Q targets for current states '''\n",
        "        Q_targets = rewards + (gamma * Q_targets_next * (1 - dones))\n",
        "        # print(Q_targets_next,Q_targets)\n",
        "        # print(Q_targets_next.shape,Q_targets.shape)\n",
        "        ''' Get expected Q values from local model '''\n",
        "        V_targets, A_targets = self.qnetwork_local(states)\n",
        "        # print(V_targets,A_targets)\n",
        "        # V_targets = V_targets.detac h().unsqueeze(1)\n",
        "        # A_targets = A_targets.detach().unsqueeze(1)\n",
        "        # print(states)\n",
        "        # print(V_targets,A_targets)\n",
        "        Q_expected = torch.add(V_targets, A_targets - torch.max(A_targets, dim=1).values.unsqueeze(1)).gather(1, actions)\n",
        "\n",
        "        ''' Compute loss '''\n",
        "        loss = F.mse_loss(Q_expected, Q_targets)\n",
        "\n",
        "        ''' Minimize the loss '''\n",
        "        self.optimizer.zero_grad()\n",
        "        loss.backward()\n",
        "        # if self.t_step == 0:\n",
        "        #   print(\"Loss:- \",loss.item())\n",
        "        ''' Gradiant Clipping '''\n",
        "        \"\"\" +T TRUNCATION PRESENT \"\"\"\n",
        "        for param in self.qnetwork_local.parameters():\n",
        "            param.grad.data.clamp_(-1, 1)\n",
        "\n",
        "        self.optimizer.step()\n",
        "\n",
        "\n"
      ]
    },
    {
      "cell_type": "code",
      "execution_count": null,
      "metadata": {
        "colab": {
          "base_uri": "https://localhost:8080/"
        },
        "outputId": "5c40b0a2-d9d3-4538-91cf-e9f2f7c0d2e7",
        "id": "qgp1p51rSZtH"
      },
      "outputs": [
        {
          "output_type": "stream",
          "name": "stdout",
          "text": [
            "Episode 10\tAverage Score: -500.00\n",
            "Episode 20\tAverage Score: -500.00\n",
            "Episode 30\tAverage Score: -500.00\n",
            "Episode 40\tAverage Score: -500.00\n",
            "Episode 50\tAverage Score: -500.00\n",
            "Episode 60\tAverage Score: -498.78\n",
            "Episode 70\tAverage Score: -491.50\n",
            "Episode 80\tAverage Score: -466.38\n",
            "Episode 90\tAverage Score: -443.03\n",
            "Episode 100\tAverage Score: -421.35\n",
            "Episode 110\tAverage Score: -392.83\n",
            "Episode 120\tAverage Score: -364.83\n",
            "Episode 130\tAverage Score: -335.45\n",
            "Episode 140\tAverage Score: -306.36\n",
            "Episode 150\tAverage Score: -276.93\n",
            "Episode 160\tAverage Score: -245.78\n",
            "Episode 170\tAverage Score: -217.65\n",
            "Episode 180\tAverage Score: -204.13\n",
            "Episode 190\tAverage Score: -199.39\n",
            "Episode 200\tAverage Score: -194.13\n",
            "Episode 210\tAverage Score: -191.31\n",
            "Episode 220\tAverage Score: -185.16\n",
            "Episode 230\tAverage Score: -178.70\n",
            "Episode 240\tAverage Score: -174.55\n",
            "Episode 250\tAverage Score: -170.16\n",
            "Episode 260\tAverage Score: -165.90\n",
            "Episode 270\tAverage Score: -164.19\n",
            "Episode 280\tAverage Score: -162.80\n",
            "Episode 290\tAverage Score: -155.52\n",
            "Episode 300\tAverage Score: -151.43\n",
            "Episode 310\tAverage Score: -149.05\n",
            "Episode 320\tAverage Score: -150.96\n",
            "Episode 330\tAverage Score: -154.88\n",
            "Episode 340\tAverage Score: -153.83\n",
            "Episode 350\tAverage Score: -153.91\n",
            "Episode 360\tAverage Score: -153.98\n",
            "Episode 370\tAverage Score: -157.03\n",
            "Episode 380\tAverage Score: -161.67\n",
            "Episode 390\tAverage Score: -168.73\n",
            "Episode 400\tAverage Score: -172.69\n",
            "Episode 410\tAverage Score: -178.08\n",
            "Episode 420\tAverage Score: -176.94\n",
            "Episode 430\tAverage Score: -177.57\n",
            "Episode 440\tAverage Score: -183.77\n",
            "Episode 450\tAverage Score: -186.08\n",
            "Episode 460\tAverage Score: -185.52\n",
            "Episode 470\tAverage Score: -181.71\n",
            "Episode 480\tAverage Score: -183.25\n",
            "Episode 490\tAverage Score: -177.84\n",
            "Episode 500\tAverage Score: -180.26\n",
            "Episode 510\tAverage Score: -172.76\n",
            "Episode 520\tAverage Score: -175.11\n",
            "Episode 530\tAverage Score: -170.94\n",
            "Episode 540\tAverage Score: -161.64\n",
            "Episode 550\tAverage Score: -159.76\n",
            "Episode 560\tAverage Score: -167.55\n",
            "Episode 570\tAverage Score: -172.65\n",
            "Episode 580\tAverage Score: -169.19\n",
            "Episode 590\tAverage Score: -170.89\n",
            "Episode 600\tAverage Score: -170.18\n",
            "Episode 610\tAverage Score: -171.28\n",
            "Episode 620\tAverage Score: -164.28\n",
            "Episode 630\tAverage Score: -162.07\n",
            "Episode 640\tAverage Score: -163.63\n",
            "Episode 650\tAverage Score: -159.80\n",
            "Episode 660\tAverage Score: -152.33\n",
            "Episode 670\tAverage Score: -151.68\n",
            "Episode 680\tAverage Score: -148.15\n",
            "Episode 690\tAverage Score: -143.21\n",
            "Episode 700\tAverage Score: -137.04\n",
            "Episode 710\tAverage Score: -133.85\n",
            "Episode 720\tAverage Score: -134.63\n",
            "Episode 730\tAverage Score: -136.06\n",
            "Episode 740\tAverage Score: -134.75\n",
            "Episode 750\tAverage Score: -136.44\n",
            "Episode 760\tAverage Score: -134.41\n",
            "Episode 770\tAverage Score: -127.85\n",
            "Episode 780\tAverage Score: -127.52\n",
            "Episode 790\tAverage Score: -128.10\n",
            "Episode 800\tAverage Score: -129.48\n",
            "Episode 810\tAverage Score: -136.15\n",
            "Episode 820\tAverage Score: -140.77\n",
            "Episode 830\tAverage Score: -165.22\n",
            "Episode 840\tAverage Score: -197.60\n",
            "Episode 850\tAverage Score: -231.49\n",
            "Episode 860\tAverage Score: -269.83\n",
            "Episode 870\tAverage Score: -307.14\n",
            "Episode 880\tAverage Score: -344.14\n",
            "Episode 890\tAverage Score: -381.54\n",
            "Episode 900\tAverage Score: -417.39\n",
            "Episode 910\tAverage Score: -447.69\n",
            "Episode 920\tAverage Score: -477.07\n",
            "Episode 930\tAverage Score: -483.62\n",
            "Episode 940\tAverage Score: -477.06\n",
            "Episode 950\tAverage Score: -463.19\n",
            "Episode 960\tAverage Score: -435.26\n",
            "Episode 970\tAverage Score: -401.62\n",
            "Episode 980\tAverage Score: -367.75\n",
            "Episode 990\tAverage Score: -330.21\n",
            "Episode 1000\tAverage Score: -294.09\n",
            "Episode 1010\tAverage Score: -257.24\n",
            "Episode 1020\tAverage Score: -224.32\n",
            "Episode 1030\tAverage Score: -192.32\n",
            "Episode 1040\tAverage Score: -167.72\n",
            "Episode 1050\tAverage Score: -146.79\n",
            "Episode 1060\tAverage Score: -135.92\n",
            "Episode 1070\tAverage Score: -132.23\n",
            "Episode 1080\tAverage Score: -129.67\n",
            "Episode 1090\tAverage Score: -129.50\n",
            "Episode 1100\tAverage Score: -129.09\n",
            "Episode 1110\tAverage Score: -128.59\n",
            "Episode 1120\tAverage Score: -127.27\n",
            "Episode 1130\tAverage Score: -126.34\n",
            "Episode 1140\tAverage Score: -126.61\n",
            "Episode 1150\tAverage Score: -125.31\n",
            "Episode 1160\tAverage Score: -126.58\n",
            "Episode 1170\tAverage Score: -130.45\n",
            "Episode 1180\tAverage Score: -131.32\n",
            "Episode 1190\tAverage Score: -131.33\n",
            "Episode 1200\tAverage Score: -130.96\n",
            "Episode 1210\tAverage Score: -132.21\n",
            "Episode 1220\tAverage Score: -135.21\n",
            "Episode 1230\tAverage Score: -139.92\n",
            "Episode 1240\tAverage Score: -141.01\n",
            "Episode 1250\tAverage Score: -146.36\n",
            "Episode 1260\tAverage Score: -146.90\n",
            "Episode 1270\tAverage Score: -148.99\n",
            "Episode 1280\tAverage Score: -156.91\n",
            "Episode 1290\tAverage Score: -162.03\n",
            "Episode 1300\tAverage Score: -160.84\n",
            "Episode 1310\tAverage Score: -170.08\n",
            "Episode 1320\tAverage Score: -168.47\n",
            "Episode 1330\tAverage Score: -169.97\n",
            "Episode 1340\tAverage Score: -169.17\n",
            "Episode 1350\tAverage Score: -161.88\n",
            "Episode 1360\tAverage Score: -159.99\n",
            "Episode 1370\tAverage Score: -161.30\n",
            "Episode 1380\tAverage Score: -150.97\n",
            "Episode 1390\tAverage Score: -147.83\n",
            "Episode 1400\tAverage Score: -146.68\n",
            "Episode 1410\tAverage Score: -134.82\n",
            "Episode 1420\tAverage Score: -132.46\n",
            "Episode 1430\tAverage Score: -125.73\n",
            "Episode 1440\tAverage Score: -122.60\n",
            "Episode 1450\tAverage Score: -124.23\n",
            "Episode 1460\tAverage Score: -132.70\n",
            "Episode 1470\tAverage Score: -124.87\n",
            "Episode 1480\tAverage Score: -124.99\n",
            "Episode 1490\tAverage Score: -122.34\n",
            "Episode 1500\tAverage Score: -125.69\n",
            "Episode 1510\tAverage Score: -127.94\n",
            "Episode 1520\tAverage Score: -131.74\n",
            "Episode 1530\tAverage Score: -134.76\n",
            "Episode 1540\tAverage Score: -136.57\n",
            "Episode 1550\tAverage Score: -136.30\n",
            "Episode 1560\tAverage Score: -131.56\n",
            "Episode 1570\tAverage Score: -134.27\n",
            "Episode 1580\tAverage Score: -135.62\n",
            "Episode 1590\tAverage Score: -139.73\n",
            "Episode 1600\tAverage Score: -137.69\n",
            "Episode 1610\tAverage Score: -139.70\n",
            "Episode 1620\tAverage Score: -139.06\n",
            "Episode 1630\tAverage Score: -138.80\n",
            "Episode 1640\tAverage Score: -143.15\n",
            "Episode 1650\tAverage Score: -145.84\n",
            "Episode 1660\tAverage Score: -144.30\n",
            "Episode 1670\tAverage Score: -144.28\n",
            "Episode 1680\tAverage Score: -143.83\n",
            "Episode 1690\tAverage Score: -143.12\n",
            "Episode 1700\tAverage Score: -144.93\n",
            "Episode 1710\tAverage Score: -143.70\n",
            "Episode 1720\tAverage Score: -141.06\n",
            "Episode 1730\tAverage Score: -141.79\n",
            "Episode 1740\tAverage Score: -147.39\n",
            "Episode 1750\tAverage Score: -149.42\n",
            "Episode 1760\tAverage Score: -155.00\n",
            "Episode 1770\tAverage Score: -152.70\n",
            "Episode 1780\tAverage Score: -160.63\n",
            "Episode 1790\tAverage Score: -165.74\n",
            "Episode 1800\tAverage Score: -170.01\n",
            "Episode 1810\tAverage Score: -174.38\n",
            "Episode 1820\tAverage Score: -174.89\n",
            "Episode 1830\tAverage Score: -175.85\n",
            "Episode 1840\tAverage Score: -166.97\n",
            "Episode 1850\tAverage Score: -162.67\n",
            "Episode 1860\tAverage Score: -156.79\n",
            "Episode 1870\tAverage Score: -156.89\n",
            "Episode 1880\tAverage Score: -148.87\n",
            "Episode 1890\tAverage Score: -142.14\n",
            "Episode 1900\tAverage Score: -136.90\n",
            "Episode 1910\tAverage Score: -135.49\n",
            "Episode 1920\tAverage Score: -135.17\n",
            "Episode 1930\tAverage Score: -132.49\n",
            "Episode 1940\tAverage Score: -130.13\n",
            "Episode 1950\tAverage Score: -130.89\n",
            "Episode 1960\tAverage Score: -131.19\n",
            "Episode 1970\tAverage Score: -133.33\n",
            "Episode 1980\tAverage Score: -132.03\n",
            "Episode 1990\tAverage Score: -132.23\n",
            "Episode 2000\tAverage Score: -131.88\n",
            "Episode 2010\tAverage Score: -129.30\n",
            "Episode 2020\tAverage Score: -130.28\n",
            "Episode 2030\tAverage Score: -145.55\n",
            "Episode 2040\tAverage Score: -161.50\n",
            "Episode 2050\tAverage Score: -182.97\n",
            "Episode 2060\tAverage Score: -207.59\n",
            "Episode 2070\tAverage Score: -229.69\n",
            "Episode 2080\tAverage Score: -258.54\n",
            "Episode 2090\tAverage Score: -285.04\n",
            "Episode 2100\tAverage Score: -312.54\n",
            "Episode 2110\tAverage Score: -328.91\n",
            "Episode 2120\tAverage Score: -337.42\n",
            "Episode 2130\tAverage Score: -326.98\n",
            "Episode 2140\tAverage Score: -310.98\n",
            "Episode 2150\tAverage Score: -288.27\n",
            "Episode 2160\tAverage Score: -262.11\n",
            "Episode 2170\tAverage Score: -240.68\n",
            "Episode 2180\tAverage Score: -212.89\n",
            "Episode 2190\tAverage Score: -183.61\n",
            "Episode 2200\tAverage Score: -154.89\n",
            "Episode 2210\tAverage Score: -138.39\n",
            "Episode 2220\tAverage Score: -129.19\n",
            "Episode 2230\tAverage Score: -121.90\n",
            "Episode 2240\tAverage Score: -124.54\n",
            "Episode 2250\tAverage Score: -124.53\n",
            "Episode 2260\tAverage Score: -127.73\n",
            "Episode 2270\tAverage Score: -126.56\n",
            "Episode 2280\tAverage Score: -129.06\n",
            "Episode 2290\tAverage Score: -131.19\n",
            "Episode 2300\tAverage Score: -134.01\n",
            "Episode 2310\tAverage Score: -135.13\n",
            "Episode 2320\tAverage Score: -134.28\n",
            "Episode 2330\tAverage Score: -139.22\n",
            "Episode 2340\tAverage Score: -136.13\n",
            "Episode 2350\tAverage Score: -139.39\n",
            "Episode 2360\tAverage Score: -136.95\n",
            "Episode 2370\tAverage Score: -136.82\n",
            "Episode 2380\tAverage Score: -135.32\n",
            "Episode 2390\tAverage Score: -135.12\n",
            "Episode 2400\tAverage Score: -135.04\n",
            "Episode 2410\tAverage Score: -135.74\n",
            "Episode 2420\tAverage Score: -135.68\n",
            "Episode 2430\tAverage Score: -135.98\n",
            "Episode 2440\tAverage Score: -137.59\n",
            "Episode 2450\tAverage Score: -137.34\n",
            "Episode 2460\tAverage Score: -137.39\n",
            "Episode 2470\tAverage Score: -133.93\n",
            "Episode 2480\tAverage Score: -135.27\n",
            "Episode 2490\tAverage Score: -135.70\n",
            "Episode 2500\tAverage Score: -136.98\n",
            "Episode 2510\tAverage Score: -139.20\n",
            "Episode 2520\tAverage Score: -143.08\n",
            "Episode 2530\tAverage Score: -144.50\n",
            "Episode 2540\tAverage Score: -150.08\n",
            "Episode 2550\tAverage Score: -156.53\n",
            "Episode 2560\tAverage Score: -162.70\n",
            "Episode 2570\tAverage Score: -171.29\n",
            "Episode 2580\tAverage Score: -177.00\n",
            "Episode 2590\tAverage Score: -180.01\n",
            "Episode 2600\tAverage Score: -181.81\n",
            "Episode 2610\tAverage Score: -181.16\n",
            "Episode 2620\tAverage Score: -181.50\n",
            "Episode 2630\tAverage Score: -179.19\n",
            "Episode 2640\tAverage Score: -173.18\n",
            "Episode 2650\tAverage Score: -166.46\n",
            "Episode 2660\tAverage Score: -160.33\n",
            "Episode 2670\tAverage Score: -155.94\n",
            "Episode 2680\tAverage Score: -148.02\n",
            "Episode 2690\tAverage Score: -144.19\n",
            "Episode 2700\tAverage Score: -137.76\n",
            "Episode 2710\tAverage Score: -134.21\n",
            "Episode 2720\tAverage Score: -127.91\n",
            "Episode 2730\tAverage Score: -123.47\n",
            "Episode 2740\tAverage Score: -124.75\n",
            "Episode 2750\tAverage Score: -122.18\n",
            "Episode 2760\tAverage Score: -120.33\n",
            "Episode 2770\tAverage Score: -116.48\n",
            "Episode 2780\tAverage Score: -114.37\n",
            "Episode 2790\tAverage Score: -112.62\n",
            "Episode 2800\tAverage Score: -112.98\n",
            "Episode 2810\tAverage Score: -110.87\n",
            "Episode 2820\tAverage Score: -112.17\n",
            "Episode 2830\tAverage Score: -113.95\n",
            "Episode 2840\tAverage Score: -111.39\n",
            "Episode 2850\tAverage Score: -110.51\n",
            "Episode 2860\tAverage Score: -110.54\n",
            "Episode 2870\tAverage Score: -110.15\n",
            "Episode 2880\tAverage Score: -111.16\n",
            "Episode 2890\tAverage Score: -113.63\n",
            "Episode 2900\tAverage Score: -112.64\n",
            "Episode 2910\tAverage Score: -111.10\n",
            "Episode 2920\tAverage Score: -111.80\n",
            "Episode 2930\tAverage Score: -111.05\n",
            "Episode 2940\tAverage Score: -109.96\n",
            "Episode 2950\tAverage Score: -111.58\n",
            "Episode 2960\tAverage Score: -114.54\n",
            "Episode 2970\tAverage Score: -115.02\n",
            "Episode 2980\tAverage Score: -113.33\n",
            "Episode 2990\tAverage Score: -112.11\n",
            "Episode 3000\tAverage Score: -117.10\n",
            "Episode 3010\tAverage Score: -119.30\n",
            "Episode 3020\tAverage Score: -120.90\n",
            "Episode 3030\tAverage Score: -119.74\n",
            "Episode 3040\tAverage Score: -120.19\n",
            "Episode 3050\tAverage Score: -116.48\n",
            "Episode 3060\tAverage Score: -114.67\n",
            "Episode 3070\tAverage Score: -115.37\n",
            "Episode 3080\tAverage Score: -115.17\n",
            "Episode 3090\tAverage Score: -114.83\n",
            "Episode 3100\tAverage Score: -109.83\n",
            "Episode 3110\tAverage Score: -108.03\n",
            "Episode 3120\tAverage Score: -106.59\n",
            "Episode 3130\tAverage Score: -106.56\n",
            "Episode 3140\tAverage Score: -107.07\n",
            "Episode 3150\tAverage Score: -107.96\n",
            "Episode 3160\tAverage Score: -107.56\n",
            "Episode 3170\tAverage Score: -106.83\n",
            "Episode 3180\tAverage Score: -106.87\n",
            "Episode 3190\tAverage Score: -105.64\n",
            "Episode 3200\tAverage Score: -105.92\n",
            "Episode 3210\tAverage Score: -104.94\n",
            "Episode 3220\tAverage Score: -102.55\n",
            "Episode 3230\tAverage Score: -102.76\n",
            "\n",
            "Environment solved in 3232 episodes!\tAverage Score: -101.95\n",
            "0:36:52.761292\n"
          ]
        }
      ],
      "source": [
        "''' Defining DQN Algorithm '''\n",
        "\n",
        "state_shape = env.observation_space.shape[0]\n",
        "action_shape = env.action_space.n\n",
        "\n",
        "\n",
        "def dqn(n_episodes=10000, max_t=1000, eps_start=1.0, eps_end=0.01, eps_decay=0.995,print_reward = False):\n",
        "\n",
        "    scores_window = deque(maxlen=100)\n",
        "    ''' last 100 scores for checking if the avg is more than 195 '''\n",
        "    total_reward = []\n",
        "    eps = eps_start\n",
        "    ''' initialize epsilon '''\n",
        "\n",
        "    for i_episode in range(1, n_episodes+1):\n",
        "        state = env.reset()\n",
        "        score = 0\n",
        "        for t in range(max_t):\n",
        "            action = agent.act(state, eps)\n",
        "            next_state, reward, done, _ = env.step(action)\n",
        "            agent.step(state, action, reward, next_state, done)\n",
        "            state = next_state\n",
        "            score += reward\n",
        "            if done:\n",
        "                break\n",
        "        total_reward.append(score)\n",
        "        scores_window.append(score)\n",
        "\n",
        "        eps = max(eps_end, eps_decay*eps)\n",
        "        ''' decrease epsilon '''\n",
        "\n",
        "        # print('\\rEpisode {}\\tAverage Score: {:.2f}'.format(i_episode, score), end=\"\")\n",
        "\n",
        "        if i_episode % 10 == 0 and print_reward == True:\n",
        "           print('\\rEpisode {}\\tAverage Score: {:.2f}'.format(i_episode, np.mean(scores_window)))\n",
        "        if np.mean(scores_window)>=-102:\n",
        "           print('\\nEnvironment solved in {:d} episodes!\\tAverage Score: {:.2f}'.format(i_episode, np.mean(scores_window)))\n",
        "           break\n",
        "    return total_reward\n",
        "\n",
        "''' Trial run to check if algorithm runs and saves the data '''\n",
        "\n",
        "begin_time = datetime.datetime.now()\n",
        "\n",
        "agent = TutorialAgent(state_size=state_shape,action_size = action_shape,seed = 0)\n",
        "dqn(print_reward = True)\n",
        "\n",
        "time_taken = datetime.datetime.now() - begin_time\n",
        "\n",
        "print(time_taken)"
      ]
    },
    {
      "cell_type": "code",
      "execution_count": null,
      "metadata": {
        "id": "iwGLIMTjSZtH"
      },
      "outputs": [],
      "source": [
        "torch.save(agent.qnetwork_local,'model_max_DQN.pth')"
      ]
    },
    {
      "cell_type": "code",
      "execution_count": null,
      "metadata": {
        "colab": {
          "base_uri": "https://localhost:8080/"
        },
        "id": "XCuXOhMISZtH",
        "outputId": "f47c369f-6d44-4b0a-c73c-41938474066c"
      },
      "outputs": [
        {
          "output_type": "stream",
          "name": "stdout",
          "text": [
            "\n",
            "Environment solved in 4051 episodes!\tAverage Score: -100.11\n",
            "Completed 1 iterations\n",
            "\n",
            "Environment solved in 4446 episodes!\tAverage Score: -101.88\n",
            "Completed 2 iterations\n",
            "\n",
            "Environment solved in 3644 episodes!\tAverage Score: -101.95\n",
            "Completed 3 iterations\n",
            "\n",
            "Environment solved in 3115 episodes!\tAverage Score: -101.99\n",
            "Completed 4 iterations\n",
            "\n",
            "Environment solved in 3282 episodes!\tAverage Score: -100.93\n",
            "Completed 5 iterations\n"
          ]
        }
      ],
      "source": [
        "N = 5\n",
        "reward_max = []\n",
        "for i in range(5):\n",
        "  agent = TutorialAgent(state_size=state_shape,action_size = action_shape,seed = 0)\n",
        "  reward_max.append(dqn())\n",
        "  print(f'Completed {i+1} iterations')"
      ]
    },
    {
      "cell_type": "code",
      "execution_count": null,
      "metadata": {
        "colab": {
          "base_uri": "https://localhost:8080/",
          "height": 430
        },
        "id": "9NPe9PACSZtH",
        "outputId": "31c8c968-d241-4668-804a-649605f4d580"
      },
      "outputs": [
        {
          "output_type": "display_data",
          "data": {
            "text/plain": [
              "<Figure size 640x480 with 1 Axes>"
            ],
            "image/png": "[encoded data removed]"
          },
          "metadata": {}
        }
      ],
      "source": [
        "# reward_max = np.array(reward_max)\n",
        "min_size = min([len(i) for i in reward_max ])\n",
        "max_reward = np.mean(np.array([i[:min_size] for i in reward_max]),axis = 0)\n",
        "plt.plot(np.arange(len(max_reward)),max_reward)\n",
        "plt.xlabel('Episodes')\n",
        "plt.ylabel('Return')\n",
        "plt.title('Type 2')\n",
        "plt.legend()"
      ]
    },
    {
      "cell_type": "code",
      "source": [
        "reward_save = [i[:min_size] for i in reward_max]\n",
        "np.save(\"reward_Acrobot_max_DQN.npy\", reward_save)"
      ],
      "metadata": {
        "colab": {
          "base_uri": "https://localhost:8080/"
        },
        "id": "g17qzCtgT-QT",
        "outputId": "afc5c929-c23e-45b7-f0db-36521d2d84c2"
      },
      "execution_count": null,
      "outputs": [
        {
          "output_type": "stream",
          "name": "stderr",
          "text": [
            "/usr/local/lib/python3.10/dist-packages/ipykernel/ipkernel.py:283: DeprecationWarning: `should_run_async` will not call `transform_cell` automatically in the future. Please pass the result to `transformed_cell` argument and any exception that happen during thetransform in `preprocessing_exc_tuple` in IPython 7.17 and above.\n",
            "  and should_run_async(code)\n"
          ]
        }
      ]
    },
    {
      "cell_type": "code",
      "execution_count": 3,
      "metadata": {
        "colab": {
          "base_uri": "https://localhost:8080/",
          "height": 489
        },
        "id": "3gDI-pVdSZtH",
        "outputId": "67178141-99a1-4224-de09-93b87c7f1cdf"
      },
      "outputs": [
        {
          "output_type": "execute_result",
          "data": {
            "text/plain": [
              "<matplotlib.legend.Legend at 0x7e88478343a0>"
            ]
          },
          "metadata": {},
          "execution_count": 3
        },
        {
          "output_type": "display_data",
          "data": {
            "text/plain": [
              "<Figure size 640x480 with 1 Axes>"
            ],
            "image/png": "[encoded data removed]"
          },
          "metadata": {}
        }
      ],
      "source": [
        "import numpy as np\n",
        "import matplotlib.pyplot as plt\n",
        "avg_reward = np.load('reward_Acrobot_mean_DQN.npy')\n",
        "max_reward = np.load('reward_Acrobot_max_DQN.npy')\n",
        "min_size = min(min([len(i) for i in max_reward ]),min([len(i) for i in avg_reward ]))\n",
        "avg_reward = np.mean(np.array([i[:min_size] for i in avg_reward]),axis = 0)\n",
        "max_reward = np.mean(np.array([i[:min_size] for i in max_reward]),axis = 0)\n",
        "plt.plot(np.arange(len(avg_reward)),avg_reward,c='g', label='A - mean(A)')\n",
        "plt.plot(np.arange(len(max_reward)),max_reward,c='r', label='A - max(A)')\n",
        "plt.xlabel('Episodes')\n",
        "plt.ylabel('Return')\n",
        "plt.title('Return vs Episode')\n",
        "plt.legend()"
      ]
    },
    {
      "cell_type": "code",
      "execution_count": 6,
      "metadata": {
        "id": "MblZid7JmbPm",
        "colab": {
          "base_uri": "https://localhost:8080/",
          "height": 527
        },
        "outputId": "bdf35ccf-2601-4262-b609-04c0b3573ae7"
      },
      "outputs": [
        {
          "output_type": "stream",
          "name": "stderr",
          "text": [
            "WARNING:matplotlib.legend:No artists with labels found to put in legend.  Note that artists whose label start with an underscore are ignored when legend() is called with no argument.\n"
          ]
        },
        {
          "output_type": "execute_result",
          "data": {
            "text/plain": [
              "<matplotlib.legend.Legend at 0x7e88749228c0>"
            ]
          },
          "metadata": {},
          "execution_count": 6
        },
        {
          "output_type": "display_data",
          "data": {
            "text/plain": [
              "<Figure size 640x480 with 1 Axes>"
            ],
            "image/png": "[encoded data removed]"
          },
          "metadata": {}
        }
      ],
      "source": [
        "# reward_max = np.array(reward_max)\n",
        "max_reward = np.load('reward_Acrobot_mean_DQN.npy')\n",
        "max_reward = np.mean(np.array([i[:min_size] for i in max_reward]),axis = 0)\n",
        "# min_size = min([len(i) for i in reward_max ])\n",
        "# max_reward = np.mean(np.array([i[:min_size] for i in reward_max]),axis = 0)\n",
        "plt.plot(np.arange(len(max_reward)),max_reward)\n",
        "plt.xlabel('Episodes')\n",
        "plt.ylabel('Return')\n",
        "plt.title('Type 1')\n",
        "plt.legend()"
      ]
    },
    {
      "cell_type": "code",
      "source": [
        "avg_reward = np.load('reward_Acrobot_mean_DQN.npy')\n",
        "max_reward = np.load('reward_Acrobot_max_DQN.npy')\n",
        "min_size = min(min([len(i) for i in max_reward ]),min([len(i) for i in avg_reward ]))\n",
        "avg_reward = np.mean(np.array([i[:min_size] for i in avg_reward]),axis = 0)\n",
        "max_reward = np.mean(np.array([i[:min_size] for i in max_reward]),axis = 0)\n",
        "max_val = max(max(avg_reward),max(max_reward))\n",
        "print(\"mean:- \", sum(max_val-avg_reward)/len(avg_reward) )\n",
        "print(\"max:- \", sum(max_val-max_reward)/len(max_reward) )"
      ],
      "metadata": {
        "colab": {
          "base_uri": "https://localhost:8080/"
        },
        "id": "KYFl5aW9lqnv",
        "outputId": "72427a86-d3c2-42a5-d2f4-12bac3a8a279"
      },
      "execution_count": 8,
      "outputs": [
        {
          "output_type": "stream",
          "name": "stdout",
          "text": [
            "mean:-  85.93466666666677\n",
            "max:-  125.36488888888891\n"
          ]
        }
      ]
    },
    {
      "cell_type": "code",
      "source": [],
      "metadata": {
        "id": "aEzQX-KrrHxK"
      },
      "execution_count": null,
      "outputs": []
    }
  ],
  "metadata": {
    "colab": {
      "provenance": []
    },
    "kernelspec": {
      "display_name": "Python 3",
      "name": "python3"
    },
    "language_info": {
      "name": "python"
    }
  },
  "nbformat": 4,
  "nbformat_minor": 0
}