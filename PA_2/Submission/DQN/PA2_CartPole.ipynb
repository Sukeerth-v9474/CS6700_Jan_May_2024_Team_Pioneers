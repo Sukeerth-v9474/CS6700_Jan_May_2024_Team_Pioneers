{
  "cells": [
    {
      "cell_type": "code",
      "execution_count": null,
      "metadata": {
        "colab": {
          "base_uri": "https://localhost:8080/",
          "height": 547
        },
        "id": "pATBIzOq__gK",
        "outputId": "39ebe3d3-081d-4f53-92ca-86b053e1fc26"
      },
      "outputs": [
        {
          "output_type": "stream",
          "name": "stdout",
          "text": [
            "Requirement already satisfied: setuptools in /usr/local/lib/python3.10/dist-packages (67.7.2)\n",
            "Collecting setuptools\n",
            "  Downloading setuptools-69.2.0-py3-none-any.whl (821 kB)\n",
            "\u001b[2K     \u001b[90m━━━━━━━━━━━━━━━━━━━━━━━━━━━━━━━━━━━━━━━━\u001b[0m \u001b[32m821.5/821.5 kB\u001b[0m \u001b[31m14.9 MB/s\u001b[0m eta \u001b[36m0:00:00\u001b[0m\n",
            "\u001b[?25hInstalling collected packages: setuptools\n",
            "  Attempting uninstall: setuptools\n",
            "    Found existing installation: setuptools 67.7.2\n",
            "    Uninstalling setuptools-67.7.2:\n",
            "      Successfully uninstalled setuptools-67.7.2\n",
            "\u001b[31mERROR: pip's dependency resolver does not currently take into account all the packages that are installed. This behaviour is the source of the following dependency conflicts.\n",
            "ipython 7.34.0 requires jedi>=0.16, which is not installed.\u001b[0m\u001b[31m\n",
            "\u001b[0mSuccessfully installed setuptools-69.2.0\n"
          ]
        },
        {
          "output_type": "display_data",
          "data": {
            "application/vnd.colab-display-data+json": {
              "pip_warning": {
                "packages": [
                  "_distutils_hack",
                  "pkg_resources",
                  "setuptools"
                ]
              },
              "id": "97123aa2a7f54c51adfe3bac2064b3fd"
            }
          },
          "metadata": {}
        },
        {
          "output_type": "stream",
          "name": "stdout",
          "text": [
            "Requirement already satisfied: gym[classic_control] in /usr/local/lib/python3.10/dist-packages (0.25.2)\n",
            "Requirement already satisfied: numpy>=1.18.0 in /usr/local/lib/python3.10/dist-packages (from gym[classic_control]) (1.25.2)\n",
            "Requirement already satisfied: cloudpickle>=1.2.0 in /usr/local/lib/python3.10/dist-packages (from gym[classic_control]) (2.2.1)\n",
            "Requirement already satisfied: gym-notices>=0.0.4 in /usr/local/lib/python3.10/dist-packages (from gym[classic_control]) (0.0.8)\n",
            "Collecting pygame==2.1.0 (from gym[classic_control])\n",
            "  Downloading pygame-2.1.0-cp310-cp310-manylinux_2_17_x86_64.manylinux2014_x86_64.whl (18.3 MB)\n",
            "\u001b[2K     \u001b[90m━━━━━━━━━━━━━━━━━━━━━━━━━━━━━━━━━━━━━━━━\u001b[0m \u001b[32m18.3/18.3 MB\u001b[0m \u001b[31m47.5 MB/s\u001b[0m eta \u001b[36m0:00:00\u001b[0m\n",
            "\u001b[?25hInstalling collected packages: pygame\n",
            "  Attempting uninstall: pygame\n",
            "    Found existing installation: pygame 2.5.2\n",
            "    Uninstalling pygame-2.5.2:\n",
            "      Successfully uninstalled pygame-2.5.2\n",
            "Successfully installed pygame-2.1.0\n"
          ]
        }
      ],
      "source": [
        "!pip install gym pyvirtualdisplay > /dev/null 2>&1\n",
        "!apt-get install -y xvfb python-opengl ffmpeg > /dev/null 2>&1\n",
        "!apt-get update > /dev/null 2>&1\n",
        "!apt-get install cmake > /dev/null 2>&1\n",
        "!pip install --upgrade setuptools 2>&1\n",
        "!pip install ez_setup > /dev/null 2>&1\n",
        "!pip install gym[atari] > /dev/null 2>&1\n",
        "!pip install git+https://github.com/tensorflow/docs > /dev/null 2>&1\n",
        "!pip install gym[classic_control]"
      ]
    },
    {
      "cell_type": "code",
      "execution_count": null,
      "metadata": {
        "colab": {
          "base_uri": "https://localhost:8080/"
        },
        "id": "Ma0dkJEF_R-Y",
        "outputId": "59bb2235-8efe-4963-a980-98e7bc035c7a"
      },
      "outputs": [
        {
          "output_type": "stream",
          "name": "stderr",
          "text": [
            "/usr/local/lib/python3.10/dist-packages/tensorflow_probability/python/__init__.py:57: DeprecationWarning: distutils Version classes are deprecated. Use packaging.version instead.\n",
            "  if (distutils.version.LooseVersion(tf.__version__) <\n"
          ]
        }
      ],
      "source": [
        "import numpy as np\n",
        "import matplotlib.pyplot as plt\n",
        "import random\n",
        "import torch\n",
        "import torch.nn as nn\n",
        "import torch.nn.functional as F\n",
        "from collections import namedtuple, deque\n",
        "import torch.optim as optim\n",
        "import datetime\n",
        "import gym\n",
        "from gym.wrappers.record_video import RecordVideo\n",
        "import glob\n",
        "import io\n",
        "import base64\n",
        "import matplotlib.pyplot as plt\n",
        "from IPython.display import HTML\n",
        "from pyvirtualdisplay import Display\n",
        "import tensorflow as tf\n",
        "from IPython import display as ipythondisplay\n",
        "from PIL import Image\n",
        "import tensorflow_probability as tfp"
      ]
    },
    {
      "cell_type": "code",
      "execution_count": null,
      "metadata": {
        "colab": {
          "base_uri": "https://localhost:8080/"
        },
        "id": "1-6BgqE8_rBr",
        "outputId": "858ac9a9-86b6-4760-bede-35eddd6404f5"
      },
      "outputs": [
        {
          "output_type": "stream",
          "name": "stdout",
          "text": [
            "[ 0.01488718 -0.03706156 -0.03969997  0.02440084]\n"
          ]
        },
        {
          "output_type": "stream",
          "name": "stderr",
          "text": [
            "/usr/local/lib/python3.10/dist-packages/ipykernel/ipkernel.py:283: DeprecationWarning: `should_run_async` will not call `transform_cell` automatically in the future. Please pass the result to `transformed_cell` argument and any exception that happen during thetransform in `preprocessing_exc_tuple` in IPython 7.17 and above.\n",
            "  and should_run_async(code)\n",
            "/usr/local/lib/python3.10/dist-packages/gym/core.py:317: DeprecationWarning: \u001b[33mWARN: Initializing wrapper in old step API which returns one bool instead of two. It is recommended to set `new_step_api=True` to use new step API. This will be the default behaviour in future.\u001b[0m\n",
            "  deprecation(\n",
            "/usr/local/lib/python3.10/dist-packages/gym/wrappers/step_api_compatibility.py:39: DeprecationWarning: \u001b[33mWARN: Initializing environment in old step API which returns one bool instead of two. It is recommended to set `new_step_api=True` to use new step API. This will be the default behaviour in future.\u001b[0m\n",
            "  deprecation(\n"
          ]
        }
      ],
      "source": [
        "'''\n",
        "Bunch of Hyper parameters (Which you might have to tune later)\n",
        "'''\n",
        "BUFFER_SIZE = int(1e5)  # replay buffer size\n",
        "BATCH_SIZE = 64         # minibatch size\n",
        "GAMMA = 0.99            # discount factor\n",
        "LR = 5e-5             # learning rate\n",
        "UPDATE_EVERY = 20       # how often to update the network (When Q target is present)\n",
        "\n",
        "env = gym.make('CartPole-v1')\n",
        "state = env.reset()\n",
        "print(state)"
      ]
    },
    {
      "cell_type": "code",
      "execution_count": null,
      "metadata": {
        "colab": {
          "base_uri": "https://localhost:8080/"
        },
        "id": "9mvMchDBAZWW",
        "outputId": "6436e674-c80f-4410-dcc3-7838eba18f41"
      },
      "outputs": [
        {
          "output_type": "stream",
          "name": "stdout",
          "text": [
            "(tensor([[-0.5581],\n",
            "        [-0.5581]], grad_fn=<AddmmBackward0>), tensor([[-0.2740, -0.1630],\n",
            "        [-0.2740, -0.1630]], grad_fn=<AddmmBackward0>))\n"
          ]
        }
      ],
      "source": [
        "class QNetwork1(nn.Module):\n",
        "\n",
        "  def __init__(self, state_size, action_size, hl_size):\n",
        "    super(QNetwork1,self).__init__()\n",
        "    self.input_layer = nn.Linear(state_size,hl_size)\n",
        "    self.value_layer = nn.Linear(hl_size,1)\n",
        "    self.advantage_layer = nn.Linear(hl_size,action_size)\n",
        "\n",
        "  def forward(self,state):\n",
        "    x = F.relu(self.input_layer(state))\n",
        "    value = self.value_layer(x)\n",
        "    advantage = self.advantage_layer(x)\n",
        "    return value , advantage\n",
        "\n",
        "\n",
        "network = QNetwork1(2,2,2)\n",
        "print(network.forward(torch.tensor([[1,4],[1,4]],dtype=torch.float32)))"
      ]
    },
    {
      "cell_type": "markdown",
      "metadata": {
        "id": "ZKo3dlhkLyJt"
      },
      "source": [
        "## Replay Buffer"
      ]
    },
    {
      "cell_type": "code",
      "execution_count": null,
      "metadata": {
        "id": "IgB9s_x7Dd-0"
      },
      "outputs": [],
      "source": [
        "import random\n",
        "import torch\n",
        "import numpy as np\n",
        "from collections import deque, namedtuple\n",
        "\n",
        "device = torch.device(\"cuda:0\" if torch.cuda.is_available() else \"cpu\")\n",
        "\n",
        "class ReplayBuffer:\n",
        "    \"\"\"Fixed-size buffer to store experience tuples.\"\"\"\n",
        "\n",
        "    def __init__(self, action_size, buffer_size, batch_size, seed):\n",
        "        \"\"\"Initialize a ReplayBuffer object.\n",
        "\n",
        "        Params\n",
        "        ======\n",
        "            action_size (int): dimension of each action\n",
        "            buffer_size (int): maximum size of buffer\n",
        "            batch_size (int): size of each training batch\n",
        "            seed (int): random seed\n",
        "        \"\"\"\n",
        "        self.action_size = action_size\n",
        "        self.memory = deque(maxlen=buffer_size)\n",
        "        self.batch_size = batch_size\n",
        "        self.experience = namedtuple(\"Experience\", field_names=[\"state\", \"action\", \"reward\", \"next_state\", \"done\"])\n",
        "        self.seed = random.seed(seed)\n",
        "\n",
        "    def add(self, state, action, reward, next_state, done):\n",
        "        \"\"\"Add a new experience to memory.\"\"\"\n",
        "        e = self.experience(state, action, reward, next_state, done)\n",
        "        self.memory.append(e)\n",
        "\n",
        "    def sample(self):\n",
        "        \"\"\"Randomly sample a batch of experiences from memory.\"\"\"\n",
        "        experiences = random.sample(self.memory, k=self.batch_size)\n",
        "\n",
        "        states = torch.from_numpy(np.vstack([e.state for e in experiences if e is not None])).float().to(device)\n",
        "        actions = torch.from_numpy(np.vstack([e.action for e in experiences if e is not None])).long().to(device)\n",
        "        rewards = torch.from_numpy(np.vstack([e.reward for e in experiences if e is not None])).float().to(device)\n",
        "        next_states = torch.from_numpy(np.vstack([e.next_state for e in experiences if e is not None])).float().to(device)\n",
        "        dones = torch.from_numpy(np.vstack([e.done for e in experiences if e is not None]).astype(np.uint8)).float().to(device)\n",
        "\n",
        "        return (states, actions, rewards, next_states, dones)\n",
        "\n",
        "    def __len__(self):\n",
        "        \"\"\"Return the current size of internal memory.\"\"\"\n",
        "        return len(self.memory)"
      ]
    },
    {
      "cell_type": "markdown",
      "source": [
        "#Dueling DQN"
      ],
      "metadata": {
        "id": "IEXFLOBZeDZL"
      }
    },
    {
      "cell_type": "markdown",
      "source": [
        "#mean(A)"
      ],
      "metadata": {
        "id": "6xSK3o1DhqjY"
      }
    },
    {
      "cell_type": "code",
      "execution_count": null,
      "metadata": {
        "id": "3MfT2w_-ld1W"
      },
      "outputs": [],
      "source": [
        "class TutorialAgent():\n",
        "\n",
        "    def __init__(self, state_size, action_size, seed):\n",
        "\n",
        "        ''' Agent Environment Interaction '''\n",
        "        self.state_size = state_size\n",
        "        self.action_size = action_size\n",
        "        self.seed = random.seed(seed)\n",
        "\n",
        "        ''' Q-Network '''\n",
        "        self.qnetwork_local = QNetwork1(state_size, action_size, hl_size = 42).to(device)\n",
        "        self.qnetwork_target = QNetwork1(state_size, action_size, hl_size = 42).to(device)\n",
        "        self.optimizer = optim.Adam(self.qnetwork_local.parameters(), lr=LR)\n",
        "\n",
        "        ''' Replay memory '''\n",
        "        self.memory = ReplayBuffer(action_size, BUFFER_SIZE, BATCH_SIZE, seed)\n",
        "\n",
        "        ''' Initialize time step (for updating every UPDATE_EVERY steps)           -Needed for Q Targets '''\n",
        "        self.t_step = 0\n",
        "\n",
        "    def step(self, state, action, reward, next_state, done):\n",
        "\n",
        "        ''' Save experience in replay memory '''\n",
        "        self.memory.add(state, action, reward, next_state, done)\n",
        "\n",
        "        ''' If enough samples are available in memory, get random subset and learn '''\n",
        "        if len(self.memory) >= BATCH_SIZE:\n",
        "            experiences = self.memory.sample()\n",
        "            self.learn(experiences, GAMMA)\n",
        "\n",
        "        \"\"\" +Q TARGETS PRESENT \"\"\"\n",
        "        ''' Updating the Network every 'UPDATE_EVERY' steps taken '''\n",
        "        self.t_step = (self.t_step + 1) % UPDATE_EVERY\n",
        "        if self.t_step == 0:\n",
        "            self.qnetwork_target.load_state_dict(self.qnetwork_local.state_dict())\n",
        "\n",
        "    def act(self, state, eps=0.5):\n",
        "\n",
        "        state = torch.from_numpy(state).float().unsqueeze(0).to(device)\n",
        "        self.qnetwork_local.eval()\n",
        "        with torch.no_grad():\n",
        "            _,action_values = self.qnetwork_local(state)\n",
        "        self.qnetwork_local.train()\n",
        "\n",
        "        ''' Epsilon-greedy action selection (Already Present) '''\n",
        "        if random.random() > eps:\n",
        "            return torch.argmax(action_values.to('cpu'),dim=1).item()\n",
        "        else:\n",
        "            return random.choice(np.arange(self.action_size))\n",
        "\n",
        "    def learn(self, experiences, gamma):\n",
        "        \"\"\" +E EXPERIENCE REPLAY PRESENT \"\"\"\n",
        "        states, actions, rewards, next_states, dones = experiences\n",
        "        ''' Get max predicted Q values (for next states) from target model'''\n",
        "        V_targets_next, A_targets_next = self.qnetwork_target(next_states)\n",
        "        Q_targets_next = torch.add(V_targets_next, A_targets_next - A_targets_next.mean(dim=1, keepdim=True)).detach().max(1)[0].unsqueeze(1)\n",
        "\n",
        "        ''' Compute Q targets for current states '''\n",
        "        Q_targets = rewards + (gamma * Q_targets_next * (1 - dones))\n",
        "        ''' Get expected Q values from local model '''\n",
        "        Q_expected = torch.add(V_targets, A_targets - A_targets.mean(dim=1, keepdim=True)).gather(1, actions)\n",
        "\n",
        "        ''' Compute loss '''\n",
        "        loss = F.mse_loss(Q_expected, Q_targets)\n",
        "\n",
        "        ''' Minimize the loss '''\n",
        "        self.optimizer.zero_grad()\n",
        "        loss.backward()\n",
        "        ''' Gradiant Clipping '''\n",
        "        \"\"\" +T TRUNCATION PRESENT \"\"\"\n",
        "        for param in self.qnetwork_local.parameters():\n",
        "            param.grad.data.clamp_(-1, 1)\n",
        "\n",
        "        self.optimizer.step()\n",
        "\n",
        "\n"
      ]
    },
    {
      "cell_type": "code",
      "execution_count": null,
      "metadata": {
        "colab": {
          "base_uri": "https://localhost:8080/"
        },
        "id": "RR5gsBcRl2x1",
        "outputId": "e64b3920-df19-47c6-8295-6d6ea80dab7c"
      },
      "outputs": [
        {
          "metadata": {
            "tags": null
          },
          "name": "stderr",
          "output_type": "stream",
          "text": [
            "/usr/local/lib/python3.10/dist-packages/gym/utils/passive_env_checker.py:241: DeprecationWarning: `np.bool8` is a deprecated alias for `np.bool_`.  (Deprecated NumPy 1.24)\n",
            "  if not isinstance(terminated, (bool, np.bool8)):\n"
          ]
        },
        {
          "output_type": "stream",
          "name": "stdout",
          "text": [
            "Episode 100\tAverage Score: 20.38\n",
            "Episode 200\tAverage Score: 13.54\n",
            "Episode 300\tAverage Score: 11.44\n",
            "Episode 400\tAverage Score: 10.23\n",
            "Episode 500\tAverage Score: 10.09\n",
            "Episode 600\tAverage Score: 9.81\n",
            "Episode 700\tAverage Score: 9.64\n",
            "Episode 800\tAverage Score: 9.59\n",
            "Episode 900\tAverage Score: 9.63\n",
            "Episode 1000\tAverage Score: 9.52\n",
            "Episode 1100\tAverage Score: 9.77\n",
            "Episode 1200\tAverage Score: 10.05\n",
            "Episode 1300\tAverage Score: 10.81\n",
            "Episode 1400\tAverage Score: 10.51\n",
            "Episode 1500\tAverage Score: 9.50\n",
            "Episode 1600\tAverage Score: 9.55\n",
            "Episode 1700\tAverage Score: 10.16\n",
            "Episode 1800\tAverage Score: 12.00\n",
            "Episode 1900\tAverage Score: 12.04\n",
            "Episode 2000\tAverage Score: 26.53\n",
            "Episode 2100\tAverage Score: 21.06\n",
            "Episode 2200\tAverage Score: 16.71\n",
            "Episode 2300\tAverage Score: 15.21\n",
            "Episode 2400\tAverage Score: 15.13\n",
            "Episode 2500\tAverage Score: 14.73\n",
            "Episode 2600\tAverage Score: 14.46\n",
            "Episode 2700\tAverage Score: 14.37\n",
            "Episode 2800\tAverage Score: 14.22\n",
            "Episode 2900\tAverage Score: 14.19\n",
            "Episode 3000\tAverage Score: 14.37\n",
            "Episode 3100\tAverage Score: 14.73\n",
            "Episode 3200\tAverage Score: 15.00\n",
            "Episode 3300\tAverage Score: 15.53\n",
            "Episode 3400\tAverage Score: 15.66\n",
            "Episode 3500\tAverage Score: 16.38\n",
            "Episode 3600\tAverage Score: 17.19\n",
            "Episode 3700\tAverage Score: 17.40\n",
            "Episode 3800\tAverage Score: 18.74\n",
            "Episode 3900\tAverage Score: 19.18\n",
            "Episode 4000\tAverage Score: 19.63\n",
            "Episode 4100\tAverage Score: 20.48\n",
            "Episode 4200\tAverage Score: 21.59\n",
            "Episode 4300\tAverage Score: 23.79\n",
            "Episode 4400\tAverage Score: 23.13\n",
            "Episode 4500\tAverage Score: 24.17\n",
            "Episode 4600\tAverage Score: 25.19\n",
            "Episode 4700\tAverage Score: 26.07\n",
            "Episode 4800\tAverage Score: 26.22\n",
            "Episode 4900\tAverage Score: 26.57\n",
            "Episode 5000\tAverage Score: 29.02\n",
            "Episode 5100\tAverage Score: 28.17\n",
            "Episode 5200\tAverage Score: 30.29\n",
            "Episode 5300\tAverage Score: 36.30\n",
            "Episode 5400\tAverage Score: 35.18\n",
            "Episode 5500\tAverage Score: 45.81\n",
            "Episode 5600\tAverage Score: 46.62\n",
            "Episode 5700\tAverage Score: 50.50\n",
            "Episode 5800\tAverage Score: 55.16\n",
            "Episode 5900\tAverage Score: 64.06\n",
            "Episode 6000\tAverage Score: 44.58\n",
            "Episode 6100\tAverage Score: 30.34\n",
            "Episode 6200\tAverage Score: 29.43\n",
            "Episode 6300\tAverage Score: 28.46\n",
            "Episode 6400\tAverage Score: 29.81\n",
            "Episode 6500\tAverage Score: 30.24\n",
            "Episode 6600\tAverage Score: 30.11\n",
            "Episode 6700\tAverage Score: 34.10\n",
            "Episode 6800\tAverage Score: 37.06\n",
            "Episode 6900\tAverage Score: 46.28\n",
            "Episode 7000\tAverage Score: 51.48\n",
            "Episode 7100\tAverage Score: 60.77\n",
            "Episode 7200\tAverage Score: 83.95\n",
            "Episode 7300\tAverage Score: 128.07\n",
            "Episode 7400\tAverage Score: 133.11\n",
            "Episode 7500\tAverage Score: 173.81\n",
            "Episode 7600\tAverage Score: 133.22\n",
            "Episode 7700\tAverage Score: 58.79\n",
            "Episode 7800\tAverage Score: 15.88\n",
            "Episode 7900\tAverage Score: 15.07\n",
            "Episode 8000\tAverage Score: 15.57\n",
            "Episode 8100\tAverage Score: 18.55\n",
            "Episode 8200\tAverage Score: 206.54\n",
            "Episode 8300\tAverage Score: 121.75\n",
            "Episode 8400\tAverage Score: 17.55\n",
            "Episode 8500\tAverage Score: 13.03\n",
            "Episode 8600\tAverage Score: 11.89\n",
            "Episode 8700\tAverage Score: 11.53\n",
            "Episode 8800\tAverage Score: 10.61\n",
            "Episode 8900\tAverage Score: 10.26\n",
            "Episode 9000\tAverage Score: 10.32\n",
            "Episode 9100\tAverage Score: 10.24\n",
            "Episode 9200\tAverage Score: 10.14\n",
            "Episode 9300\tAverage Score: 10.16\n",
            "Episode 9400\tAverage Score: 10.82\n",
            "Episode 9500\tAverage Score: 11.26\n",
            "Episode 9600\tAverage Score: 12.72\n",
            "Episode 9700\tAverage Score: 16.90\n",
            "Episode 9800\tAverage Score: 35.21\n",
            "Episode 9900\tAverage Score: 14.77\n",
            "Episode 10000\tAverage Score: 11.99\n",
            "0:17:47.985927\n"
          ]
        }
      ],
      "source": [
        "''' Defining DQN Algorithm '''\n",
        "\n",
        "state_shape = env.observation_space.shape[0]\n",
        "action_shape = env.action_space.n\n",
        "\n",
        "\n",
        "def dqn(n_episodes=10000, max_t=1000, eps_start=1.0, eps_end=0.01, eps_decay=0.995,print_reward = False):\n",
        "\n",
        "    scores_window = deque(maxlen=100)\n",
        "    ''' last 100 scores for checking if the avg is more than 195 '''\n",
        "\n",
        "    eps = eps_start\n",
        "    ''' initialize epsilon '''\n",
        "    total_reward = []\n",
        "    for i_episode in range(1, n_episodes+1):\n",
        "        state = env.reset()\n",
        "        score = 0\n",
        "        for t in range(max_t):\n",
        "            action = agent.act(state, eps)\n",
        "            next_state, reward, done, _ = env.step(action)\n",
        "            agent.step(state, action, reward, next_state, done)\n",
        "            state = next_state\n",
        "            score += reward\n",
        "            if done:\n",
        "                break\n",
        "\n",
        "        scores_window.append(score)\n",
        "        total_reward.append(score)\n",
        "        eps = max(eps_end, eps_decay*eps)\n",
        "        ''' decrease epsilon '''\n",
        "\n",
        "        # print('\\rEpisode {}\\tAverage Score: {:.2f}'.format(i_episode, score), end=\"\")\n",
        "\n",
        "        if i_episode % 100 == 0 and print_reward == True:\n",
        "           print('\\rEpisode {}\\tAverage Score: {:.2f}'.format(i_episode, np.mean(scores_window)))\n",
        "        if np.mean(scores_window)>=450.0:\n",
        "           print('\\nEnvironment solved in {:d} episodes!\\tAverage Score: {:.2f}'.format(i_episode, np.mean(scores_window)))\n",
        "           break\n",
        "    return total_reward\n",
        "\n",
        "''' Trial run to check if algorithm runs and saves the data '''\n",
        "\n",
        "begin_time = datetime.datetime.now()\n",
        "\n",
        "agent = TutorialAgent(state_size=state_shape,action_size = action_shape,seed = 0)\n",
        "reward_arr = dqn(print_reward = True)\n",
        "\n",
        "time_taken = datetime.datetime.now() - begin_time\n",
        "\n",
        "print(time_taken)"
      ]
    },
    {
      "cell_type": "code",
      "execution_count": null,
      "metadata": {
        "id": "5gtLQp5yN93I",
        "colab": {
          "base_uri": "https://localhost:8080/",
          "height": 502
        },
        "outputId": "84a385dd-6e30-4855-dabc-c19412cdce9f"
      },
      "outputs": [
        {
          "output_type": "stream",
          "name": "stderr",
          "text": [
            "/usr/local/lib/python3.10/dist-packages/ipykernel/ipkernel.py:283: DeprecationWarning: `should_run_async` will not call `transform_cell` automatically in the future. Please pass the result to `transformed_cell` argument and any exception that happen during thetransform in `preprocessing_exc_tuple` in IPython 7.17 and above.\n",
            "  and should_run_async(code)\n"
          ]
        },
        {
          "output_type": "execute_result",
          "data": {
            "text/plain": [
              "[<matplotlib.lines.Line2D at 0x7926af520d60>]"
            ]
          },
          "metadata": {},
          "execution_count": 8
        },
        {
          "output_type": "display_data",
          "data": {
            "text/plain": [
              "<Figure size 640x480 with 1 Axes>"
            ],
            "image/png": "[encoded data removed]"
          },
          "metadata": {}
        }
      ],
      "source": [
        "plt.plot(np.arange(len(reward_arr)),reward_arr)"
      ]
    },
    {
      "cell_type": "code",
      "execution_count": null,
      "metadata": {
        "id": "FMxT1q6Ata5C"
      },
      "outputs": [],
      "source": [
        "torch.save(agent.qnetwork_local,'model.pth')"
      ]
    },
    {
      "cell_type": "code",
      "execution_count": null,
      "metadata": {
        "colab": {
          "base_uri": "https://localhost:8080/"
        },
        "id": "_M3kt3hi6NT5",
        "outputId": "8a24a924-f1a3-4a78-a74b-93d4e5689dc8"
      },
      "outputs": [
        {
          "output_type": "stream",
          "name": "stdout",
          "text": [
            "Completed 1 iterations\n",
            "Completed 2 iterations\n",
            "Completed 3 iterations\n",
            "Completed 4 iterations\n",
            "Completed 5 iterations\n"
          ]
        }
      ],
      "source": [
        "N = 5\n",
        "reward_avg = []\n",
        "for i in range(5):\n",
        "  agent = TutorialAgent(state_size=state_shape,action_size = action_shape,seed = 0)\n",
        "  reward_avg.append(dqn())\n",
        "  print(f'Completed {i+1} iterations')"
      ]
    },
    {
      "cell_type": "code",
      "execution_count": null,
      "metadata": {
        "colab": {
          "base_uri": "https://localhost:8080/",
          "height": 430
        },
        "id": "13dhiSR577r7",
        "outputId": "42c9b528-4b2c-47d4-f3d8-440ec22ca65c"
      },
      "outputs": [
        {
          "output_type": "display_data",
          "data": {
            "text/plain": [
              "<Figure size 640x480 with 1 Axes>"
            ],
            "image/png": "[encoded data removed]"
          },
          "metadata": {}
        }
      ],
      "source": [
        "# reward_avg = np.array(reward_avg)\n",
        "min_size = min([len(i) for i in reward_avg ])\n",
        "avg_reward = np.mean(np.array([i[:min_size] for i in reward_avg]),axis = 0)\n",
        "plt.plot(np.arange(len(avg_reward)),avg_reward)\n",
        "plt.show()"
      ]
    },
    {
      "cell_type": "code",
      "source": [
        "reward_save = [i[:min_size] for i in reward_avg]\n",
        "np.save(\"reward_CartPole_mean.npy\", reward_save)"
      ],
      "metadata": {
        "id": "iLZ29klziVD9"
      },
      "execution_count": null,
      "outputs": []
    },
    {
      "cell_type": "markdown",
      "source": [
        "##max(A)"
      ],
      "metadata": {
        "id": "4AsR1JaHhmiF"
      }
    },
    {
      "cell_type": "code",
      "execution_count": null,
      "metadata": {
        "id": "16M3M9TZta1r"
      },
      "outputs": [],
      "source": [
        "class TutorialAgent():\n",
        "\n",
        "    def __init__(self, state_size, action_size, seed):\n",
        "\n",
        "        ''' Agent Environment Interaction '''\n",
        "        self.state_size = state_size\n",
        "        self.action_size = action_size\n",
        "        self.seed = random.seed(seed)\n",
        "\n",
        "        ''' Q-Network '''\n",
        "        self.qnetwork_local = QNetwork1(state_size, action_size, hl_size = 42).to(device)\n",
        "        self.qnetwork_target = QNetwork1(state_size, action_size, hl_size = 42).to(device)\n",
        "        self.optimizer = optim.Adam(self.qnetwork_local.parameters(), lr=LR)\n",
        "\n",
        "        ''' Replay memory '''\n",
        "        self.memory = ReplayBuffer(action_size, BUFFER_SIZE, BATCH_SIZE, seed)\n",
        "\n",
        "        ''' Initialize time step (for updating every UPDATE_EVERY steps)           -Needed for Q Targets '''\n",
        "        self.t_step = 0\n",
        "\n",
        "    def step(self, state, action, reward, next_state, done):\n",
        "\n",
        "        ''' Save experience in replay memory '''\n",
        "        self.memory.add(state, action, reward, next_state, done)\n",
        "\n",
        "        ''' If enough samples are available in memory, get random subset and learn '''\n",
        "        if len(self.memory) >= BATCH_SIZE:\n",
        "            experiences = self.memory.sample()\n",
        "            self.learn(experiences, GAMMA)\n",
        "\n",
        "        \"\"\" +Q TARGETS PRESENT \"\"\"\n",
        "        ''' Updating the Network every 'UPDATE_EVERY' steps taken '''\n",
        "        self.t_step = (self.t_step + 1) % UPDATE_EVERY\n",
        "        if self.t_step == 0:\n",
        "            self.qnetwork_target.load_state_dict(self.qnetwork_local.state_dict())\n",
        "\n",
        "    def act(self, state, eps=0.5):\n",
        "\n",
        "        state = torch.from_numpy(state).float().unsqueeze(0).to(device)\n",
        "        self.qnetwork_local.eval()\n",
        "        with torch.no_grad():\n",
        "            _,action_values = self.qnetwork_local(state)\n",
        "        self.qnetwork_local.train()\n",
        "\n",
        "        ''' Epsilon-greedy action selection (Already Present) '''\n",
        "        if random.random() > eps:\n",
        "            return torch.argmax(action_values,dim=1).item()\n",
        "        else:\n",
        "            return random.choice(np.arange(self.action_size))\n",
        "\n",
        "    def learn(self, experiences, gamma):\n",
        "        \"\"\" +E EXPERIENCE REPLAY PRESENT \"\"\"\n",
        "        states, actions, rewards, next_states, dones = experiences\n",
        "        ''' Get max predicted Q values (for next states) from target model'''\n",
        "        V_targets_next, A_targets_next = self.qnetwork_target(next_states)\n",
        "        # V_targets_next = V_targets_next.detach().max(1)[0].unsqueeze(1)\n",
        "        # A_targets_next = A_targets_next.detach().max(1)[0].unsqueeze(1)\n",
        "        # V_targets_next = V_targets_next.detach().unsqueeze(1)\n",
        "        # A_targets_next = A_targets_next.detach().unsqueeze(1)\n",
        "        Q_targets_next = torch.add(V_targets_next, A_targets_next - torch.max(A_targets_next, dim=1).values.unsqueeze(1)).detach().max(1)[0].unsqueeze(1)\n",
        "\n",
        "        ''' Compute Q targets for current states '''\n",
        "        Q_targets = rewards + (gamma * Q_targets_next * (1 - dones))\n",
        "        # print(Q_targets_next,Q_targets)\n",
        "        # print(Q_targets_next.shape,Q_targets.shape)\n",
        "        ''' Get expected Q values from local model '''\n",
        "        V_targets, A_targets = self.qnetwork_local(states)\n",
        "        # print(V_targets,A_targets)\n",
        "        # V_targets = V_targets.detach().unsqueeze(1)\n",
        "        # A_targets = A_targets.detach().unsqueeze(1)\n",
        "        # print(states)\n",
        "        # print(V_targets,A_targets)\n",
        "        Q_expected = torch.add(V_targets, A_targets - torch.max(A_targets, dim=1).values.unsqueeze(1)).gather(1, actions)\n",
        "\n",
        "        ''' Compute loss '''\n",
        "        loss = F.mse_loss(Q_expected, Q_targets)\n",
        "\n",
        "        ''' Minimize the loss '''\n",
        "        self.optimizer.zero_grad()\n",
        "        loss.backward()\n",
        "        # if self.t_step == 0:\n",
        "        #   print(\"Loss:- \",loss.item())\n",
        "        ''' Gradiant Clipping '''\n",
        "        \"\"\" +T TRUNCATION PRESENT \"\"\"\n",
        "        for param in self.qnetwork_local.parameters():\n",
        "            param.grad.data.clamp_(-1, 1)\n",
        "\n",
        "        self.optimizer.step()\n",
        "\n",
        "\n"
      ]
    },
    {
      "cell_type": "code",
      "execution_count": null,
      "metadata": {
        "colab": {
          "base_uri": "https://localhost:8080/"
        },
        "id": "pW1IB3Whtazc",
        "outputId": "ebc568e0-8646-47bc-cdca-6f0acec3f6fd"
      },
      "outputs": [
        {
          "output_type": "stream",
          "name": "stdout",
          "text": [
            "Episode 100\tAverage Score: 19.46\n",
            "Episode 200\tAverage Score: 15.70\n",
            "Episode 300\tAverage Score: 12.67\n",
            "Episode 400\tAverage Score: 11.00\n",
            "Episode 500\tAverage Score: 9.72\n",
            "Episode 600\tAverage Score: 9.64\n",
            "Episode 700\tAverage Score: 9.64\n",
            "Episode 800\tAverage Score: 9.36\n",
            "Episode 900\tAverage Score: 9.12\n",
            "Episode 1000\tAverage Score: 9.12\n",
            "Episode 1100\tAverage Score: 9.22\n",
            "Episode 1200\tAverage Score: 9.09\n",
            "Episode 1300\tAverage Score: 9.07\n",
            "Episode 1400\tAverage Score: 9.12\n",
            "Episode 1500\tAverage Score: 12.33\n",
            "Episode 1600\tAverage Score: 14.62\n",
            "Episode 1700\tAverage Score: 15.78\n",
            "Episode 1800\tAverage Score: 17.93\n",
            "Episode 1900\tAverage Score: 32.12\n",
            "Episode 2000\tAverage Score: 49.00\n",
            "Episode 2100\tAverage Score: 76.83\n",
            "Episode 2200\tAverage Score: 169.83\n",
            "Episode 2300\tAverage Score: 199.47\n",
            "Episode 2400\tAverage Score: 163.39\n",
            "Episode 2500\tAverage Score: 138.39\n",
            "Episode 2600\tAverage Score: 126.03\n",
            "Episode 2700\tAverage Score: 135.96\n",
            "Episode 2800\tAverage Score: 123.83\n",
            "Episode 2900\tAverage Score: 91.13\n",
            "Episode 3000\tAverage Score: 100.42\n",
            "Episode 3100\tAverage Score: 89.38\n",
            "Episode 3200\tAverage Score: 128.30\n",
            "Episode 3300\tAverage Score: 140.15\n",
            "Episode 3400\tAverage Score: 121.60\n",
            "Episode 3500\tAverage Score: 106.24\n",
            "Episode 3600\tAverage Score: 100.14\n",
            "Episode 3700\tAverage Score: 93.98\n",
            "Episode 3800\tAverage Score: 90.23\n",
            "Episode 3900\tAverage Score: 84.18\n",
            "Episode 4000\tAverage Score: 83.75\n",
            "Episode 4100\tAverage Score: 81.29\n",
            "Episode 4200\tAverage Score: 60.51\n",
            "Episode 4300\tAverage Score: 53.48\n",
            "Episode 4400\tAverage Score: 64.36\n",
            "Episode 4500\tAverage Score: 92.63\n",
            "Episode 4600\tAverage Score: 95.90\n",
            "Episode 4700\tAverage Score: 98.32\n",
            "Episode 4800\tAverage Score: 99.04\n",
            "Episode 4900\tAverage Score: 99.46\n",
            "Episode 5000\tAverage Score: 99.97\n",
            "Episode 5100\tAverage Score: 100.24\n",
            "Episode 5200\tAverage Score: 101.25\n",
            "Episode 5300\tAverage Score: 100.16\n",
            "Episode 5400\tAverage Score: 99.25\n",
            "Episode 5500\tAverage Score: 97.71\n",
            "Episode 5600\tAverage Score: 96.14\n",
            "Episode 5700\tAverage Score: 85.57\n",
            "Episode 5800\tAverage Score: 65.66\n",
            "Episode 5900\tAverage Score: 67.96\n",
            "Episode 6000\tAverage Score: 70.79\n",
            "Episode 6100\tAverage Score: 71.24\n",
            "Episode 6200\tAverage Score: 75.38\n",
            "Episode 6300\tAverage Score: 80.19\n",
            "Episode 6400\tAverage Score: 77.84\n",
            "Episode 6500\tAverage Score: 79.78\n",
            "Episode 6600\tAverage Score: 84.74\n",
            "Episode 6700\tAverage Score: 83.14\n",
            "Episode 6800\tAverage Score: 87.75\n",
            "Episode 6900\tAverage Score: 88.77\n",
            "Episode 7000\tAverage Score: 81.71\n",
            "Episode 7100\tAverage Score: 82.76\n",
            "Episode 7200\tAverage Score: 92.94\n",
            "Episode 7300\tAverage Score: 94.26\n",
            "Episode 7400\tAverage Score: 94.74\n",
            "Episode 7500\tAverage Score: 90.84\n",
            "Episode 7600\tAverage Score: 92.74\n",
            "Episode 7700\tAverage Score: 91.62\n",
            "Episode 7800\tAverage Score: 91.07\n",
            "Episode 7900\tAverage Score: 92.37\n",
            "Episode 8000\tAverage Score: 89.89\n",
            "Episode 8100\tAverage Score: 92.97\n",
            "Episode 8200\tAverage Score: 94.99\n",
            "Episode 8300\tAverage Score: 92.31\n",
            "Episode 8400\tAverage Score: 92.25\n",
            "Episode 8500\tAverage Score: 91.94\n",
            "Episode 8600\tAverage Score: 86.74\n",
            "Episode 8700\tAverage Score: 78.20\n",
            "Episode 8800\tAverage Score: 80.86\n",
            "Episode 8900\tAverage Score: 82.45\n",
            "Episode 9000\tAverage Score: 77.68\n",
            "Episode 9100\tAverage Score: 87.60\n",
            "Episode 9200\tAverage Score: 86.51\n",
            "Episode 9300\tAverage Score: 85.68\n",
            "Episode 9400\tAverage Score: 89.68\n",
            "Episode 9500\tAverage Score: 79.15\n",
            "Episode 9600\tAverage Score: 82.48\n",
            "Episode 9700\tAverage Score: 85.20\n",
            "Episode 9800\tAverage Score: 84.10\n",
            "Episode 9900\tAverage Score: 86.23\n",
            "Episode 10000\tAverage Score: 84.79\n",
            "0:42:43.597130\n"
          ]
        }
      ],
      "source": [
        "''' Defining DQN Algorithm '''\n",
        "\n",
        "state_shape = env.observation_space.shape[0]\n",
        "action_shape = env.action_space.n\n",
        "\n",
        "\n",
        "def dqn(n_episodes=10000, max_t=1000, eps_start=1.0, eps_end=0.01, eps_decay=0.995,print_reward = False):\n",
        "\n",
        "    scores_window = deque(maxlen=100)\n",
        "    ''' last 100 scores for checking if the avg is more than 195 '''\n",
        "    total_reward = []\n",
        "    eps = eps_start\n",
        "    ''' initialize epsilon '''\n",
        "\n",
        "    for i_episode in range(1, n_episodes+1):\n",
        "        state = env.reset()\n",
        "        score = 0\n",
        "        for t in range(max_t):\n",
        "            action = agent.act(state, eps)\n",
        "            next_state, reward, done, _ = env.step(action)\n",
        "            agent.step(state, action, reward, next_state, done)\n",
        "            state = next_state\n",
        "            score += reward\n",
        "            if done:\n",
        "                break\n",
        "        total_reward.append(score)\n",
        "        scores_window.append(score)\n",
        "\n",
        "        eps = max(eps_end, eps_decay*eps)\n",
        "        ''' decrease epsilon '''\n",
        "\n",
        "        # print('\\rEpisode {}\\tAverage Score: {:.2f}'.format(i_episode, score), end=\"\")\n",
        "\n",
        "        if i_episode % 100 == 0 and print_reward == True:\n",
        "           print('\\rEpisode {}\\tAverage Score: {:.2f}'.format(i_episode, np.mean(scores_window)))\n",
        "        if np.mean(scores_window)>=250:\n",
        "           print('\\nEnvironment solved in {:d} episodes!\\tAverage Score: {:.2f}'.format(i_episode, np.mean(scores_window)))\n",
        "           break\n",
        "    return total_reward\n",
        "\n",
        "''' Trial run to check if algorithm runs and saves the data '''\n",
        "\n",
        "begin_time = datetime.datetime.now()\n",
        "\n",
        "agent = TutorialAgent(state_size=state_shape,action_size = action_shape,seed = 0)\n",
        "reward_arr = dqn(print_reward = True)\n",
        "\n",
        "time_taken = datetime.datetime.now() - begin_time\n",
        "\n",
        "print(time_taken)"
      ]
    },
    {
      "cell_type": "code",
      "execution_count": null,
      "metadata": {
        "id": "L5pHIL52M2dJ",
        "colab": {
          "base_uri": "https://localhost:8080/",
          "height": 447
        },
        "outputId": "2a1b14bb-7120-45f3-f18c-9cea82ac6f07"
      },
      "outputs": [
        {
          "output_type": "execute_result",
          "data": {
            "text/plain": [
              "[<matplotlib.lines.Line2D at 0x7926ad21eec0>]"
            ]
          },
          "metadata": {},
          "execution_count": 19
        },
        {
          "output_type": "display_data",
          "data": {
            "text/plain": [
              "<Figure size 640x480 with 1 Axes>"
            ],
            "image/png": "[encoded data removed]"
          },
          "metadata": {}
        }
      ],
      "source": [
        "plt.plot(np.arange(len(reward_arr)),reward_arr)"
      ]
    },
    {
      "cell_type": "code",
      "execution_count": null,
      "metadata": {
        "id": "uCiqdmvctaw-"
      },
      "outputs": [],
      "source": [
        "torch.save(agent.qnetwork_local,'model_max.pth')"
      ]
    },
    {
      "cell_type": "code",
      "execution_count": null,
      "metadata": {
        "id": "r1opILmJmbiK",
        "colab": {
          "base_uri": "https://localhost:8080/"
        },
        "outputId": "4649dd98-722d-4a70-827e-6fda5bfba529"
      },
      "outputs": [
        {
          "output_type": "stream",
          "name": "stdout",
          "text": [
            "Completed 1 iterations\n",
            "Completed 2 iterations\n",
            "\n",
            "Environment solved in 9098 episodes!\tAverage Score: 250.08\n",
            "Completed 3 iterations\n",
            "\n",
            "Environment solved in 3725 episodes!\tAverage Score: 250.29\n",
            "Completed 4 iterations\n",
            "Completed 5 iterations\n"
          ]
        }
      ],
      "source": [
        "N = 5\n",
        "reward_max = []\n",
        "for i in range(5):\n",
        "  agent = TutorialAgent(state_size=state_shape,action_size = action_shape,seed = 0)\n",
        "  reward_max.append(dqn())\n",
        "  print(f'Completed {i+1} iterations')"
      ]
    },
    {
      "cell_type": "code",
      "execution_count": null,
      "metadata": {
        "id": "fkJz5wcKmbfV",
        "colab": {
          "base_uri": "https://localhost:8080/",
          "height": 430
        },
        "outputId": "5b345c74-d31e-4dd7-c26b-7240c50e2869"
      },
      "outputs": [
        {
          "output_type": "display_data",
          "data": {
            "text/plain": [
              "<Figure size 640x480 with 1 Axes>"
            ],
            "image/png": "[encoded data removed]"
          },
          "metadata": {}
        }
      ],
      "source": [
        "min_size = min([len(i) for i in reward_max ])\n",
        "max_reward = np.mean(np.array([i[:min_size] for i in reward_max]),axis = 0)\n",
        "plt.plot(np.arange(len(max_reward)),max_reward)\n",
        "plt.show()"
      ]
    },
    {
      "cell_type": "code",
      "source": [
        "reward_save = [i[:min_size] for i in reward_max]\n",
        "np.save(\"reward_CartPole_max.npy\", reward_save)"
      ],
      "metadata": {
        "id": "vbJEe5bHhxQL"
      },
      "execution_count": null,
      "outputs": []
    },
    {
      "cell_type": "code",
      "execution_count": null,
      "metadata": {
        "id": "SRv7eeXYmbcX",
        "colab": {
          "base_uri": "https://localhost:8080/",
          "height": 489
        },
        "outputId": "97f4b5bd-1eed-450f-a64e-9e5dc41540a0"
      },
      "outputs": [
        {
          "output_type": "execute_result",
          "data": {
            "text/plain": [
              "<matplotlib.legend.Legend at 0x7926aa212d70>"
            ]
          },
          "metadata": {},
          "execution_count": 32
        },
        {
          "output_type": "display_data",
          "data": {
            "text/plain": [
              "<Figure size 640x480 with 1 Axes>"
            ],
            "image/png": "[encoded data removed]"
          },
          "metadata": {}
        }
      ],
      "source": [
        "avg_reward = np.load('reward_CartPole_mean.npy')\n",
        "max_reward = np.load('reward_CartPole_max.npy')\n",
        "avg_reward = np.mean(np.array([i[:min_size] for i in avg_reward]),axis = 0)\n",
        "max_reward = np.mean(np.array([i[:min_size] for i in max_reward]),axis = 0)\n",
        "plt.plot(np.arange(len(avg_reward)),avg_reward,c='g', label='A - mean(A)')\n",
        "plt.plot(np.arange(len(max_reward)),max_reward,c='r', label='A - max(A)')\n",
        "plt.xlabel('Episodes')\n",
        "plt.ylabel('Reward')\n",
        "plt.title('Reward vs Episode')\n",
        "plt.legend()"
      ]
    },
    {
      "cell_type": "code",
      "execution_count": null,
      "metadata": {
        "id": "7Ls38hTOmbZ4"
      },
      "outputs": [],
      "source": []
    },
    {
      "cell_type": "markdown",
      "source": [
        "#DQN"
      ],
      "metadata": {
        "id": "b4qvkhdsn5nx"
      }
    },
    {
      "cell_type": "markdown",
      "source": [
        "#mean(A)"
      ],
      "metadata": {
        "id": "txqN8fLwn5ny"
      }
    },
    {
      "cell_type": "code",
      "execution_count": null,
      "metadata": {
        "id": "VzQC3sBFn5ny"
      },
      "outputs": [],
      "source": [
        "class TutorialAgent():\n",
        "\n",
        "    def __init__(self, state_size, action_size, seed):\n",
        "\n",
        "        ''' Agent Environment Interaction '''\n",
        "        self.state_size = state_size\n",
        "        self.action_size = action_size\n",
        "        self.seed = random.seed(seed)\n",
        "\n",
        "        ''' Q-Network '''\n",
        "        self.qnetwork_local = QNetwork1(state_size, action_size, hl_size = 42).to(device)\n",
        "        self.optimizer = optim.Adam(self.qnetwork_local.parameters(), lr=LR)\n",
        "\n",
        "        ''' Replay memory '''\n",
        "        self.memory = ReplayBuffer(action_size, BUFFER_SIZE, BATCH_SIZE, seed)\n",
        "\n",
        "\n",
        "    def step(self, state, action, reward, next_state, done):\n",
        "\n",
        "        ''' Save experience in replay memory '''\n",
        "        self.memory.add(state, action, reward, next_state, done)\n",
        "\n",
        "        ''' If enough samples are available in memory, get random subset and learn '''\n",
        "        if len(self.memory) >= BATCH_SIZE:\n",
        "            experiences = self.memory.sample()\n",
        "            self.learn(experiences, GAMMA)\n",
        "\n",
        "    def act(self, state, eps=0.5):\n",
        "\n",
        "        state = torch.from_numpy(state).float().unsqueeze(0).to(device)\n",
        "        self.qnetwork_local.eval()\n",
        "        with torch.no_grad():\n",
        "            _,action_values = self.qnetwork_local(state)\n",
        "        self.qnetwork_local.train()\n",
        "\n",
        "        ''' Epsilon-greedy action selection (Already Present) '''\n",
        "        if random.random() > eps:\n",
        "            return torch.argmax(action_values.to('cpu'),dim=1).item()\n",
        "        else:\n",
        "            return random.choice(np.arange(self.action_size))\n",
        "\n",
        "    def learn(self, experiences, gamma):\n",
        "        \"\"\" +E EXPERIENCE REPLAY PRESENT \"\"\"\n",
        "        states, actions, rewards, next_states, dones = experiences\n",
        "        ''' Get max predicted Q values (for next states) from target model'''\n",
        "        V_targets_next, A_targets_next = self.qnetwork_local(next_states)\n",
        "        # V_targets_next = V_targets_next.detach().max(1)[0].unsqueeze(1)\n",
        "        # A_targets_next = A_targets_next.detach().max(1)[0].unsqueeze(1)\n",
        "        # V_targets_next = V_targets_next.detach().unsqueeze(1)\n",
        "        # A_targets_next = A_targets_next.detach().unsqueeze(1)\n",
        "        # print(V_targets_next,A_targets_next)\n",
        "        Q_targets_next = torch.add(V_targets_next, A_targets_next - A_targets_next.mean(dim=1, keepdim=True)).detach().max(1)[0].unsqueeze(1)\n",
        "\n",
        "        ''' Compute Q targets for current states '''\n",
        "        Q_targets = rewards + (gamma * Q_targets_next * (1 - dones))\n",
        "        # print(Q_targets_next,Q_targets)\n",
        "        # print(Q_targets_next.shape,Q_targets.shape)\n",
        "        ''' Get expected Q values from local model '''\n",
        "        V_targets, A_targets = self.qnetwork_local(states)\n",
        "        # print(V_targets,A_targets)\n",
        "        # V_targets = V_targets.detach().unsqueeze(1)\n",
        "        # A_targets = A_targets.detach().unsqueeze(1)\n",
        "        # print(states)\n",
        "        # print(V_targets,A_targets)\n",
        "        Q_expected = torch.add(V_targets, A_targets - A_targets.mean(dim=1, keepdim=True)).gather(1, actions)\n",
        "\n",
        "        ''' Compute loss '''\n",
        "        loss = F.mse_loss(Q_expected, Q_targets)\n",
        "\n",
        "        ''' Minimize the loss '''\n",
        "        self.optimizer.zero_grad()\n",
        "        loss.backward()\n",
        "        # if self.t_step == 0:\n",
        "        #   print(\"Loss:- \",loss.item())\n",
        "        ''' Gradiant Clipping '''\n",
        "        \"\"\" +T TRUNCATION PRESENT \"\"\"\n",
        "        for param in self.qnetwork_local.parameters():\n",
        "            param.grad.data.clamp_(-1, 1)\n",
        "\n",
        "        self.optimizer.step()\n",
        "\n",
        "\n"
      ]
    },
    {
      "cell_type": "code",
      "execution_count": null,
      "metadata": {
        "colab": {
          "base_uri": "https://localhost:8080/"
        },
        "outputId": "382b2620-2bd2-4351-f0f7-ceb0f311f9bb",
        "id": "V3Bb0Cynn5ny"
      },
      "outputs": [
        {
          "output_type": "stream",
          "name": "stdout",
          "text": [
            "Episode 100\tAverage Score: 16.28\n",
            "Episode 200\tAverage Score: 11.91\n",
            "Episode 300\tAverage Score: 11.40\n",
            "Episode 400\tAverage Score: 10.23\n",
            "Episode 500\tAverage Score: 9.84\n",
            "Episode 600\tAverage Score: 9.51\n",
            "Episode 700\tAverage Score: 9.83\n",
            "Episode 800\tAverage Score: 9.58\n",
            "Episode 900\tAverage Score: 9.50\n",
            "Episode 1000\tAverage Score: 9.72\n",
            "Episode 1100\tAverage Score: 9.83\n",
            "Episode 1200\tAverage Score: 10.16\n",
            "Episode 1300\tAverage Score: 10.64\n",
            "Episode 1400\tAverage Score: 10.83\n",
            "Episode 1500\tAverage Score: 9.46\n",
            "Episode 1600\tAverage Score: 9.42\n",
            "Episode 1700\tAverage Score: 14.07\n",
            "Episode 1800\tAverage Score: 23.40\n",
            "Episode 1900\tAverage Score: 30.74\n",
            "Episode 2000\tAverage Score: 74.67\n",
            "Episode 2100\tAverage Score: 36.22\n",
            "Episode 2200\tAverage Score: 27.56\n",
            "Episode 2300\tAverage Score: 26.67\n",
            "Episode 2400\tAverage Score: 25.82\n",
            "Episode 2500\tAverage Score: 25.32\n",
            "Episode 2600\tAverage Score: 25.44\n",
            "Episode 2700\tAverage Score: 24.69\n",
            "Episode 2800\tAverage Score: 23.56\n",
            "Episode 2900\tAverage Score: 25.45\n",
            "Episode 3000\tAverage Score: 24.74\n",
            "Episode 3100\tAverage Score: 26.87\n",
            "Episode 3200\tAverage Score: 29.28\n",
            "Episode 3300\tAverage Score: 27.30\n",
            "Episode 3400\tAverage Score: 29.00\n",
            "Episode 3500\tAverage Score: 29.84\n",
            "Episode 3600\tAverage Score: 35.58\n",
            "Episode 3700\tAverage Score: 33.01\n",
            "Episode 3800\tAverage Score: 39.90\n",
            "Episode 3900\tAverage Score: 43.49\n",
            "Episode 4000\tAverage Score: 40.70\n",
            "Episode 4100\tAverage Score: 42.08\n",
            "Episode 4200\tAverage Score: 45.99\n",
            "Episode 4300\tAverage Score: 55.10\n",
            "Episode 4400\tAverage Score: 52.14\n",
            "Episode 4500\tAverage Score: 45.28\n",
            "Episode 4600\tAverage Score: 29.23\n",
            "Episode 4700\tAverage Score: 27.08\n",
            "Episode 4800\tAverage Score: 32.90\n",
            "Episode 4900\tAverage Score: 41.09\n",
            "Episode 5000\tAverage Score: 39.54\n",
            "Episode 5100\tAverage Score: 37.90\n",
            "Episode 5200\tAverage Score: 41.51\n",
            "Episode 5300\tAverage Score: 42.29\n",
            "Episode 5400\tAverage Score: 44.71\n",
            "Episode 5500\tAverage Score: 50.29\n",
            "Episode 5600\tAverage Score: 55.85\n",
            "Episode 5700\tAverage Score: 74.50\n",
            "Episode 5800\tAverage Score: 92.33\n",
            "Episode 5900\tAverage Score: 137.11\n",
            "\n",
            "Environment solved in 5948 episodes!\tAverage Score: 251.11\n",
            "0:10:53.714421\n"
          ]
        }
      ],
      "source": [
        "''' Defining DQN Algorithm '''\n",
        "\n",
        "state_shape = env.observation_space.shape[0]\n",
        "action_shape = env.action_space.n\n",
        "\n",
        "\n",
        "def dqn(n_episodes=10000, max_t=1000, eps_start=1.0, eps_end=0.01, eps_decay=0.995,print_reward = False):\n",
        "\n",
        "    scores_window = deque(maxlen=100)\n",
        "    ''' last 100 scores for checking if the avg is more than 195 '''\n",
        "\n",
        "    eps = eps_start\n",
        "    ''' initialize epsilon '''\n",
        "    total_reward = []\n",
        "    for i_episode in range(1, n_episodes+1):\n",
        "        state = env.reset()\n",
        "        score = 0\n",
        "        for t in range(max_t):\n",
        "            action = agent.act(state, eps)\n",
        "            next_state, reward, done, _ = env.step(action)\n",
        "            agent.step(state, action, reward, next_state, done)\n",
        "            state = next_state\n",
        "            score += reward\n",
        "            if done:\n",
        "                break\n",
        "\n",
        "        scores_window.append(score)\n",
        "        total_reward.append(score)\n",
        "        eps = max(eps_end, eps_decay*eps)\n",
        "        ''' decrease epsilon '''\n",
        "\n",
        "        # print('\\rEpisode {}\\tAverage Score: {:.2f}'.format(i_episode, score), end=\"\")\n",
        "\n",
        "        if i_episode % 100 == 0 and print_reward == True:\n",
        "           print('\\rEpisode {}\\tAverage Score: {:.2f}'.format(i_episode, np.mean(scores_window)))\n",
        "        if np.mean(scores_window)>=250.0:\n",
        "           print('\\nEnvironment solved in {:d} episodes!\\tAverage Score: {:.2f}'.format(i_episode, np.mean(scores_window)))\n",
        "           break\n",
        "    return total_reward\n",
        "\n",
        "''' Trial run to check if algorithm runs and saves the data '''\n",
        "\n",
        "begin_time = datetime.datetime.now()\n",
        "\n",
        "agent = TutorialAgent(state_size=state_shape,action_size = action_shape,seed = 0)\n",
        "reward_arr = dqn(print_reward = True)\n",
        "\n",
        "time_taken = datetime.datetime.now() - begin_time\n",
        "\n",
        "print(time_taken)"
      ]
    },
    {
      "cell_type": "code",
      "execution_count": null,
      "metadata": {
        "colab": {
          "base_uri": "https://localhost:8080/",
          "height": 447
        },
        "outputId": "74f943fd-b031-4b95-ce78-0ca15dbbb07c",
        "id": "jTSIblCHn5nz"
      },
      "outputs": [
        {
          "output_type": "execute_result",
          "data": {
            "text/plain": [
              "[<matplotlib.lines.Line2D at 0x7903e9e1fd90>]"
            ]
          },
          "metadata": {},
          "execution_count": 26
        },
        {
          "output_type": "display_data",
          "data": {
            "text/plain": [
              "<Figure size 640x480 with 1 Axes>"
            ],
            "image/png": "[encoded data removed]"
          },
          "metadata": {}
        }
      ],
      "source": [
        "plt.plot(np.arange(len(reward_arr)),reward_arr)"
      ]
    },
    {
      "cell_type": "code",
      "execution_count": null,
      "metadata": {
        "id": "JE5Zpha-n5nz"
      },
      "outputs": [],
      "source": [
        "torch.save(agent.qnetwork_local,'model_CartPole_mean_DQN.pth')"
      ]
    },
    {
      "cell_type": "code",
      "execution_count": null,
      "metadata": {
        "colab": {
          "base_uri": "https://localhost:8080/"
        },
        "id": "8LgRyIA_n5nz",
        "outputId": "ae543f67-76fa-4472-e0dd-1ac479ac0114"
      },
      "outputs": [
        {
          "output_type": "stream",
          "name": "stdout",
          "text": [
            "\n",
            "Environment solved in 8739 episodes!\tAverage Score: 252.11\n",
            "Completed 1 iterations\n",
            "\n",
            "Environment solved in 6277 episodes!\tAverage Score: 250.25\n",
            "Completed 2 iterations\n",
            "\n",
            "Environment solved in 7337 episodes!\tAverage Score: 250.93\n",
            "Completed 3 iterations\n",
            "\n",
            "Environment solved in 5748 episodes!\tAverage Score: 252.71\n",
            "Completed 4 iterations\n",
            "\n",
            "Environment solved in 6108 episodes!\tAverage Score: 250.82\n",
            "Completed 5 iterations\n"
          ]
        }
      ],
      "source": [
        "N = 5\n",
        "reward_avg = []\n",
        "for i in range(5):\n",
        "  agent = TutorialAgent(state_size=state_shape,action_size = action_shape,seed = 0)\n",
        "  reward_avg.append(dqn())\n",
        "  print(f'Completed {i+1} iterations')"
      ]
    },
    {
      "cell_type": "code",
      "execution_count": null,
      "metadata": {
        "colab": {
          "base_uri": "https://localhost:8080/",
          "height": 561
        },
        "id": "pwYJKhD4n5nz",
        "outputId": "02e4f6fc-d8d3-4776-ee72-163ffa592ea5"
      },
      "outputs": [
        {
          "output_type": "stream",
          "name": "stderr",
          "text": [
            "/usr/local/lib/python3.10/dist-packages/ipykernel/ipkernel.py:283: DeprecationWarning: `should_run_async` will not call `transform_cell` automatically in the future. Please pass the result to `transformed_cell` argument and any exception that happen during thetransform in `preprocessing_exc_tuple` in IPython 7.17 and above.\n",
            "  and should_run_async(code)\n",
            "WARNING:matplotlib.legend:No artists with labels found to put in legend.  Note that artists whose label start with an underscore are ignored when legend() is called with no argument.\n"
          ]
        },
        {
          "output_type": "execute_result",
          "data": {
            "text/plain": [
              "<matplotlib.legend.Legend at 0x7903e7b38fd0>"
            ]
          },
          "metadata": {},
          "execution_count": 42
        },
        {
          "output_type": "display_data",
          "data": {
            "text/plain": [
              "<Figure size 640x480 with 1 Axes>"
            ],
            "image/png": "[encoded data removed]"
          },
          "metadata": {}
        }
      ],
      "source": [
        "# reward_avg = np.array(reward_avg)\n",
        "min_size = min([len(i) for i in reward_avg ])\n",
        "avg_reward = np.mean(np.array([i[:min_size] for i in reward_avg]),axis = 0)\n",
        "plt.plot(np.arange(len(avg_reward)),avg_reward)\n",
        "plt.xlabel('Episodes')\n",
        "plt.ylabel('Return')\n",
        "plt.title('Type 1')\n",
        "plt.legend()"
      ]
    },
    {
      "cell_type": "code",
      "source": [
        "reward_save = [i[:min_size] for i in reward_avg]\n",
        "np.save(\"reward_CartPole_mean_DQN.npy\", reward_save)"
      ],
      "metadata": {
        "id": "aMx90eDln5nz"
      },
      "execution_count": null,
      "outputs": []
    },
    {
      "cell_type": "markdown",
      "source": [
        "##max(A)"
      ],
      "metadata": {
        "id": "oX5No46cn5nz"
      }
    },
    {
      "cell_type": "code",
      "execution_count": null,
      "metadata": {
        "id": "N1MWJP0Rn5nz"
      },
      "outputs": [],
      "source": [
        "class TutorialAgent():\n",
        "\n",
        "    def __init__(self, state_size, action_size, seed):\n",
        "\n",
        "        ''' Agent Environment Interaction '''\n",
        "        self.state_size = state_size\n",
        "        self.action_size = action_size\n",
        "        self.seed = random.seed(seed)\n",
        "\n",
        "        ''' Q-Network '''\n",
        "        self.qnetwork_local = QNetwork1(state_size, action_size, hl_size = 42).to(device)\n",
        "        self.optimizer = optim.Adam(self.qnetwork_local.parameters(), lr=LR)\n",
        "\n",
        "        ''' Replay memory '''\n",
        "        self.memory = ReplayBuffer(action_size, BUFFER_SIZE, BATCH_SIZE, seed)\n",
        "\n",
        "    def step(self, state, action, reward, next_state, done):\n",
        "\n",
        "        ''' Save experience in replay memory '''\n",
        "        self.memory.add(state, action, reward, next_state, done)\n",
        "\n",
        "        ''' If enough samples are available in memory, get random subset and learn '''\n",
        "        if len(self.memory) >= BATCH_SIZE:\n",
        "            experiences = self.memory.sample()\n",
        "            self.learn(experiences, GAMMA)\n",
        "\n",
        "\n",
        "    def act(self, state, eps=0.5):\n",
        "\n",
        "        state = torch.from_numpy(state).float().unsqueeze(0).to(device)\n",
        "        self.qnetwork_local.eval()\n",
        "        with torch.no_grad():\n",
        "            _,action_values = self.qnetwork_local(state)\n",
        "        self.qnetwork_local.train()\n",
        "\n",
        "        ''' Epsilon-greedy action selection (Already Present) '''\n",
        "        if random.random() > eps:\n",
        "            return torch.argmax(action_values,dim=1).item()\n",
        "        else:\n",
        "            return random.choice(np.arange(self.action_size))\n",
        "\n",
        "    def learn(self, experiences, gamma):\n",
        "        \"\"\" +E EXPERIENCE REPLAY PRESENT \"\"\"\n",
        "        states, actions, rewards, next_states, dones = experiences\n",
        "        ''' Get max predicted Q values (for next states) from target model'''\n",
        "        V_targets_next, A_targets_next = self.qnetwork_local(next_states)\n",
        "        # V_targets_next = V_targets_next.detach().max(1)[0].unsqueeze(1)\n",
        "        # A_targets_next = A_targets_next.detach().max(1)[0].unsqueeze(1)\n",
        "        # V_targets_next = V_targets_next.detach().unsqueeze(1)\n",
        "        # A_targets_next = A_targets_next.detach().unsqueeze(1)\n",
        "        Q_targets_next = torch.add(V_targets_next, A_targets_next - torch.max(A_targets_next, dim=1).values.unsqueeze(1)).detach().max(1)[0].unsqueeze(1)\n",
        "\n",
        "        ''' Compute Q targets for current states '''\n",
        "        Q_targets = rewards + (gamma * Q_targets_next * (1 - dones))\n",
        "        # print(Q_targets_next,Q_targets)\n",
        "        # print(Q_targets_next.shape,Q_targets.shape)\n",
        "        ''' Get expected Q values from local model '''\n",
        "        V_targets, A_targets = self.qnetwork_local(states)\n",
        "        # print(V_targets,A_targets)\n",
        "        # V_targets = V_targets.detach().unsqueeze(1)\n",
        "        # A_targets = A_targets.detach().unsqueeze(1)\n",
        "        # print(states)\n",
        "        # print(V_targets,A_targets)\n",
        "        Q_expected = torch.add(V_targets, A_targets - torch.max(A_targets, dim=1).values.unsqueeze(1)).gather(1, actions)\n",
        "\n",
        "        ''' Compute loss '''\n",
        "        loss = F.mse_loss(Q_expected, Q_targets)\n",
        "\n",
        "        ''' Minimize the loss '''\n",
        "        self.optimizer.zero_grad()\n",
        "        loss.backward()\n",
        "        # if self.t_step == 0:\n",
        "        #   print(\"Loss:- \",loss.item())\n",
        "        ''' Gradiant Clipping '''\n",
        "        \"\"\" +T TRUNCATION PRESENT \"\"\"\n",
        "        for param in self.qnetwork_local.parameters():\n",
        "            param.grad.data.clamp_(-1, 1)\n",
        "\n",
        "        self.optimizer.step()\n",
        "\n",
        "\n"
      ]
    },
    {
      "cell_type": "code",
      "execution_count": null,
      "metadata": {
        "colab": {
          "base_uri": "https://localhost:8080/",
          "height": 35
        },
        "id": "WFFb-3xxn5nz",
        "outputId": "e04e7a12-59c5-48be-e110-d6c6148320bc"
      },
      "outputs": [
        {
          "output_type": "execute_result",
          "data": {
            "text/plain": [
              "' Trial run to check if algorithm runs and saves the data '"
            ],
            "application/vnd.google.colaboratory.intrinsic+json": {
              "type": "string"
            }
          },
          "metadata": {},
          "execution_count": 13
        }
      ],
      "source": [
        "''' Defining DQN Algorithm '''\n",
        "\n",
        "state_shape = env.observation_space.shape[0]\n",
        "action_shape = env.action_space.n\n",
        "\n",
        "\n",
        "def dqn(n_episodes=10000, max_t=1000, eps_start=1.0, eps_end=0.01, eps_decay=0.995,print_reward = False):\n",
        "\n",
        "    scores_window = deque(maxlen=100)\n",
        "    ''' last 100 scores for checking if the avg is more than 195 '''\n",
        "    total_reward = []\n",
        "    eps = eps_start\n",
        "    ''' initialize epsilon '''\n",
        "\n",
        "    for i_episode in range(1, n_episodes+1):\n",
        "        state = env.reset()\n",
        "        score = 0\n",
        "        for t in range(max_t):\n",
        "            action = agent.act(state, eps)\n",
        "            next_state, reward, done, _ = env.step(action)\n",
        "            agent.step(state, action, reward, next_state, done)\n",
        "            state = next_state\n",
        "            score += reward\n",
        "            if done:\n",
        "                break\n",
        "        total_reward.append(score)\n",
        "        scores_window.append(score)\n",
        "\n",
        "        eps = max(eps_end, eps_decay*eps)\n",
        "        ''' decrease epsilon '''\n",
        "\n",
        "        # print('\\rEpisode {}\\tAverage Score: {:.2f}'.format(i_episode, score), end=\"\")\n",
        "\n",
        "        if i_episode % 100 == 0 and print_reward == True:\n",
        "           print('\\rEpisode {}\\tAverage Score: {:.2f}'.format(i_episode, np.mean(scores_window)))\n",
        "        if np.mean(scores_window)>=190:\n",
        "           print('\\nEnvironment solved in {:d} episodes!\\tAverage Score: {:.2f}'.format(i_episode, np.mean(scores_window)))\n",
        "           break\n",
        "    return total_reward\n",
        "\n",
        "''' Trial run to check if algorithm runs and saves the data '''\n",
        "\n",
        "# begin_time = datetime.datetime.now()\n",
        "\n",
        "# agent = TutorialAgent(state_size=state_shape,action_size = action_shape,seed = 0)\n",
        "# reward_arr = dqn(print_reward = True)\n",
        "\n",
        "# time_taken = datetime.datetime.now() - begin_time\n",
        "\n",
        "# print(time_taken)"
      ]
    },
    {
      "cell_type": "code",
      "execution_count": null,
      "metadata": {
        "colab": {
          "base_uri": "https://localhost:8080/"
        },
        "id": "TJpuog0Vn5n0",
        "outputId": "aa8dd4e7-e47c-45a1-c19d-5bedbf143ebf"
      },
      "outputs": [
        {
          "output_type": "stream",
          "name": "stdout",
          "text": [
            "\n",
            "Environment solved in 2216 episodes!\tAverage Score: 192.98\n",
            "Completed 1 iterations\n",
            "\n",
            "Environment solved in 6581 episodes!\tAverage Score: 190.17\n",
            "Completed 2 iterations\n",
            "Completed 3 iterations\n",
            "\n",
            "Environment solved in 7170 episodes!\tAverage Score: 193.10\n",
            "Completed 4 iterations\n",
            "\n",
            "Environment solved in 8820 episodes!\tAverage Score: 190.30\n",
            "Completed 5 iterations\n"
          ]
        }
      ],
      "source": [
        "N = 5\n",
        "reward_max = []\n",
        "for i in range(5):\n",
        "  agent = TutorialAgent(state_size=state_shape,action_size = action_shape,seed = 0)\n",
        "  reward_max.append(dqn())\n",
        "  print(f'Completed {i+1} iterations')"
      ]
    },
    {
      "cell_type": "code",
      "execution_count": null,
      "metadata": {
        "colab": {
          "base_uri": "https://localhost:8080/",
          "height": 507
        },
        "id": "WOTGCldRn5n0",
        "outputId": "dd3181d2-d8f5-4554-949a-c5dd5d47b90b"
      },
      "outputs": [
        {
          "output_type": "stream",
          "name": "stderr",
          "text": [
            "WARNING:matplotlib.legend:No artists with labels found to put in legend.  Note that artists whose label start with an underscore are ignored when legend() is called with no argument.\n"
          ]
        },
        {
          "output_type": "execute_result",
          "data": {
            "text/plain": [
              "<matplotlib.legend.Legend at 0x7903e79a6830>"
            ]
          },
          "metadata": {},
          "execution_count": 43
        },
        {
          "output_type": "display_data",
          "data": {
            "text/plain": [
              "<Figure size 640x480 with 1 Axes>"
            ],
            "image/png": "[encoded data removed]"
          },
          "metadata": {}
        }
      ],
      "source": [
        "min_size = min([len(i) for i in reward_max ])\n",
        "max_reward = np.mean(np.array([i[:min_size] for i in reward_max]),axis = 0)\n",
        "plt.plot(np.arange(len(max_reward)),max_reward)\n",
        "plt.xlabel('Episodes')\n",
        "plt.ylabel('Return')\n",
        "plt.title('Type 2')\n",
        "plt.legend()"
      ]
    },
    {
      "cell_type": "code",
      "source": [
        "reward_save = [i[:min_size] for i in reward_max]\n",
        "np.save(\"reward_CartPole_max_DQN.npy\", reward_save)"
      ],
      "metadata": {
        "id": "XXKv99mWn5n0"
      },
      "execution_count": null,
      "outputs": []
    },
    {
      "cell_type": "code",
      "execution_count": null,
      "metadata": {
        "colab": {
          "base_uri": "https://localhost:8080/",
          "height": 489
        },
        "id": "uhyPLGyKn5n0",
        "outputId": "7c56d6a8-a825-4c78-9535-427b79d819c3"
      },
      "outputs": [
        {
          "output_type": "execute_result",
          "data": {
            "text/plain": [
              "<matplotlib.legend.Legend at 0x7903eb660580>"
            ]
          },
          "metadata": {},
          "execution_count": 37
        },
        {
          "output_type": "display_data",
          "data": {
            "text/plain": [
              "<Figure size 640x480 with 1 Axes>"
            ],
            "image/png": "[encoded data removed]"
          },
          "metadata": {}
        }
      ],
      "source": [
        "avg_reward = np.load('reward_CartPole_mean_DQN.npy')\n",
        "max_reward = np.load('reward_CartPole_max_DQN.npy')\n",
        "min_size = min(min([len(i) for i in reward_max ]),min([len(i) for i in avg_reward ]))\n",
        "avg_reward = np.mean(np.array([i[:min_size] for i in avg_reward]),axis = 0)\n",
        "max_reward = np.mean(np.array([i[:min_size] for i in max_reward]),axis = 0)\n",
        "plt.plot(np.arange(len(avg_reward)),avg_reward,c='g', label='A - mean(A)')\n",
        "plt.plot(np.arange(len(max_reward)),max_reward,c='r', label='A - max(A)')\n",
        "plt.xlabel('Episodes')\n",
        "plt.ylabel('Return')\n",
        "plt.title('Return vs Episode')\n",
        "plt.legend()\n",
        "\n"
      ]
    },
    {
      "cell_type": "code",
      "execution_count": null,
      "metadata": {
        "id": "MblZid7JmbPm",
        "colab": {
          "base_uri": "https://localhost:8080/"
        },
        "outputId": "d0b30066-6730-4722-c2a4-d9a11a6f101f"
      },
      "outputs": [
        {
          "output_type": "stream",
          "name": "stdout",
          "text": [
            "211.0\n",
            "43.0\n"
          ]
        },
        {
          "output_type": "stream",
          "name": "stderr",
          "text": [
            "/usr/local/lib/python3.10/dist-packages/ipykernel/ipkernel.py:283: DeprecationWarning: `should_run_async` will not call `transform_cell` automatically in the future. Please pass the result to `transformed_cell` argument and any exception that happen during thetransform in `preprocessing_exc_tuple` in IPython 7.17 and above.\n",
            "  and should_run_async(code)\n"
          ]
        }
      ],
      "source": [
        "print(max(max_reward))\n",
        "print(max(avg_reward))"
      ]
    },
    {
      "cell_type": "code",
      "execution_count": null,
      "metadata": {
        "id": "WuiZ3W14mbNO",
        "colab": {
          "base_uri": "https://localhost:8080/"
        },
        "outputId": "b6f47ffe-d78d-4cea-e8c5-2040a931229b"
      },
      "outputs": [
        {
          "output_type": "stream",
          "name": "stdout",
          "text": [
            "181.6657942238267\n",
            "197.39386281588426\n"
          ]
        },
        {
          "output_type": "stream",
          "name": "stderr",
          "text": [
            "/usr/local/lib/python3.10/dist-packages/ipykernel/ipkernel.py:283: DeprecationWarning: `should_run_async` will not call `transform_cell` automatically in the future. Please pass the result to `transformed_cell` argument and any exception that happen during thetransform in `preprocessing_exc_tuple` in IPython 7.17 and above.\n",
            "  and should_run_async(code)\n"
          ]
        }
      ],
      "source": [
        "max_val = max(max(max_reward),max(avg_reward))\n",
        "print(sum(max_val - max_reward)/len(max_reward))\n",
        "print(sum(max_val - avg_reward)/len(avg_reward))"
      ]
    },
    {
      "cell_type": "code",
      "execution_count": null,
      "metadata": {
        "id": "Ldvk9NQXe9Xk"
      },
      "outputs": [],
      "source": []
    }
  ],
  "metadata": {
    "colab": {
      "provenance": []
    },
    "kernelspec": {
      "display_name": "Python 3",
      "name": "python3"
    },
    "language_info": {
      "name": "python"
    }
  },
  "nbformat": 4,
  "nbformat_minor": 0
}