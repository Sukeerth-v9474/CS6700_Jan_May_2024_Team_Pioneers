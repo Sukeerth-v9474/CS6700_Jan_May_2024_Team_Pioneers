{
  "nbformat": 4,
  "nbformat_minor": 0,
  "metadata": {
    "colab": {
      "provenance": []
    },
    "kernelspec": {
      "name": "python3",
      "display_name": "Python 3"
    },
    "language_info": {
      "name": "python"
    }
  },
  "cells": [
    {
      "cell_type": "code",
      "execution_count": 84,
      "metadata": {
        "id": "8EsXssnKyIe1"
      },
      "outputs": [],
      "source": [
        "import numpy as np\n",
        "import matplotlib.pyplot as plt"
      ]
    },
    {
      "cell_type": "code",
      "source": [
        "LR = [5e-4,1e-4,5e-5]\n",
        "HL_size = [8,16,32]"
      ],
      "metadata": {
        "id": "n8A2Zen099_k"
      },
      "execution_count": 85,
      "outputs": []
    },
    {
      "cell_type": "markdown",
      "source": [
        "#Acrobot"
      ],
      "metadata": {
        "id": "_PPxSjfEzJNz"
      }
    },
    {
      "cell_type": "markdown",
      "source": [
        "##MEAN"
      ],
      "metadata": {
        "id": "BcnIXvTqz6ie"
      }
    },
    {
      "cell_type": "markdown",
      "source": [
        "##Batch Size 32"
      ],
      "metadata": {
        "id": "HgSu9SNVzd9D"
      }
    },
    {
      "cell_type": "code",
      "source": [
        "arr = np.load(\"HP_32_mean.npy\").reshape(9,-1)\n",
        "print(arr.shape)"
      ],
      "metadata": {
        "colab": {
          "base_uri": "https://localhost:8080/"
        },
        "id": "9VVdcSLBzIuj",
        "outputId": "797d39bc-89e3-4126-cdc6-8d811f54c4ac"
      },
      "execution_count": 86,
      "outputs": [
        {
          "output_type": "stream",
          "name": "stdout",
          "text": [
            "(9, 326)\n"
          ]
        }
      ]
    },
    {
      "cell_type": "code",
      "source": [
        "regret = [sum(-110 - i) for i in arr]\n",
        "print(regret)\n",
        "print(\"min:- \",min(regret),\", min_index:- \",regret.index(min(regret)))\n",
        "print(f\"Best Hyper Parameters LR:- {LR[int(regret.index(min(regret))//3)]} Hidden Layer size:- {HL_size[regret.index(min(regret))%3]}\")"
      ],
      "metadata": {
        "colab": {
          "base_uri": "https://localhost:8080/"
        },
        "id": "U99IzH_3yVCq",
        "outputId": "479727cb-7d51-4e0c-95d1-bbcf4282345a"
      },
      "execution_count": 87,
      "outputs": [
        {
          "output_type": "stream",
          "name": "stdout",
          "text": [
            "[39839.0, 59337.0, 69515.0, 28054.0, 106347.0, 29877.0, 59152.0, 66306.0, 56145.0]\n",
            "min:-  28054.0 , min_index:-  3\n",
            "Best Hyper Parameters LR:- 0.0001 Hidden Layer size:- 8\n"
          ]
        }
      ]
    },
    {
      "cell_type": "markdown",
      "source": [
        "##Batch Size 64"
      ],
      "metadata": {
        "id": "6EnwZ7spzkI1"
      }
    },
    {
      "cell_type": "code",
      "source": [
        "arr = np.load(\"HP_64_mean.npy\").reshape(9,-1)\n",
        "print(arr.shape)"
      ],
      "metadata": {
        "colab": {
          "base_uri": "https://localhost:8080/"
        },
        "outputId": "c3ac7fb8-5a59-4eb8-8fbb-fe1152859f63",
        "id": "l8P9GZ3h2VO1"
      },
      "execution_count": 88,
      "outputs": [
        {
          "output_type": "stream",
          "name": "stdout",
          "text": [
            "(9, 308)\n"
          ]
        }
      ]
    },
    {
      "cell_type": "code",
      "source": [
        "regret = [sum(-110 - i) for i in arr]\n",
        "print(regret)\n",
        "print(\"min:- \",min(regret),\", min_index:- \",regret.index(min(regret)))\n",
        "print(f\"Best Hyper Parameters LR:- {LR[int(regret.index(min(regret))//3)]} Hidden Layer size:- {HL_size[regret.index(min(regret))%3]}\")"
      ],
      "metadata": {
        "colab": {
          "base_uri": "https://localhost:8080/"
        },
        "outputId": "00b6bf7a-0d3b-43e0-80a2-0a61f430236c",
        "id": "XCzQgD6p2VO1"
      },
      "execution_count": 89,
      "outputs": [
        {
          "output_type": "stream",
          "name": "stdout",
          "text": [
            "[57225.0, 75404.0, 45223.0, 32093.0, 29268.0, 31522.0, 37867.0, 31327.0, 32210.0]\n",
            "min:-  29268.0 , min_index:-  4\n",
            "Best Hyper Parameters LR:- 0.0001 Hidden Layer size:- 16\n"
          ]
        }
      ]
    },
    {
      "cell_type": "markdown",
      "source": [
        "##Batch Size 128"
      ],
      "metadata": {
        "id": "uLYTePNZzlRT"
      }
    },
    {
      "cell_type": "code",
      "source": [
        "arr = np.load(\"HP_128_mean.npy\").reshape(9,-1)\n",
        "print(arr.shape)"
      ],
      "metadata": {
        "colab": {
          "base_uri": "https://localhost:8080/"
        },
        "outputId": "b621dd60-eb99-4390-b7ff-a2caa6a1ae1a",
        "id": "48fPVcXv2gNb"
      },
      "execution_count": 90,
      "outputs": [
        {
          "output_type": "stream",
          "name": "stdout",
          "text": [
            "(9, 321)\n"
          ]
        }
      ]
    },
    {
      "cell_type": "code",
      "source": [
        "regret = [sum(-110 - i) for i in arr]\n",
        "print(regret)\n",
        "print(\"min:- \",min(regret),\", min_index:- \",regret.index(min(regret)))\n",
        "print(f\"Best Hyper Parameters LR:- {LR[int(regret.index(min(regret))//3)]} Hidden Layer size:- {HL_size[regret.index(min(regret))%3]}\")"
      ],
      "metadata": {
        "colab": {
          "base_uri": "https://localhost:8080/"
        },
        "outputId": "86e3d08d-ff00-46d2-f820-b4e39562f2ae",
        "id": "r8UjVdrn2gNb"
      },
      "execution_count": 91,
      "outputs": [
        {
          "output_type": "stream",
          "name": "stdout",
          "text": [
            "[34795.0, 34375.0, 36756.0, 51660.0, 27663.0, 28581.0, 29537.0, 45513.0, 30424.0]\n",
            "min:-  27663.0 , min_index:-  4\n",
            "Best Hyper Parameters LR:- 0.0001 Hidden Layer size:- 16\n"
          ]
        }
      ]
    },
    {
      "cell_type": "markdown",
      "source": [
        "##MAX"
      ],
      "metadata": {
        "id": "4DyjC74v29AY"
      }
    },
    {
      "cell_type": "markdown",
      "source": [
        "##Batch Size 32"
      ],
      "metadata": {
        "id": "p48O3xeB29AY"
      }
    },
    {
      "cell_type": "code",
      "source": [
        "arr = np.load(\"HP_32_max.npy\").reshape(9,-1)\n",
        "print(arr.shape)"
      ],
      "metadata": {
        "colab": {
          "base_uri": "https://localhost:8080/"
        },
        "outputId": "b41d1eec-654a-4f8c-af6e-8dfd07e3300a",
        "id": "YkR8Exs729AY"
      },
      "execution_count": 92,
      "outputs": [
        {
          "output_type": "stream",
          "name": "stdout",
          "text": [
            "(9, 500)\n"
          ]
        }
      ]
    },
    {
      "cell_type": "code",
      "source": [
        "regret = [sum(-110 - i) for i in arr]\n",
        "print(regret)\n",
        "print(\"min:- \",min(regret),\", min_index:- \",regret.index(min(regret)))\n",
        "print(f\"Best Hyper Parameters LR:- {LR[int(regret.index(min(regret))//3)]} Hidden Layer size:- {HL_size[regret.index(min(regret))%3]}\")"
      ],
      "metadata": {
        "colab": {
          "base_uri": "https://localhost:8080/"
        },
        "outputId": "27ad7f32-332b-4419-baf4-88367dd0c675",
        "id": "8WqT6SHn29AY"
      },
      "execution_count": 93,
      "outputs": [
        {
          "output_type": "stream",
          "name": "stdout",
          "text": [
            "[51631.0, 44281.0, 61280.0, 188666.0, 59756.0, 40077.0, 97373.0, 100926.0, 47412.0]\n",
            "min:-  40077.0 , min_index:-  5\n",
            "Best Hyper Parameters LR:- 0.0001 Hidden Layer size:- 32\n"
          ]
        }
      ]
    },
    {
      "cell_type": "markdown",
      "source": [
        "##Batch Size 64"
      ],
      "metadata": {
        "id": "BI-evBJo29AY"
      }
    },
    {
      "cell_type": "code",
      "source": [
        "arr = np.load(\"HP_64_max.npy\").reshape(9,-1)\n",
        "print(arr.shape)"
      ],
      "metadata": {
        "colab": {
          "base_uri": "https://localhost:8080/"
        },
        "outputId": "1fdf7ea9-021a-4725-a8db-1c0516f78877",
        "id": "S2WrmaH-29AZ"
      },
      "execution_count": 94,
      "outputs": [
        {
          "output_type": "stream",
          "name": "stdout",
          "text": [
            "(9, 438)\n"
          ]
        }
      ]
    },
    {
      "cell_type": "code",
      "source": [
        "regret = [sum(-110 - i) for i in arr]\n",
        "print(regret)\n",
        "print(\"min:- \",min(regret),\", min_index:- \",regret.index(min(regret)))\n",
        "print(f\"Best Hyper Parameters LR:- {LR[int(regret.index(min(regret))//3)]} Hidden Layer size:- {HL_size[regret.index(min(regret))%3]}\")"
      ],
      "metadata": {
        "colab": {
          "base_uri": "https://localhost:8080/"
        },
        "outputId": "bfb198d2-e230-4291-9b12-89f911365432",
        "id": "tb-sfitd29Aa"
      },
      "execution_count": 95,
      "outputs": [
        {
          "output_type": "stream",
          "name": "stdout",
          "text": [
            "[94565.0, 60509.0, 75988.0, 75385.0, 60607.0, 36542.0, 170682.0, 87380.0, 47684.0]\n",
            "min:-  36542.0 , min_index:-  5\n",
            "Best Hyper Parameters LR:- 0.0001 Hidden Layer size:- 32\n"
          ]
        }
      ]
    },
    {
      "cell_type": "markdown",
      "source": [
        "##Batch Size 128"
      ],
      "metadata": {
        "id": "hb3eht-z29Aa"
      }
    },
    {
      "cell_type": "code",
      "source": [
        "arr = np.load(\"HP_128_max.npy\").reshape(9,-1)\n",
        "print(arr.shape)"
      ],
      "metadata": {
        "colab": {
          "base_uri": "https://localhost:8080/"
        },
        "outputId": "bef82cd3-af71-4ef9-9cd7-4e4564025e90",
        "id": "PUH-7iv529Aa"
      },
      "execution_count": 96,
      "outputs": [
        {
          "output_type": "stream",
          "name": "stdout",
          "text": [
            "(9, 441)\n"
          ]
        }
      ]
    },
    {
      "cell_type": "code",
      "source": [
        "regret = [sum(-110 - i) for i in arr]\n",
        "print(regret)\n",
        "print(\"min:- \",min(regret),\", min_index:- \",regret.index(min(regret)))\n",
        "print(f\"Best Hyper Parameters LR:- {LR[int(regret.index(min(regret))//3)]} Hidden Layer size:- {HL_size[regret.index(min(regret))%3]}\")"
      ],
      "metadata": {
        "colab": {
          "base_uri": "https://localhost:8080/"
        },
        "outputId": "964119fe-52d4-437f-a535-9ad8c57e867f",
        "id": "7RjqR-Da29Aa"
      },
      "execution_count": 97,
      "outputs": [
        {
          "output_type": "stream",
          "name": "stdout",
          "text": [
            "[76470.0, 61555.0, 79431.0, 59651.0, 35405.0, 58591.0, 67887.0, 92132.0, 69877.0]\n",
            "min:-  35405.0 , min_index:-  4\n",
            "Best Hyper Parameters LR:- 0.0001 Hidden Layer size:- 16\n"
          ]
        }
      ]
    },
    {
      "cell_type": "markdown",
      "source": [
        "#Cart Pole"
      ],
      "metadata": {
        "id": "ZQ0u6knE3zY0"
      }
    },
    {
      "cell_type": "markdown",
      "source": [
        "##MEAN"
      ],
      "metadata": {
        "id": "XmiR7szR3zY0"
      }
    },
    {
      "cell_type": "code",
      "source": [
        "LR = [1e-2,1e-3,1e-4]\n",
        "HL_size = [8,16,32]"
      ],
      "metadata": {
        "id": "wN1HghDH-Ytb"
      },
      "execution_count": 70,
      "outputs": []
    },
    {
      "cell_type": "markdown",
      "source": [
        "##Batch Size 16"
      ],
      "metadata": {
        "id": "d0_svlge3zY0"
      }
    },
    {
      "cell_type": "code",
      "source": [
        "arr = np.load(\"HP_CartPole_16_mean.npy\").reshape(9,-1)\n",
        "print(arr.shape)"
      ],
      "metadata": {
        "colab": {
          "base_uri": "https://localhost:8080/"
        },
        "outputId": "3d9b5bfc-c8a6-400e-c5d3-898533116829",
        "id": "7Mj2eb3c3zY1"
      },
      "execution_count": 71,
      "outputs": [
        {
          "output_type": "stream",
          "name": "stdout",
          "text": [
            "(9, 5000)\n"
          ]
        }
      ]
    },
    {
      "cell_type": "code",
      "source": [
        "regret = [sum(250 - i) for i in arr]\n",
        "print(regret)\n",
        "print(\"min:- \",min(regret),\", min_index:- \",regret.index(min(regret)))\n",
        "print(f\"Best Hyper Parameters LR:- {LR[int(regret.index(min(regret))//3)]} Hidden Layer size:- {HL_size[regret.index(min(regret))%3]}\")"
      ],
      "metadata": {
        "colab": {
          "base_uri": "https://localhost:8080/"
        },
        "outputId": "cafa9776-6661-4530-ddda-2520ce95f4f7",
        "id": "Qq0GFka93zY1"
      },
      "execution_count": 72,
      "outputs": [
        {
          "output_type": "stream",
          "name": "stdout",
          "text": [
            "[1187515.0, 1190063.0, 1186188.0, 1167690.0, 1097523.0, 1165859.0, 1143313.0, 1136418.0, 1143268.0]\n",
            "min:-  1097523.0 , min_index:-  4\n",
            "Best Hyper Parameters LR:- 0.001 Hidden Layer size:- 16\n"
          ]
        }
      ]
    },
    {
      "cell_type": "markdown",
      "source": [
        "##Batch Size 32"
      ],
      "metadata": {
        "id": "r_ARpD5J3zY1"
      }
    },
    {
      "cell_type": "code",
      "source": [
        "arr = np.load(\"HP_CartPole_32_mean.npy\").reshape(9,-1)\n",
        "print(arr.shape)"
      ],
      "metadata": {
        "colab": {
          "base_uri": "https://localhost:8080/"
        },
        "outputId": "26f58742-c32d-409b-9d57-b22c86ee153a",
        "id": "JpLJrLpO3zY2"
      },
      "execution_count": 73,
      "outputs": [
        {
          "output_type": "stream",
          "name": "stdout",
          "text": [
            "(9, 2260)\n"
          ]
        }
      ]
    },
    {
      "cell_type": "code",
      "source": [
        "regret = [sum(250 - i) for i in arr]\n",
        "print(\"min:- \",min(regret),\", min_index:- \",regret.index(min(regret)))\n",
        "print(f\"Best Hyper Parameters LR:- {LR[int(regret.index(min(regret))//3)]} Hidden Layer size:- {HL_size[regret.index(min(regret))%3]}\")"
      ],
      "metadata": {
        "colab": {
          "base_uri": "https://localhost:8080/"
        },
        "outputId": "6b4faffa-0c62-4e55-c483-63b309ec26cb",
        "id": "Owm9AfYU3zY2"
      },
      "execution_count": 74,
      "outputs": [
        {
          "output_type": "stream",
          "name": "stdout",
          "text": [
            "min:-  406653.0 , min_index:-  4\n",
            "Best Hyper Parameters LR:- 0.001 Hidden Layer size:- 16\n"
          ]
        }
      ]
    },
    {
      "cell_type": "markdown",
      "source": [
        "##Batch Size 64"
      ],
      "metadata": {
        "id": "2_mrPGaU3zY2"
      }
    },
    {
      "cell_type": "code",
      "source": [
        "arr = np.load(\"HP_CartPole_64_mean.npy\").reshape(9,-1)\n",
        "print(arr.shape)"
      ],
      "metadata": {
        "colab": {
          "base_uri": "https://localhost:8080/"
        },
        "outputId": "bec69913-f814-47a2-c6db-4acd8d3e12eb",
        "id": "Kn3WSXZm3zY2"
      },
      "execution_count": 75,
      "outputs": [
        {
          "output_type": "stream",
          "name": "stdout",
          "text": [
            "(9, 3933)\n"
          ]
        }
      ]
    },
    {
      "cell_type": "code",
      "source": [
        "regret = [sum(250 - i) for i in arr]\n",
        "print(regret)\n",
        "print(\"min:- \",min(regret),\", min_index:- \",regret.index(min(regret)))\n",
        "print(f\"Best Hyper Parameters LR:- {LR[int(regret.index(min(regret))//3)]} Hidden Layer size:- {HL_size[regret.index(min(regret))%3]}\")"
      ],
      "metadata": {
        "colab": {
          "base_uri": "https://localhost:8080/"
        },
        "outputId": "8bde825a-2140-43da-d2d3-c11124ce9f5a",
        "id": "ikBEZM4_3zY3"
      },
      "execution_count": 76,
      "outputs": [
        {
          "output_type": "stream",
          "name": "stdout",
          "text": [
            "[490807.0, 517037.0, 775705.0, 717891.0, 626174.0, 617182.0, 857594.0, 865279.0, 752146.0]\n",
            "min:-  490807.0 , min_index:-  0\n",
            "Best Hyper Parameters LR:- 0.01 Hidden Layer size:- 8\n"
          ]
        }
      ]
    },
    {
      "cell_type": "markdown",
      "source": [
        "##MAX"
      ],
      "metadata": {
        "id": "wrkNnUHS3zY3"
      }
    },
    {
      "cell_type": "markdown",
      "source": [
        "##Batch Size 16"
      ],
      "metadata": {
        "id": "uocIM2aY3zY3"
      }
    },
    {
      "cell_type": "code",
      "source": [
        "arr = np.load(\"HP_CartPole_16_max.npy\").reshape(9,-1)\n",
        "print(arr.shape)"
      ],
      "metadata": {
        "colab": {
          "base_uri": "https://localhost:8080/"
        },
        "outputId": "5f7b230d-5618-47d3-d10d-48210da4a2d9",
        "id": "xXQVgKUF3zY3"
      },
      "execution_count": 77,
      "outputs": [
        {
          "output_type": "stream",
          "name": "stdout",
          "text": [
            "(9, 5000)\n"
          ]
        }
      ]
    },
    {
      "cell_type": "code",
      "source": [
        "regret = [sum(250 - i) for i in arr]\n",
        "print(regret)\n",
        "print(\"min:- \",min(regret),\", min_index:- \",regret.index(min(regret)))\n",
        "print(f\"Best Hyper Parameters LR:- {LR[int(regret.index(min(regret))//3)]} Hidden Layer size:- {HL_size[regret.index(min(regret))%3]}\")"
      ],
      "metadata": {
        "colab": {
          "base_uri": "https://localhost:8080/"
        },
        "outputId": "97babdfb-2014-4a03-b48e-7ed4a17f8567",
        "id": "lHQX_GsN3zY4"
      },
      "execution_count": 78,
      "outputs": [
        {
          "output_type": "stream",
          "name": "stdout",
          "text": [
            "[1191244.0, 1183991.0, 1197797.0, 1166032.0, 1180503.0, 1177286.0, 1148521.0, 1199663.0, 1172738.0]\n",
            "min:-  1148521.0 , min_index:-  6\n",
            "Best Hyper Parameters LR:- 0.0001 Hidden Layer size:- 8\n"
          ]
        }
      ]
    },
    {
      "cell_type": "markdown",
      "source": [
        "##Batch Size 32"
      ],
      "metadata": {
        "id": "dZPaycmj3zY4"
      }
    },
    {
      "cell_type": "code",
      "source": [
        "arr = np.load(\"HP_CartPole_32_max.npy\").reshape(9,-1)\n",
        "print(arr.shape)"
      ],
      "metadata": {
        "colab": {
          "base_uri": "https://localhost:8080/"
        },
        "outputId": "5cf88197-f9fd-434b-c003-752809629a51",
        "id": "x2JyRgB83zY4"
      },
      "execution_count": 79,
      "outputs": [
        {
          "output_type": "stream",
          "name": "stdout",
          "text": [
            "(9, 5000)\n"
          ]
        }
      ]
    },
    {
      "cell_type": "code",
      "source": [
        "regret = [sum(250 - i) for i in arr]\n",
        "print(regret)\n",
        "print(\"min:- \",min(regret),\", min_index:- \",regret.index(min(regret)))\n",
        "print(f\"Best Hyper Parameters LR:- {LR[int(regret.index(min(regret))//3)]} Hidden Layer size:- {HL_size[regret.index(min(regret))%3]}\")"
      ],
      "metadata": {
        "colab": {
          "base_uri": "https://localhost:8080/"
        },
        "outputId": "4aff8ea0-31a3-4798-bf6b-d4c5ccc4fef0",
        "id": "wq9lwqtC3zY4"
      },
      "execution_count": 80,
      "outputs": [
        {
          "output_type": "stream",
          "name": "stdout",
          "text": [
            "[1040565.0, 1069200.0, 1114641.0, 1200269.0, 928779.0, 1092248.0, 1101500.0, 1121861.0, 1118731.0]\n",
            "min:-  928779.0 , min_index:-  4\n",
            "Best Hyper Parameters LR:- 0.001 Hidden Layer size:- 16\n"
          ]
        }
      ]
    },
    {
      "cell_type": "markdown",
      "source": [
        "##Batch Size 64"
      ],
      "metadata": {
        "id": "jz6vJV653zY5"
      }
    },
    {
      "cell_type": "code",
      "source": [
        "arr = np.load(\"HP_CartPole_64_max.npy\").reshape(9,-1)\n",
        "print(arr.shape)"
      ],
      "metadata": {
        "colab": {
          "base_uri": "https://localhost:8080/"
        },
        "outputId": "56733b73-6a3f-4344-fe18-de77d90e0da4",
        "id": "sWDp3pzB3zY5"
      },
      "execution_count": 81,
      "outputs": [
        {
          "output_type": "stream",
          "name": "stdout",
          "text": [
            "(9, 1697)\n"
          ]
        }
      ]
    },
    {
      "cell_type": "code",
      "source": [
        "regret = [sum(250 - i) for i in arr]\n",
        "print(regret)\n",
        "print(\"min:- \",min(regret),\", min_index:- \",regret.index(min(regret)))\n",
        "print(f\"Best Hyper Parameters LR:- {LR[int(regret.index(min(regret))//3)]} Hidden Layer size:- {HL_size[regret.index(min(regret))%3]}\")"
      ],
      "metadata": {
        "colab": {
          "base_uri": "https://localhost:8080/"
        },
        "outputId": "bcc2b08e-210a-4a76-b684-fa4c161420b5",
        "id": "OQzhi8V43zY6"
      },
      "execution_count": 82,
      "outputs": [
        {
          "output_type": "stream",
          "name": "stdout",
          "text": [
            "[338891.0, 221300.0, 292636.0, 266794.0, 407844.0, 347739.0, 362140.0, 405875.0, 353931.0]\n",
            "min:-  221300.0 , min_index:-  1\n",
            "Best Hyper Parameters LR:- 0.01 Hidden Layer size:- 16\n"
          ]
        }
      ]
    },
    {
      "cell_type": "code",
      "source": [],
      "metadata": {
        "id": "6eYfdV9_2hqV"
      },
      "execution_count": 82,
      "outputs": []
    }
  ]
}