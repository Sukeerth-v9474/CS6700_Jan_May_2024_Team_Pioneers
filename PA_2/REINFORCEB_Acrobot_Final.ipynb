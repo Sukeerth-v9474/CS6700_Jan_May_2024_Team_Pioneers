{
  "cells": [
    {
      "cell_type": "markdown",
      "source": [
        "# REINFORCE with Baseline as Value Function for CartPole-v1"
      ],
      "metadata": {
        "id": "DDaRDdCoqtie"
      }
    },
    {
      "cell_type": "code",
      "execution_count": 1,
      "metadata": {
        "id": "yr-5A6aZghNA"
      },
      "outputs": [],
      "source": [
        "# Import required libraries\n",
        "\n",
        "import argparse\n",
        "import gym\n",
        "import matplotlib.pyplot as plt\n",
        "from matplotlib import animation\n",
        "from IPython.display import HTML\n",
        "import numpy as np\n",
        "from itertools import count\n",
        "from collections import namedtuple\n",
        "\n",
        "import torch\n",
        "import torch.nn as nn\n",
        "import torch.nn.functional as F\n",
        "import torch.optim as optim\n",
        "from torch.distributions import Categorical"
      ]
    },
    {
      "cell_type": "markdown",
      "source": [
        "## Environment Parameters"
      ],
      "metadata": {
        "id": "yp1Og4NBp7-u"
      }
    },
    {
      "cell_type": "code",
      "execution_count": 2,
      "metadata": {
        "colab": {
          "base_uri": "https://localhost:8080/"
        },
        "id": "JNIZX3kGghNB",
        "outputId": "993e7e15-a5b6-4cd4-8c94-c3895dc242d7"
      },
      "outputs": [
        {
          "output_type": "stream",
          "name": "stderr",
          "text": [
            "/usr/local/lib/python3.10/dist-packages/ipykernel/ipkernel.py:283: DeprecationWarning: `should_run_async` will not call `transform_cell` automatically in the future. Please pass the result to `transformed_cell` argument and any exception that happen during thetransform in `preprocessing_exc_tuple` in IPython 7.17 and above.\n",
            "  and should_run_async(code)\n",
            "/usr/local/lib/python3.10/dist-packages/gym/core.py:317: DeprecationWarning: \u001b[33mWARN: Initializing wrapper in old step API which returns one bool instead of two. It is recommended to set `new_step_api=True` to use new step API. This will be the default behaviour in future.\u001b[0m\n",
            "  deprecation(\n",
            "/usr/local/lib/python3.10/dist-packages/gym/wrappers/step_api_compatibility.py:39: DeprecationWarning: \u001b[33mWARN: Initializing environment in old step API which returns one bool instead of two. It is recommended to set `new_step_api=True` to use new step API. This will be the default behaviour in future.\u001b[0m\n",
            "  deprecation(\n"
          ]
        }
      ],
      "source": [
        "# Set constants for training\n",
        "seed = 9474\n",
        "log_interval = 10\n",
        "gamma = 0.99\n",
        "\n",
        "env = gym.make('Acrobot-v1')\n",
        "env.reset(seed=seed)\n",
        "torch.manual_seed(seed)\n",
        "\n",
        "SavedAction = namedtuple('SavedAction', ['log_prob', 'value'])\n",
        "\n",
        "num_i_nodes = 6\n",
        "num_h_nodes = 64\n",
        "num_o_nodes = 3"
      ]
    },
    {
      "cell_type": "markdown",
      "source": [
        "## Neural Networks for Policy and Value Function"
      ],
      "metadata": {
        "id": "pQAbkeX9qCyJ"
      }
    },
    {
      "cell_type": "markdown",
      "source": [
        "### Policy Neural Network"
      ],
      "metadata": {
        "id": "1OP4Zb0RqGsu"
      }
    },
    {
      "cell_type": "code",
      "execution_count": 3,
      "metadata": {
        "id": "EgxavOyKghNC"
      },
      "outputs": [],
      "source": [
        "class Policy(nn.Module):\n",
        "    \"\"\"\n",
        "    Implements the policy network for REINFORCE with baseline.\n",
        "    \"\"\"\n",
        "    def __init__(self):\n",
        "        super(Policy, self).__init__()\n",
        "        self.affine1 = nn.Linear(num_i_nodes, num_h_nodes)\n",
        "        self.action_head = nn.Linear(num_h_nodes, num_o_nodes)  # Output layer for actions\n",
        "\n",
        "        # Initialize the weights\n",
        "        self.init_weights()\n",
        "\n",
        "        # Action and reward buffer (unused for REINFORCE)\n",
        "        self.saved_actions = []\n",
        "        self.rewards = []\n",
        "\n",
        "    def init_weights(self):\n",
        "        # Initialize the weights of the linear layers\n",
        "        nn.init.kaiming_normal_(self.affine1.weight, nonlinearity='relu')\n",
        "        nn.init.constant_(self.affine1.bias, 0)\n",
        "        nn.init.kaiming_normal_(self.action_head.weight, nonlinearity='relu')\n",
        "        nn.init.constant_(self.action_head.bias, 0)\n",
        "\n",
        "    def forward(self, x):\n",
        "        \"\"\"\n",
        "        Forward pass of the policy network.\n",
        "        \"\"\"\n",
        "        x = F.relu(self.affine1(x))\n",
        "        action_scores = F.softmax(self.action_head(x), dim=-1)  # Actor: Action probabilities\n",
        "        return action_scores"
      ]
    },
    {
      "cell_type": "markdown",
      "source": [
        "### Value Function Neural Network"
      ],
      "metadata": {
        "id": "ZMOqDDOXqLkC"
      }
    },
    {
      "cell_type": "code",
      "source": [
        "# Create NN for value function\n",
        "class ValueFunction(nn.Module):\n",
        "    \"\"\"\n",
        "    Implements the value function network for REINFORCE with baseline.\n",
        "    \"\"\"\n",
        "    def __init__(self):\n",
        "        super(ValueFunction, self).__init__()\n",
        "        self.affine1 = nn.Linear(num_i_nodes, num_h_nodes)\n",
        "        self.value_head = nn.Linear(num_h_nodes, 1)    # Output layer for value function\n",
        "\n",
        "        # Initialize the weights\n",
        "        self.init_weights()\n",
        "\n",
        "        # State value buffer (unused for REINFORCE)\n",
        "        self.state_values = []\n",
        "\n",
        "    def init_weights(self):\n",
        "        # Initialize the weights of the linear layers\n",
        "        nn.init.kaiming_normal_(self.affine1.weight, nonlinearity='relu')\n",
        "        nn.init.constant_(self.affine1.bias, 0)\n",
        "        nn.init.kaiming_normal_(self.value_head.weight, nonlinearity='relu')\n",
        "        nn.init.constant_(self.value_head.bias, 0)\n",
        "\n",
        "    def forward(self, x):\n",
        "        \"\"\"\n",
        "        Forward pass of the value function network.\n",
        "        \"\"\"\n",
        "        x = F.relu(self.affine1(x))\n",
        "        state_value = self.value_head(x)\n",
        "        return state_value"
      ],
      "metadata": {
        "id": "HzjJ8yI2ZHYn"
      },
      "execution_count": 4,
      "outputs": []
    },
    {
      "cell_type": "markdown",
      "source": [
        "## Object Definitions"
      ],
      "metadata": {
        "id": "1F0tBwysqQWR"
      }
    },
    {
      "cell_type": "code",
      "execution_count": 5,
      "metadata": {
        "id": "M_3XqHoMghNC"
      },
      "outputs": [],
      "source": [
        "model = Policy()\n",
        "value_model = ValueFunction()\n",
        "optimizer = optim.Adam(model.parameters(), lr=1e-2)\n",
        "value_optimizer = optim.Adam(value_model.parameters(), lr=1e-2)\n",
        "eps = np.finfo(np.float32).eps.item()"
      ]
    },
    {
      "cell_type": "markdown",
      "source": [
        "## Training Functions"
      ],
      "metadata": {
        "id": "A9q-yww-qTkc"
      }
    },
    {
      "cell_type": "markdown",
      "source": [
        "### Action"
      ],
      "metadata": {
        "id": "H43IuBvDqXa-"
      }
    },
    {
      "cell_type": "code",
      "execution_count": 6,
      "metadata": {
        "colab": {
          "base_uri": "https://localhost:8080/"
        },
        "id": "fxnhPP5wghNC",
        "outputId": "2a43acb0-8ebc-4e1c-e1c3-312f76132e60"
      },
      "outputs": [
        {
          "output_type": "stream",
          "name": "stderr",
          "text": [
            "/usr/local/lib/python3.10/dist-packages/ipykernel/ipkernel.py:283: DeprecationWarning: `should_run_async` will not call `transform_cell` automatically in the future. Please pass the result to `transformed_cell` argument and any exception that happen during thetransform in `preprocessing_exc_tuple` in IPython 7.17 and above.\n",
            "  and should_run_async(code)\n"
          ]
        }
      ],
      "source": [
        "def select_action(state):\n",
        "    \"\"\"\n",
        "    Selects an action from the policy network given the current state.\n",
        "    \"\"\"\n",
        "    state = torch.from_numpy(state).float()\n",
        "    probs = model(state)\n",
        "    state_value = value_model(state)\n",
        "\n",
        "    # Create a categorical distribution over the list of probabilities of actions\n",
        "    m = Categorical(probs)\n",
        "\n",
        "    # Sample an action using the distribution\n",
        "    action = m.sample()\n",
        "\n",
        "    # Save the log probability and state value in the model's saved_actions\n",
        "    model.saved_actions.append(SavedAction(m.log_prob(action), state_value))\n",
        "\n",
        "    # Return the action to take (left or right)\n",
        "    return action.item(), m.log_prob(action), state_value"
      ]
    },
    {
      "cell_type": "markdown",
      "source": [
        "### Returns"
      ],
      "metadata": {
        "id": "0XD003_sqajA"
      }
    },
    {
      "cell_type": "code",
      "source": [
        "def calculate_returns(rewards, discount_factor, normalize = False):\n",
        "\n",
        "    returns = []\n",
        "    R = 0\n",
        "\n",
        "    for r in reversed(rewards):\n",
        "        R = r + R * discount_factor\n",
        "        returns.insert(0, R)\n",
        "\n",
        "    # returns = torch.tensor(returns)\n",
        "\n",
        "    if normalize:\n",
        "        returns = (returns - returns.mean()) / returns.std()\n",
        "\n",
        "    return returns"
      ],
      "metadata": {
        "id": "nmf5oeL4SKRo"
      },
      "execution_count": 7,
      "outputs": []
    },
    {
      "cell_type": "markdown",
      "source": [
        "### Completion and Updation"
      ],
      "metadata": {
        "id": "1I_qqjUDqceq"
      }
    },
    {
      "cell_type": "code",
      "source": [
        "def finish_episode():\n",
        "    policy_loss = []\n",
        "    value_loss = []\n",
        "    returns = calculate_returns(model.rewards, gamma)\n",
        "    returns = torch.tensor(returns)\n",
        "    for saved_action, G, state_value in zip(model.saved_actions, returns, value_model.state_values):\n",
        "        log_prob, _ = saved_action\n",
        "        advantage = G - state_value\n",
        "        policy_loss.append(-log_prob * advantage)\n",
        "        value_loss.append(F.smooth_l1_loss(state_value, G))\n",
        "\n",
        "    optimizer.zero_grad()\n",
        "    policy_loss = torch.stack(policy_loss).sum()\n",
        "    policy_loss.backward(retain_graph=True)\n",
        "    optimizer.step()\n",
        "\n",
        "    value_optimizer.zero_grad()\n",
        "    value_loss = torch.stack(value_loss).sum()\n",
        "    value_loss.backward(retain_graph=True)\n",
        "    value_optimizer.step()\n",
        "\n",
        "    value_loss = value_loss.detach()\n",
        "\n",
        "    del model.rewards[:]\n",
        "    del model.saved_actions[:]\n",
        "    del value_model.state_values[:]\n"
      ],
      "metadata": {
        "id": "PoSHGfvR2S2T"
      },
      "execution_count": 8,
      "outputs": []
    },
    {
      "cell_type": "markdown",
      "source": [
        "### Training"
      ],
      "metadata": {
        "id": "S1KsOyBmqiuX"
      }
    },
    {
      "cell_type": "code",
      "execution_count": 9,
      "metadata": {
        "id": "hdUB0QoIghNC"
      },
      "outputs": [],
      "source": [
        "def train(episodes):\n",
        "    running_reward = -500  # Initialize running reward\n",
        "\n",
        "    # Keep track of the rewards for plotting\n",
        "    reward_history = []\n",
        "\n",
        "    # Run infinitely many episodes\n",
        "    for episode in range(episodes):\n",
        "\n",
        "        # Reset environment and episode reward\n",
        "        state = env.reset()\n",
        "        ep_reward = 0\n",
        "\n",
        "        # For each episode, only run 9999 steps to avoid infinite loop\n",
        "        for t in range(1, 10000):\n",
        "\n",
        "            # Select action\n",
        "            action, log_prob, state_value = select_action(state)\n",
        "\n",
        "            # Take action\n",
        "            state, reward, done, _ = env.step(action)\n",
        "\n",
        "            # Save reward and state value\n",
        "            model.rewards.append(reward)\n",
        "            value_model.state_values.append(state_value)\n",
        "\n",
        "            ep_reward += reward\n",
        "\n",
        "            if done:\n",
        "                break\n",
        "\n",
        "        # Update cumulative reward\n",
        "        running_reward = 0.05 * ep_reward + (1 - 0.05) * running_reward\n",
        "\n",
        "        # Store the reward\n",
        "        reward_history.append(running_reward)\n",
        "\n",
        "        # Perform policy update\n",
        "        finish_episode()\n",
        "\n",
        "        # Log results\n",
        "        if episode % log_interval == 0:\n",
        "            print('Episode {}\\tLast reward: {:.2f}\\tAverage reward: {:.2f}'.format(\n",
        "                episode, ep_reward, running_reward))\n",
        "\n",
        "        # Check if the problem is solved\n",
        "        if running_reward > env.spec.reward_threshold:\n",
        "            print(\"Solved! Running reward is now {} and the last episode ({}) runs to {} time steps!\".format(running_reward, episode, t))\n",
        "            break\n",
        "\n",
        "    return reward_history"
      ]
    },
    {
      "cell_type": "markdown",
      "source": [
        "## Commence Training"
      ],
      "metadata": {
        "id": "HQvCiAzKqk8L"
      }
    },
    {
      "cell_type": "code",
      "execution_count": 10,
      "metadata": {
        "colab": {
          "base_uri": "https://localhost:8080/"
        },
        "id": "Jm8z_1TLghND",
        "outputId": "1c5fce21-ab94-43b6-968c-c253860796b6"
      },
      "outputs": [
        {
          "output_type": "stream",
          "name": "stderr",
          "text": [
            "/usr/local/lib/python3.10/dist-packages/gym/utils/passive_env_checker.py:241: DeprecationWarning: `np.bool8` is a deprecated alias for `np.bool_`.  (Deprecated NumPy 1.24)\n",
            "  if not isinstance(terminated, (bool, np.bool8)):\n",
            "<ipython-input-8-ee50b5fc0a4d>:10: UserWarning: Using a target size (torch.Size([])) that is different to the input size (torch.Size([1])). This will likely lead to incorrect results due to broadcasting. Please ensure they have the same size.\n",
            "  value_loss.append(F.smooth_l1_loss(state_value, G))\n"
          ]
        },
        {
          "output_type": "stream",
          "name": "stdout",
          "text": [
            "Episode 0\tLast reward: -500.00\tAverage reward: -500.00\n",
            "Episode 10\tLast reward: -422.00\tAverage reward: -447.66\n",
            "Episode 20\tLast reward: -193.00\tAverage reward: -376.95\n",
            "Episode 30\tLast reward: -158.00\tAverage reward: -311.65\n",
            "Episode 40\tLast reward: -162.00\tAverage reward: -259.91\n",
            "Episode 50\tLast reward: -129.00\tAverage reward: -230.39\n",
            "Episode 60\tLast reward: -125.00\tAverage reward: -197.01\n",
            "Episode 70\tLast reward: -177.00\tAverage reward: -177.77\n",
            "Episode 80\tLast reward: -159.00\tAverage reward: -167.13\n",
            "Episode 90\tLast reward: -143.00\tAverage reward: -156.55\n",
            "Episode 100\tLast reward: -302.00\tAverage reward: -179.77\n",
            "Episode 110\tLast reward: -249.00\tAverage reward: -199.52\n",
            "Episode 120\tLast reward: -195.00\tAverage reward: -246.47\n",
            "Episode 130\tLast reward: -108.00\tAverage reward: -232.12\n",
            "Episode 140\tLast reward: -281.00\tAverage reward: -231.08\n",
            "Episode 150\tLast reward: -201.00\tAverage reward: -211.39\n",
            "Episode 160\tLast reward: -263.00\tAverage reward: -211.22\n",
            "Episode 170\tLast reward: -153.00\tAverage reward: -195.80\n",
            "Episode 180\tLast reward: -155.00\tAverage reward: -191.38\n",
            "Episode 190\tLast reward: -116.00\tAverage reward: -184.08\n",
            "Episode 200\tLast reward: -256.00\tAverage reward: -178.52\n",
            "Episode 210\tLast reward: -241.00\tAverage reward: -173.51\n",
            "Episode 220\tLast reward: -205.00\tAverage reward: -162.86\n",
            "Episode 230\tLast reward: -226.00\tAverage reward: -156.57\n",
            "Episode 240\tLast reward: -124.00\tAverage reward: -160.49\n",
            "Episode 250\tLast reward: -141.00\tAverage reward: -154.00\n",
            "Episode 260\tLast reward: -147.00\tAverage reward: -153.48\n",
            "Episode 270\tLast reward: -175.00\tAverage reward: -154.21\n",
            "Episode 280\tLast reward: -117.00\tAverage reward: -150.44\n",
            "Episode 290\tLast reward: -139.00\tAverage reward: -143.79\n",
            "Episode 300\tLast reward: -130.00\tAverage reward: -141.18\n",
            "Episode 310\tLast reward: -125.00\tAverage reward: -151.13\n",
            "Episode 320\tLast reward: -170.00\tAverage reward: -166.11\n",
            "Episode 330\tLast reward: -150.00\tAverage reward: -160.38\n",
            "Episode 340\tLast reward: -129.00\tAverage reward: -156.12\n",
            "Episode 350\tLast reward: -168.00\tAverage reward: -159.74\n",
            "Episode 360\tLast reward: -136.00\tAverage reward: -155.57\n",
            "Episode 370\tLast reward: -132.00\tAverage reward: -151.36\n",
            "Episode 380\tLast reward: -158.00\tAverage reward: -165.49\n",
            "Episode 390\tLast reward: -195.00\tAverage reward: -171.84\n",
            "Episode 400\tLast reward: -132.00\tAverage reward: -162.76\n",
            "Episode 410\tLast reward: -153.00\tAverage reward: -157.95\n",
            "Episode 420\tLast reward: -197.00\tAverage reward: -156.81\n",
            "Episode 430\tLast reward: -150.00\tAverage reward: -152.99\n",
            "Episode 440\tLast reward: -136.00\tAverage reward: -147.47\n",
            "Episode 450\tLast reward: -115.00\tAverage reward: -145.17\n",
            "Episode 460\tLast reward: -127.00\tAverage reward: -144.19\n",
            "Episode 470\tLast reward: -124.00\tAverage reward: -144.99\n",
            "Episode 480\tLast reward: -140.00\tAverage reward: -140.24\n",
            "Episode 490\tLast reward: -120.00\tAverage reward: -148.29\n",
            "Episode 500\tLast reward: -152.00\tAverage reward: -144.52\n",
            "Episode 510\tLast reward: -223.00\tAverage reward: -146.43\n",
            "Episode 520\tLast reward: -208.00\tAverage reward: -144.51\n",
            "Episode 530\tLast reward: -155.00\tAverage reward: -142.37\n",
            "Episode 540\tLast reward: -131.00\tAverage reward: -162.01\n",
            "Episode 550\tLast reward: -145.00\tAverage reward: -150.46\n",
            "Episode 560\tLast reward: -146.00\tAverage reward: -145.75\n",
            "Episode 570\tLast reward: -140.00\tAverage reward: -150.26\n",
            "Episode 580\tLast reward: -138.00\tAverage reward: -142.97\n",
            "Episode 590\tLast reward: -121.00\tAverage reward: -134.82\n",
            "Episode 600\tLast reward: -131.00\tAverage reward: -134.11\n",
            "Episode 610\tLast reward: -164.00\tAverage reward: -135.75\n",
            "Episode 620\tLast reward: -83.00\tAverage reward: -118.95\n",
            "Episode 630\tLast reward: -65.00\tAverage reward: -107.19\n",
            "Solved! Running reward is now -99.56031517671987 and the last episode (637) runs to 73 time steps!\n"
          ]
        }
      ],
      "source": [
        "reward_history = train(2000)"
      ]
    },
    {
      "cell_type": "markdown",
      "source": [
        "## Reward History Plot During Training"
      ],
      "metadata": {
        "id": "aQcXL98BruAO"
      }
    },
    {
      "cell_type": "code",
      "source": [
        "# Plot the reward history\n",
        "\n",
        "plt.plot(reward_history)\n",
        "plt.title('Reward history in Acrobot-v1')\n",
        "plt.xlabel('Episode')\n",
        "plt.ylabel('Reward')\n",
        "plt.legend(['Running Reward'])\n",
        "plt.show()"
      ],
      "metadata": {
        "id": "8ykwEUodSzsB",
        "colab": {
          "base_uri": "https://localhost:8080/",
          "height": 472
        },
        "outputId": "66b2c68f-0ab8-4684-c936-9029d1b89a17"
      },
      "execution_count": 11,
      "outputs": [
        {
          "output_type": "display_data",
          "data": {
            "text/plain": [
              "<Figure size 640x480 with 1 Axes>"
            ],
            "image/png": "[encoded data removed]"
          },
          "metadata": {}
        }
      ]
    },
    {
      "cell_type": "markdown",
      "source": [
        "## Save Model"
      ],
      "metadata": {
        "id": "D-y2b0QAqpka"
      }
    },
    {
      "cell_type": "code",
      "source": [
        "torch.save(model, 'REINFORCEB_Acrobot_v1.pth')"
      ],
      "metadata": {
        "id": "DhRvdREXs90I"
      },
      "execution_count": 12,
      "outputs": []
    },
    {
      "cell_type": "markdown",
      "source": [
        "## Evaluation of the Model"
      ],
      "metadata": {
        "id": "bHgSD4Qh_2ci"
      }
    },
    {
      "cell_type": "code",
      "source": [
        "# Evaluate the policy using total regret\n",
        "\n",
        "def calculate_total_regret(episodes):\n",
        "    \"\"\"\n",
        "    Evaluate the policy using total regret.\n",
        "    \"\"\"\n",
        "    total_regret = 0\n",
        "\n",
        "    # Use reward history to calculate total regret\n",
        "    for reward in reward_history:\n",
        "        total_regret += env.spec.reward_threshold - reward\n",
        "\n",
        "    return total_regret"
      ],
      "metadata": {
        "colab": {
          "base_uri": "https://localhost:8080/"
        },
        "id": "15dCFkzRLSBK",
        "outputId": "a5d926b8-51f5-42c5-9eb3-19f13990b366"
      },
      "execution_count": 34,
      "outputs": [
        {
          "output_type": "stream",
          "name": "stderr",
          "text": [
            "/usr/local/lib/python3.10/dist-packages/ipykernel/ipkernel.py:283: DeprecationWarning: `should_run_async` will not call `transform_cell` automatically in the future. Please pass the result to `transformed_cell` argument and any exception that happen during thetransform in `preprocessing_exc_tuple` in IPython 7.17 and above.\n",
            "  and should_run_async(code)\n"
          ]
        }
      ]
    },
    {
      "cell_type": "markdown",
      "source": [
        "## Hyperparameter Tuning"
      ],
      "metadata": {
        "id": "mzUDGHAM-6Ju"
      }
    },
    {
      "cell_type": "code",
      "source": [
        "# Hyperparameter tuning\n",
        "\n",
        "# Set the hyperparameters\n",
        "hyperparameters = {\n",
        "    'lr': [1e-2, 1e-3, 1e-4],\n",
        "    'num_h_nodes': [32, 64, 128]\n",
        "}\n",
        "\n",
        "env.reset(seed=seed)\n",
        "torch.manual_seed(seed)\n",
        "log_interval = 100\n",
        "episodes = 2000\n",
        "best_total_regret = float('inf')\n",
        "best_hyperparameters = {}\n",
        "best_episodes = 2000\n",
        "regret_storage = []\n",
        "reward_history_storage = np.zeros((len(hyperparameters['lr']), len(hyperparameters['num_h_nodes']), episodes))\n",
        "\n",
        "# Loop through the hyperparameters\n",
        "for lr in hyperparameters['lr']:\n",
        "    for num_h_nodes in hyperparameters['num_h_nodes']:\n",
        "\n",
        "        # Set the hyperparameters\n",
        "        model = Policy()\n",
        "        value_model = ValueFunction()\n",
        "        optimizer = optim.Adam(model.parameters(), lr=lr)\n",
        "        value_optimizer = optim.Adam(value_model.parameters(), lr=lr)\n",
        "\n",
        "        # Train the model\n",
        "        reward_history = train(episodes)\n",
        "        len_episodes = len(reward_history)\n",
        "        reward_history += [env.spec.reward_threshold] * (episodes - len(reward_history))\n",
        "        reward_history_storage[hyperparameters['lr'].index(lr), hyperparameters['num_h_nodes'].index(num_h_nodes), :] = reward_history\n",
        "\n",
        "        # Calculate the total regret\n",
        "        total_regret = calculate_total_regret(episodes)\n",
        "\n",
        "        # Store the total regret\n",
        "        regret_storage.append([lr, num_h_nodes, total_regret])\n",
        "\n",
        "        # Check if this is the best total regret\n",
        "        if total_regret < best_total_regret:\n",
        "            best_total_regret = total_regret\n",
        "            best_hyperparameters = {'lr': lr, 'num_h_nodes': num_h_nodes}\n",
        "            best_episodes = len_episodes"
      ],
      "metadata": {
        "colab": {
          "base_uri": "https://localhost:8080/",
          "height": 1000
        },
        "id": "EDVnvdMcCKSC",
        "outputId": "e1ba876b-dadf-4007-e11e-410ec8452120"
      },
      "execution_count": 42,
      "outputs": [
        {
          "output_type": "stream",
          "name": "stderr",
          "text": [
            "<ipython-input-8-ee50b5fc0a4d>:10: UserWarning: Using a target size (torch.Size([])) that is different to the input size (torch.Size([1])). This will likely lead to incorrect results due to broadcasting. Please ensure they have the same size.\n",
            "  value_loss.append(F.smooth_l1_loss(state_value, G))\n"
          ]
        },
        {
          "output_type": "stream",
          "name": "stdout",
          "text": [
            "Episode 0\tLast reward: -500.00\tAverage reward: -500.00\n",
            "Episode 10\tLast reward: -422.00\tAverage reward: -447.66\n",
            "Episode 20\tLast reward: -193.00\tAverage reward: -376.95\n",
            "Episode 30\tLast reward: -158.00\tAverage reward: -311.65\n",
            "Episode 40\tLast reward: -162.00\tAverage reward: -259.91\n",
            "Episode 50\tLast reward: -129.00\tAverage reward: -230.39\n",
            "Episode 60\tLast reward: -125.00\tAverage reward: -197.01\n",
            "Episode 70\tLast reward: -177.00\tAverage reward: -177.77\n",
            "Episode 80\tLast reward: -159.00\tAverage reward: -167.13\n",
            "Episode 90\tLast reward: -143.00\tAverage reward: -156.55\n",
            "Episode 100\tLast reward: -302.00\tAverage reward: -179.77\n",
            "Episode 110\tLast reward: -249.00\tAverage reward: -199.52\n",
            "Episode 120\tLast reward: -195.00\tAverage reward: -246.47\n",
            "Episode 130\tLast reward: -108.00\tAverage reward: -232.12\n",
            "Episode 140\tLast reward: -281.00\tAverage reward: -231.08\n",
            "Episode 150\tLast reward: -201.00\tAverage reward: -211.39\n",
            "Episode 160\tLast reward: -263.00\tAverage reward: -211.22\n",
            "Episode 170\tLast reward: -153.00\tAverage reward: -195.80\n",
            "Episode 180\tLast reward: -155.00\tAverage reward: -191.38\n",
            "Episode 190\tLast reward: -116.00\tAverage reward: -184.08\n",
            "Episode 200\tLast reward: -256.00\tAverage reward: -178.52\n",
            "Episode 210\tLast reward: -241.00\tAverage reward: -173.51\n",
            "Episode 220\tLast reward: -205.00\tAverage reward: -162.86\n",
            "Episode 230\tLast reward: -226.00\tAverage reward: -156.57\n",
            "Episode 240\tLast reward: -124.00\tAverage reward: -160.49\n",
            "Episode 250\tLast reward: -141.00\tAverage reward: -154.00\n",
            "Episode 260\tLast reward: -147.00\tAverage reward: -153.48\n",
            "Episode 270\tLast reward: -175.00\tAverage reward: -154.21\n",
            "Episode 280\tLast reward: -117.00\tAverage reward: -150.44\n",
            "Episode 290\tLast reward: -139.00\tAverage reward: -143.79\n",
            "Episode 300\tLast reward: -130.00\tAverage reward: -141.18\n",
            "Episode 310\tLast reward: -125.00\tAverage reward: -151.13\n",
            "Episode 320\tLast reward: -170.00\tAverage reward: -166.11\n",
            "Episode 330\tLast reward: -150.00\tAverage reward: -160.38\n",
            "Episode 340\tLast reward: -129.00\tAverage reward: -156.12\n",
            "Episode 350\tLast reward: -168.00\tAverage reward: -159.74\n",
            "Episode 360\tLast reward: -136.00\tAverage reward: -155.57\n",
            "Episode 370\tLast reward: -132.00\tAverage reward: -151.36\n",
            "Episode 380\tLast reward: -158.00\tAverage reward: -165.49\n",
            "Episode 390\tLast reward: -195.00\tAverage reward: -171.84\n",
            "Episode 400\tLast reward: -132.00\tAverage reward: -162.76\n",
            "Episode 410\tLast reward: -153.00\tAverage reward: -157.95\n",
            "Episode 420\tLast reward: -197.00\tAverage reward: -156.81\n",
            "Episode 430\tLast reward: -150.00\tAverage reward: -152.99\n",
            "Episode 440\tLast reward: -136.00\tAverage reward: -147.47\n",
            "Episode 450\tLast reward: -115.00\tAverage reward: -145.17\n",
            "Episode 460\tLast reward: -127.00\tAverage reward: -144.19\n",
            "Episode 470\tLast reward: -124.00\tAverage reward: -144.99\n",
            "Episode 480\tLast reward: -140.00\tAverage reward: -140.24\n",
            "Episode 490\tLast reward: -120.00\tAverage reward: -148.29\n",
            "Episode 500\tLast reward: -152.00\tAverage reward: -144.52\n",
            "Episode 510\tLast reward: -223.00\tAverage reward: -146.43\n",
            "Episode 520\tLast reward: -208.00\tAverage reward: -144.51\n",
            "Episode 530\tLast reward: -155.00\tAverage reward: -142.37\n",
            "Episode 540\tLast reward: -131.00\tAverage reward: -162.01\n",
            "Episode 550\tLast reward: -145.00\tAverage reward: -150.46\n",
            "Episode 560\tLast reward: -146.00\tAverage reward: -145.75\n",
            "Episode 570\tLast reward: -140.00\tAverage reward: -150.26\n",
            "Episode 580\tLast reward: -138.00\tAverage reward: -142.97\n",
            "Episode 590\tLast reward: -121.00\tAverage reward: -134.82\n",
            "Episode 600\tLast reward: -131.00\tAverage reward: -134.11\n",
            "Episode 610\tLast reward: -164.00\tAverage reward: -135.75\n",
            "Episode 620\tLast reward: -83.00\tAverage reward: -118.95\n",
            "Episode 630\tLast reward: -65.00\tAverage reward: -107.19\n",
            "Solved! Running reward is now -99.56031517671987 and the last episode (637) runs to 73 time steps!\n",
            "Episode 0\tLast reward: -500.00\tAverage reward: -500.00\n"
          ]
        },
        {
          "output_type": "error",
          "ename": "KeyboardInterrupt",
          "evalue": "",
          "traceback": [
            "\u001b[0;31m---------------------------------------------------------------------------\u001b[0m",
            "\u001b[0;31mKeyboardInterrupt\u001b[0m                         Traceback (most recent call last)",
            "\u001b[0;32m<ipython-input-42-8762980395dc>\u001b[0m in \u001b[0;36m<cell line: 20>\u001b[0;34m()\u001b[0m\n\u001b[1;32m     28\u001b[0m \u001b[0;34m\u001b[0m\u001b[0m\n\u001b[1;32m     29\u001b[0m         \u001b[0;31m# Train the model\u001b[0m\u001b[0;34m\u001b[0m\u001b[0;34m\u001b[0m\u001b[0m\n\u001b[0;32m---> 30\u001b[0;31m         \u001b[0mreward_history\u001b[0m \u001b[0;34m=\u001b[0m \u001b[0mtrain\u001b[0m\u001b[0;34m(\u001b[0m\u001b[0mepisodes\u001b[0m\u001b[0;34m)\u001b[0m\u001b[0;34m\u001b[0m\u001b[0;34m\u001b[0m\u001b[0m\n\u001b[0m\u001b[1;32m     31\u001b[0m         \u001b[0mreward_history\u001b[0m \u001b[0;34m+=\u001b[0m \u001b[0;34m[\u001b[0m\u001b[0menv\u001b[0m\u001b[0;34m.\u001b[0m\u001b[0mspec\u001b[0m\u001b[0;34m.\u001b[0m\u001b[0mreward_threshold\u001b[0m\u001b[0;34m]\u001b[0m \u001b[0;34m*\u001b[0m \u001b[0;34m(\u001b[0m\u001b[0mepisodes\u001b[0m \u001b[0;34m-\u001b[0m \u001b[0mlen\u001b[0m\u001b[0;34m(\u001b[0m\u001b[0mreward_history\u001b[0m\u001b[0;34m)\u001b[0m\u001b[0;34m)\u001b[0m\u001b[0;34m\u001b[0m\u001b[0;34m\u001b[0m\u001b[0m\n\u001b[1;32m     32\u001b[0m         \u001b[0mreward_history_storage\u001b[0m\u001b[0;34m[\u001b[0m\u001b[0mhyperparameters\u001b[0m\u001b[0;34m[\u001b[0m\u001b[0;34m'lr'\u001b[0m\u001b[0;34m]\u001b[0m\u001b[0;34m.\u001b[0m\u001b[0mindex\u001b[0m\u001b[0;34m(\u001b[0m\u001b[0mlr\u001b[0m\u001b[0;34m)\u001b[0m\u001b[0;34m,\u001b[0m \u001b[0mhyperparameters\u001b[0m\u001b[0;34m[\u001b[0m\u001b[0;34m'num_h_nodes'\u001b[0m\u001b[0;34m]\u001b[0m\u001b[0;34m.\u001b[0m\u001b[0mindex\u001b[0m\u001b[0;34m(\u001b[0m\u001b[0mnum_h_nodes\u001b[0m\u001b[0;34m)\u001b[0m\u001b[0;34m,\u001b[0m \u001b[0;34m:\u001b[0m\u001b[0;34m]\u001b[0m \u001b[0;34m=\u001b[0m \u001b[0mreward_history\u001b[0m\u001b[0;34m\u001b[0m\u001b[0;34m\u001b[0m\u001b[0m\n",
            "\u001b[0;32m<ipython-input-9-51370e3b299e>\u001b[0m in \u001b[0;36mtrain\u001b[0;34m(episodes)\u001b[0m\n\u001b[1;32m     37\u001b[0m \u001b[0;34m\u001b[0m\u001b[0m\n\u001b[1;32m     38\u001b[0m         \u001b[0;31m# Perform policy update\u001b[0m\u001b[0;34m\u001b[0m\u001b[0;34m\u001b[0m\u001b[0m\n\u001b[0;32m---> 39\u001b[0;31m         \u001b[0mfinish_episode\u001b[0m\u001b[0;34m(\u001b[0m\u001b[0;34m)\u001b[0m\u001b[0;34m\u001b[0m\u001b[0;34m\u001b[0m\u001b[0m\n\u001b[0m\u001b[1;32m     40\u001b[0m \u001b[0;34m\u001b[0m\u001b[0m\n\u001b[1;32m     41\u001b[0m         \u001b[0;31m# Log results\u001b[0m\u001b[0;34m\u001b[0m\u001b[0;34m\u001b[0m\u001b[0m\n",
            "\u001b[0;31mKeyboardInterrupt\u001b[0m: "
          ]
        }
      ]
    },
    {
      "cell_type": "code",
      "source": [
        "# Print the best hyperparameters\n",
        "print('Best hyperparameters:', best_hyperparameters)\n",
        "print('Best total regret:', best_total_regret)"
      ],
      "metadata": {
        "colab": {
          "base_uri": "https://localhost:8080/"
        },
        "id": "ej_43BAzCMTQ",
        "outputId": "34d808be-0c37-4bc6-8fb5-6d56bd32fbef"
      },
      "execution_count": 43,
      "outputs": [
        {
          "output_type": "stream",
          "name": "stdout",
          "text": [
            "Best hyperparameters: {'lr': 0.01, 'num_h_nodes': 64}\n",
            "Best total regret: 49482.354011642194\n"
          ]
        }
      ]
    },
    {
      "cell_type": "code",
      "source": [
        "# Plot the reward history for the best hyperparameters\n",
        "\n",
        "plt.plot(reward_history_storage[hyperparameters['lr'].index(best_hyperparameters['lr']), hyperparameters['num_h_nodes'].index(best_hyperparameters['num_h_nodes']), :best_episodes])\n",
        "plt.title('Reward history for the best hyperparameters')\n",
        "plt.xlabel('Episode')\n",
        "plt.ylabel('Reward')\n",
        "plt.legend(['lr: {}, num_h_nodes: {}'.format(best_hyperparameters['lr'], best_hyperparameters['num_h_nodes'])])\n",
        "plt.show()"
      ],
      "metadata": {
        "colab": {
          "base_uri": "https://localhost:8080/",
          "height": 472
        },
        "id": "R_5GvnhXCOYi",
        "outputId": "7852f168-d4e9-4d56-cf33-a6b1a2bfc425"
      },
      "execution_count": 44,
      "outputs": [
        {
          "output_type": "display_data",
          "data": {
            "text/plain": [
              "<Figure size 640x480 with 1 Axes>"
            ],
            "image/png": "[encoded data removed]"
          },
          "metadata": {}
        }
      ]
    }
  ],
  "metadata": {
    "kernelspec": {
      "display_name": "Python 3",
      "language": "python",
      "name": "python3"
    },
    "language_info": {
      "codemirror_mode": {
        "name": "ipython",
        "version": 3
      },
      "file_extension": ".py",
      "mimetype": "text/x-python",
      "name": "python",
      "nbconvert_exporter": "python",
      "pygments_lexer": "ipython3",
      "version": "3.11.2"
    },
    "colab": {
      "provenance": []
    }
  },
  "nbformat": 4,
  "nbformat_minor": 0
}